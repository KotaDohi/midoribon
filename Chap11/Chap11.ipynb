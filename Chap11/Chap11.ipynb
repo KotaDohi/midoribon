{
 "cells": [
  {
   "cell_type": "markdown",
   "metadata": {},
   "source": [
    "# 11. 空間構造のある階層ベイズモデル"
   ]
  },
  {
   "cell_type": "markdown",
   "metadata": {},
   "source": [
    "* これまでの章で場所差(植木鉢差）を組み込んだ統計モデルを作っていたが、場所差はそれぞれ独立に決まることを前提としており、「空間構造」はないもの、考えなくて良いものとしてきた。\n",
    "* しかし現実では、「データを取る場所の空間配置の影響」を無視できない場合もある。\n",
    "* この章では、場所差の空間相関も考慮する統計モデリングについて説明する。\n",
    "    * 空間相関とは距離の遠近に依存して、二つの場所の「類似性」みたいなものが弱くなったり、強くなったりする傾向。"
   ]
  },
  {
   "cell_type": "markdown",
   "metadata": {},
   "source": [
    "## 11.1. 例題：1次元空間上の個体数分布"
   ]
  },
  {
   "cell_type": "markdown",
   "metadata": {},
   "source": [
    "### 例題"
   ]
  },
  {
   "cell_type": "markdown",
   "metadata": {},
   "source": [
    "* 調査区画を50個設定。それが1本の直線の上に等間隔に配置されている。(一次元)\n",
    "* その区画での生物の個体数を記録。\n",
    "* 調査区画$j$で観察された個体数$y_j$は図11.2で記録。\n",
    "* 架空データ{$y_j$}は場所$j$ごとに平均の異なるポアソン乱数として発生させたものであり、その平均は図11.2の破線の曲線(局所密度)。\n",
    "* 局所密度は何らかの理由でなだらかに変化しており、近くにある$y_j$同士は近い値(空間相関)\n",
    "* 図11.2の白丸を与えられれば、局所密度が場所ごとに異なること、局所密度がなだらかに変化していること、は想像できるだろう。"
   ]
  },
  {
   "cell_type": "code",
   "execution_count": 1,
   "metadata": {
    "collapsed": true
   },
   "outputs": [],
   "source": [
    "import numpy as np\n",
    "import pandas as pd\n",
    "import matplotlib.pyplot as plt\n",
    "import pystan\n",
    "\n",
    "%matplotlib inline\n",
    "\n",
    "df = pd.read_csv(\"./input/Y.csv\",index_col=0)"
   ]
  },
  {
   "cell_type": "code",
   "execution_count": 2,
   "metadata": {},
   "outputs": [
    {
     "data": {
      "text/html": [
       "<div>\n",
       "<style>\n",
       "    .dataframe thead tr:only-child th {\n",
       "        text-align: right;\n",
       "    }\n",
       "\n",
       "    .dataframe thead th {\n",
       "        text-align: left;\n",
       "    }\n",
       "\n",
       "    .dataframe tbody tr th {\n",
       "        vertical-align: top;\n",
       "    }\n",
       "</style>\n",
       "<table border=\"1\" class=\"dataframe\">\n",
       "  <thead>\n",
       "    <tr style=\"text-align: right;\">\n",
       "      <th></th>\n",
       "      <th>x</th>\n",
       "    </tr>\n",
       "  </thead>\n",
       "  <tbody>\n",
       "    <tr>\n",
       "      <th>1</th>\n",
       "      <td>0</td>\n",
       "    </tr>\n",
       "    <tr>\n",
       "      <th>2</th>\n",
       "      <td>3</td>\n",
       "    </tr>\n",
       "    <tr>\n",
       "      <th>3</th>\n",
       "      <td>2</td>\n",
       "    </tr>\n",
       "    <tr>\n",
       "      <th>4</th>\n",
       "      <td>5</td>\n",
       "    </tr>\n",
       "    <tr>\n",
       "      <th>5</th>\n",
       "      <td>6</td>\n",
       "    </tr>\n",
       "  </tbody>\n",
       "</table>\n",
       "</div>"
      ],
      "text/plain": [
       "   x\n",
       "1  0\n",
       "2  3\n",
       "3  2\n",
       "4  5\n",
       "5  6"
      ]
     },
     "execution_count": 2,
     "metadata": {},
     "output_type": "execute_result"
    }
   ],
   "source": [
    "df.head()"
   ]
  },
  {
   "cell_type": "code",
   "execution_count": 3,
   "metadata": {},
   "outputs": [
    {
     "data": {
      "text/plain": [
       "<Container object of 50 artists>"
      ]
     },
     "execution_count": 3,
     "metadata": {},
     "output_type": "execute_result"
    },
    {
     "data": {
      "image/png": "[encoded data removed]",
      "text/plain": [
       "<matplotlib.figure.Figure at 0x10b0c83c8>"
      ]
     },
     "metadata": {},
     "output_type": "display_data"
    }
   ],
   "source": [
    "plt.bar(df.index,df.x)"
   ]
  },
  {
   "cell_type": "code",
   "execution_count": 4,
   "metadata": {},
   "outputs": [
    {
     "data": {
      "text/plain": [
       "10.880000000000001"
      ]
     },
     "execution_count": 4,
     "metadata": {},
     "output_type": "execute_result"
    }
   ],
   "source": [
    "df.x.mean()"
   ]
  },
  {
   "cell_type": "code",
   "execution_count": 5,
   "metadata": {},
   "outputs": [
    {
     "data": {
      "text/plain": [
       "27.373061224489792"
      ]
     },
     "execution_count": 5,
     "metadata": {},
     "output_type": "execute_result"
    }
   ],
   "source": [
    "df.x.var()"
   ]
  },
  {
   "cell_type": "markdown",
   "metadata": {},
   "source": [
    "## 11.2. 階層ベイズモデルに空間構造を組み込む"
   ]
  },
  {
   "cell_type": "markdown",
   "metadata": {},
   "source": [
    "### この例題の目的"
   ]
  },
  {
   "cell_type": "markdown",
   "metadata": {},
   "source": [
    "* 観測データ{$y_j$}に基づいて、位置によって変化する局所密度を構成できるような統計モデルを作ること"
   ]
  },
  {
   "cell_type": "markdown",
   "metadata": {},
   "source": [
    "1. 各調査区画で観測された個体数がどんな確率分布で表現できるかを考える。\n",
    "    * 全ての調査区画で共通する平均値$\\lambda$のポアソン分布に従うとする。\n",
    "    $$\n",
    "    p(y_j | \\lambda) = \\frac {\\lambda^{y_j} exp(-\\lambda)} {y_j!}\n",
    "    $$\n",
    "2. 上記で仮定するなら平均値$\\lambda$は標本平均と等しいとして良い。また、ポアソン分布の分散は平均と等しい。\n",
    "3. すると、平均10.9に対し、分散27.4となり、標本平均の3倍ほど。このデータは過分散であるとわかる。また、図11.2では個体数$y_j$が位置によって変化しており、「$\\lambda$はどの$j$でも同じ」という仮定も成立していないよう。単純にポアソン分布では統計モデル化できない。\n",
    "4.　何らかの形で場所差を組み込む。区間$j$ごとに平均$\\lambda_j$が異なるとする。\n",
    "5. しかし区画ごとにパラメータを最尤推定するのは、単なる「データの読み上げ」と同じ。\n",
    "6. そこで全体に共通する大域的な密度と、局所的な差異を同時に組み込むために、平均個体数$\\lambda_j$を線形予測しと対数リンク関数を使って、以下のように表す。\n",
    "$$\n",
    "\\log \\lambda_j = \\beta + r_j\n",
    "$$\n",
    "    * 切片$\\beta$は大域的なパラメータ。全ての場所に同じ影響\n",
    "    * 場所差$r_j$は局所的。区間$j$のデータだけを説明する。\n",
    "7. $\\beta$のような大域的なパラメータの事前分布には無情報事前分布、{$r_j$}の事前分布には階層事前分布を指定する。"
   ]
  },
  {
   "cell_type": "markdown",
   "metadata": {},
   "source": [
    "### 11.2.1. 空間構造のない階層事前分布"
   ]
  },
  {
   "cell_type": "markdown",
   "metadata": {},
   "source": [
    "* 10章で使ったような階層事前分布(下記)では、どれも独立に同じ事前分布(平均ゼロ、標準偏差$s$の正規分布を仮定してることになり、空間相関がありそうな状況には適さない。\n",
    "$$\n",
    "p(r_j|s)= \\frac {1} {\\sqrt {2 \\pi s^2}} \\exp \\left(-\\frac {r_j^2}{2s^2}\\right)\n",
    "$$"
   ]
  },
  {
   "cell_type": "markdown",
   "metadata": {},
   "source": [
    "### 11.2.2. 空間構造のある階層事前分布"
   ]
  },
  {
   "cell_type": "markdown",
   "metadata": {},
   "source": [
    "#### 仮定をもうけ簡単にする"
   ]
  },
  {
   "cell_type": "markdown",
   "metadata": {},
   "source": [
    "* 区間の場所差は「近傍」区画の場所差にしか影響されない\n",
    "* 区画$j$の近傍の個数$n_j$は有限個であり、どの区画が近傍であるかはモデル設計者が指定\n",
    "    * すぐ隣の区画のみが近傍とする。($n_j$は2)\n",
    "    * 左右の両端では近傍区間は一つなので、$n_1$と$n_{50}$は1\n",
    "* 近傍の直接の影響はどれも等しく,$1/n_j$"
   ]
  },
  {
   "cell_type": "markdown",
   "metadata": {},
   "source": [
    "#### 上記の仮定に基いて事前分布の設定"
   ]
  },
  {
   "cell_type": "markdown",
   "metadata": {},
   "source": [
    "* 上記の仮定に基づき、$r_j$の条件付き事前分布を以下のような正規分布とする。\n",
    "    * 標準偏差は$\\frac {s}{\\sqrt{n_j}}$であると指定。\n",
    "        * (滝沢不明) $\\sqrt{n_j}$で割る理由。端のばらつきを減らす効果。\n",
    "    * ばらつきのパラメータ$s$はどの場所でも同じと仮定。\n",
    "$$\n",
    "p(r_j | \\mu_j,s) = \\sqrt{ \\frac {n_j}{2\\pi s^2}} \\exp \\left\\{ - \\frac {(r_j - \\mu_j)^2} {2s^2/n_j}\\right\\}\n",
    "$$\n",
    "* 正規分布の平均$\\mu_j$は近傍である$r_{j-1}$と$r_{j+1}$の平均値に等しいとする。\n",
    "    * 両端は$\\mu_1=r_2,\\mu_{50}=r_{49}$とする。\n",
    "$$\n",
    "\\mu_j = \\frac {r_{j-1} + r_{j+1}} {2}\n",
    "$$"
   ]
  },
  {
   "cell_type": "markdown",
   "metadata": {},
   "source": [
    "* このような事前分布は条件付き自己回帰モデルと呼ばれる。\n",
    "    * {$r_j$}の事前分布のように様々な制約をつけて簡単にしたものは、instrinsic Gaussian CARモデルと分類される。\n",
    "* この場所差{$r_j$}全体の事前分布である同時分布$p(\\{r_j\\}|s)$は以下のようにかける。\n",
    "$$\n",
    "p(\\{r_j\\} | s) \\propto \\exp \\left\\{ -\\frac {1}{2s^2} \\sum_{j \\sim j'} (r_j-r_{j'})^2 \\right\\}\n",
    "$$"
   ]
  },
  {
   "cell_type": "markdown",
   "metadata": {},
   "source": [
    "## 11.3. 空間統計モデルをデータに当てはめる"
   ]
  },
  {
   "cell_type": "markdown",
   "metadata": {},
   "source": [
    "#### 事後分布について考える"
   ]
  },
  {
   "cell_type": "markdown",
   "metadata": {
    "collapsed": true
   },
   "source": [
    "* 事後分布は以下のようにする\n",
    "$$\n",
    "p(\\beta,s,\\{r_j\\} | {\\bf Y} ) \\propto p(\\{r_j\\} | s) p(s) p(\\beta) \\prod_j p(y_j|\\lambda_j)\n",
    "$$\n",
    "* $p(y_j|\\lambda_j)$は平均$\\lambda_j = \\exp(\\beta + r_j)$のポアソン分布とした\n",
    "    * 切片$\\beta$は大域的なパラメータなので、事前分布は無情報事前分布\n",
    "    * 場所差$r_j$は局所的なパラメータなので、事前分布は空間相関を考慮した階層事前分布で、上の式では同時分布$p(\\{r_j\\}| s)$で表現している。\n",
    "        * 個々の条件付き事前分布$p(r_j | s)$は平均$\\mu_j$,標準偏差$s/\\sqrt{n_j}$の正規分布"
   ]
  },
  {
   "cell_type": "markdown",
   "metadata": {},
   "source": [
    "#### Stanで書いてみる\n",
    "* 作成中。。"
   ]
  },
  {
   "cell_type": "code",
   "execution_count": 49,
   "metadata": {
    "collapsed": true
   },
   "outputs": [],
   "source": [
    "model11_3 = \"\"\"\n",
    "data {\n",
    "   int<lower=1> N_site; //区画数\n",
    "   int<lower=0> Y[N_site]; //区画ごとの個体数\n",
    "}\n",
    "\n",
    "parameters {\n",
    "   real beta;\n",
    "   real r[N_site]; //個体差\n",
    "   real<lower=0> s; //個体差のばらつき\n",
    "}\n",
    "\n",
    "generated quantities {\n",
    "   real<lower=1> Y_mean[N_site];\n",
    "   for (j in 1:N_site)\n",
    "      Y_mean[j] = exp(beta + r[j]);\n",
    "}\n",
    "model { \n",
    "   beta ~ normal(0, 100);//betaの事前分布は標準偏差100の正規分布\n",
    "   s ~ uniform(0,10000);// sの事前分布は0<s<10000の一様分布   \n",
    "\n",
    "   r[1] ~ normal(r[2], s);\n",
    "   for (j in 2:(N_site-1))\n",
    "      r[j] ~ normal((r[j-1]+r[j+1])/2, s);\n",
    "   r[50] ~ normal(r[49],s);\n",
    "\n",
    "   for (j in 1:N_site)\n",
    "      Y[j] ~ poisson_log(Y_mean[j]);\n",
    " }\n",
    " \n",
    "\"\"\""
   ]
  },
  {
   "cell_type": "code",
   "execution_count": 50,
   "metadata": {
    "scrolled": false
   },
   "outputs": [
    {
     "ename": "ValueError",
     "evalue": "Failed to parse Stan model 'anon_model_e78af3e7593ed3a7c792953fe70e7c0b'. Error message:\nPARSER EXPECTED: whitespace to end of file.\nFOUND AT line 18: \nmodel { \n   beta ~ normal(0, 100);//betaの事前分布は標準偏差100の正規分布\n   s ~ uniform(0,10000);// sの事前分布は0<s<10000の一様分布   \n\n   # \n   r[1] ~ normal(r[2], s);\n   for (j in 2:(N_site-1))\n      r[j] ~ normal((r[j-1]+r[j+1])/2, s);\n   r[50] ~ normal(r[49],s);\n\n   for (j in 1:N_site)\n      Y[j] ~ poisson_log(Y_mean[j]);\n }\n \n\n\n\n",
     "output_type": "error",
     "traceback": [
      "\u001b[0;31m---------------------------------------------------------------------------\u001b[0m",
      "\u001b[0;31mValueError\u001b[0m                                Traceback (most recent call last)",
      "\u001b[0;32m<ipython-input-50-f88ecf703f0b>\u001b[0m in \u001b[0;36m<module>\u001b[0;34m()\u001b[0m\n\u001b[1;32m     20\u001b[0m                   \u001b[0mchains\u001b[0m\u001b[0;34m=\u001b[0m\u001b[0mchain_count\u001b[0m\u001b[0;34m,\u001b[0m\u001b[0;34m\u001b[0m\u001b[0m\n\u001b[1;32m     21\u001b[0m                   \u001b[0mthin\u001b[0m\u001b[0;34m=\u001b[0m\u001b[0mthin_count\u001b[0m\u001b[0;34m,\u001b[0m\u001b[0;34m\u001b[0m\u001b[0m\n\u001b[0;32m---> 22\u001b[0;31m                   warmup=warmup_count)\n\u001b[0m",
      "\u001b[0;32m/Users/takizawa/dev/python/books/midori/lib/python3.6/site-packages/pystan/api.py\u001b[0m in \u001b[0;36mstan\u001b[0;34m(file, model_name, model_code, fit, data, pars, chains, iter, warmup, thin, init, seed, algorithm, control, sample_file, diagnostic_file, verbose, boost_lib, eigen_lib, n_jobs, **kwargs)\u001b[0m\n\u001b[1;32m    381\u001b[0m         m = StanModel(file=file, model_name=model_name, model_code=model_code,\n\u001b[1;32m    382\u001b[0m                       \u001b[0mboost_lib\u001b[0m\u001b[0;34m=\u001b[0m\u001b[0mboost_lib\u001b[0m\u001b[0;34m,\u001b[0m \u001b[0meigen_lib\u001b[0m\u001b[0;34m=\u001b[0m\u001b[0meigen_lib\u001b[0m\u001b[0;34m,\u001b[0m\u001b[0;34m\u001b[0m\u001b[0m\n\u001b[0;32m--> 383\u001b[0;31m                       obfuscate_model_name=obfuscate_model_name, verbose=verbose)\n\u001b[0m\u001b[1;32m    384\u001b[0m     \u001b[0;31m# check that arguments in kwargs are valid\u001b[0m\u001b[0;34m\u001b[0m\u001b[0;34m\u001b[0m\u001b[0m\n\u001b[1;32m    385\u001b[0m     valid_args = {\"chain_id\", \"init_r\", \"test_grad\", \"append_samples\", \"enable_random_init\",\n",
      "\u001b[0;32m/Users/takizawa/dev/python/books/midori/lib/python3.6/site-packages/pystan/model.py\u001b[0m in \u001b[0;36m__init__\u001b[0;34m(self, file, charset, model_name, model_code, stanc_ret, boost_lib, eigen_lib, verbose, obfuscate_model_name, extra_compile_args)\u001b[0m\n\u001b[1;32m    211\u001b[0m                                          \u001b[0mmodel_name\u001b[0m\u001b[0;34m=\u001b[0m\u001b[0mmodel_name\u001b[0m\u001b[0;34m,\u001b[0m\u001b[0;34m\u001b[0m\u001b[0m\n\u001b[1;32m    212\u001b[0m                                          \u001b[0mverbose\u001b[0m\u001b[0;34m=\u001b[0m\u001b[0mverbose\u001b[0m\u001b[0;34m,\u001b[0m\u001b[0;34m\u001b[0m\u001b[0m\n\u001b[0;32m--> 213\u001b[0;31m                                          obfuscate_model_name=obfuscate_model_name)\n\u001b[0m\u001b[1;32m    214\u001b[0m \u001b[0;34m\u001b[0m\u001b[0m\n\u001b[1;32m    215\u001b[0m         \u001b[0;32mif\u001b[0m \u001b[0;32mnot\u001b[0m \u001b[0misinstance\u001b[0m\u001b[0;34m(\u001b[0m\u001b[0mstanc_ret\u001b[0m\u001b[0;34m,\u001b[0m \u001b[0mdict\u001b[0m\u001b[0;34m)\u001b[0m\u001b[0;34m:\u001b[0m\u001b[0;34m\u001b[0m\u001b[0m\n",
      "\u001b[0;32m/Users/takizawa/dev/python/books/midori/lib/python3.6/site-packages/pystan/api.py\u001b[0m in \u001b[0;36mstanc\u001b[0;34m(file, charset, model_code, model_name, verbose, obfuscate_model_name)\u001b[0m\n\u001b[1;32m    131\u001b[0m             \u001b[0mmsg\u001b[0m \u001b[0;34m=\u001b[0m \u001b[0mmsg\u001b[0m\u001b[0;34m.\u001b[0m\u001b[0mencode\u001b[0m\u001b[0;34m(\u001b[0m\u001b[0;34m'ascii'\u001b[0m\u001b[0;34m,\u001b[0m \u001b[0;34m'replace'\u001b[0m\u001b[0;34m)\u001b[0m\u001b[0;34m\u001b[0m\u001b[0m\n\u001b[1;32m    132\u001b[0m         \u001b[0merror_msg\u001b[0m \u001b[0;34m=\u001b[0m \u001b[0;34m\"Failed to parse Stan model '{}'. Error message:\\n{}\"\u001b[0m\u001b[0;34m.\u001b[0m\u001b[0mformat\u001b[0m\u001b[0;34m(\u001b[0m\u001b[0mmodel_name\u001b[0m\u001b[0;34m,\u001b[0m \u001b[0mmsg\u001b[0m\u001b[0;34m)\u001b[0m\u001b[0;34m\u001b[0m\u001b[0m\n\u001b[0;32m--> 133\u001b[0;31m         \u001b[0;32mraise\u001b[0m \u001b[0mValueError\u001b[0m\u001b[0;34m(\u001b[0m\u001b[0merror_msg\u001b[0m\u001b[0;34m)\u001b[0m\u001b[0;34m\u001b[0m\u001b[0m\n\u001b[0m\u001b[1;32m    134\u001b[0m     \u001b[0;32melif\u001b[0m \u001b[0mresult\u001b[0m\u001b[0;34m[\u001b[0m\u001b[0;34m'status'\u001b[0m\u001b[0;34m]\u001b[0m \u001b[0;34m==\u001b[0m \u001b[0;36m0\u001b[0m\u001b[0;34m:\u001b[0m  \u001b[0;31m# SUCCESS_RC is 0\u001b[0m\u001b[0;34m\u001b[0m\u001b[0m\n\u001b[1;32m    135\u001b[0m         \u001b[0mlogger\u001b[0m\u001b[0;34m.\u001b[0m\u001b[0mdebug\u001b[0m\u001b[0;34m(\u001b[0m\u001b[0;34m\"Successfully parsed Stan model '{}'.\"\u001b[0m\u001b[0;34m.\u001b[0m\u001b[0mformat\u001b[0m\u001b[0;34m(\u001b[0m\u001b[0mmodel_name\u001b[0m\u001b[0;34m)\u001b[0m\u001b[0;34m)\u001b[0m\u001b[0;34m\u001b[0m\u001b[0m\n",
      "\u001b[0;31mValueError\u001b[0m: Failed to parse Stan model 'anon_model_e78af3e7593ed3a7c792953fe70e7c0b'. Error message:\nPARSER EXPECTED: whitespace to end of file.\nFOUND AT line 18: \nmodel { \n   beta ~ normal(0, 100);//betaの事前分布は標準偏差100の正規分布\n   s ~ uniform(0,10000);// sの事前分布は0<s<10000の一様分布   \n\n   # \n   r[1] ~ normal(r[2], s);\n   for (j in 2:(N_site-1))\n      r[j] ~ normal((r[j-1]+r[j+1])/2, s);\n   r[50] ~ normal(r[49],s);\n\n   for (j in 1:N_site)\n      Y[j] ~ poisson_log(Y_mean[j]);\n }\n \n\n\n\n"
     ]
    }
   ],
   "source": [
    "Y=df.x\n",
    "\n",
    "stan_data = {\"N_site\":50,\"Y\":Y}\n",
    "\n",
    "# MCMCサンプリングのステップ数\n",
    "iter_count= 500\n",
    "\n",
    "# MCMCサンプリングの反復数の指定(WinBUGSではデフォルト3)\n",
    "chain_count = 3\n",
    "\n",
    "# MCMCサンプリングの最初の何ステップの結果を使わないとするか(burnin)\n",
    "warmup_count = 100\n",
    "\n",
    "# MCMCサンプリングのステップのうち、何個飛ばしでサンプリング結果を記録するか\n",
    "thin_count = 3\n",
    "\n",
    "fit = pystan.stan(model_code=model11_3,\n",
    "                  data=stan_data,\n",
    "                  iter=iter_count,\n",
    "                  chains=chain_count,\n",
    "                  thin=thin_count,\n",
    "                  warmup=warmup_count)"
   ]
  },
  {
   "cell_type": "code",
   "execution_count": 30,
   "metadata": {},
   "outputs": [
    {
     "ename": "NameError",
     "evalue": "name 'fit' is not defined",
     "output_type": "error",
     "traceback": [
      "\u001b[0;31m---------------------------------------------------------------------------\u001b[0m",
      "\u001b[0;31mNameError\u001b[0m                                 Traceback (most recent call last)",
      "\u001b[0;32m<ipython-input-30-4cc8121cb8bc>\u001b[0m in \u001b[0;36m<module>\u001b[0;34m()\u001b[0m\n\u001b[0;32m----> 1\u001b[0;31m \u001b[0mfit\u001b[0m\u001b[0;34m\u001b[0m\u001b[0m\n\u001b[0m",
      "\u001b[0;31mNameError\u001b[0m: name 'fit' is not defined"
     ]
    }
   ],
   "source": [
    "fit"
   ]
  },
  {
   "cell_type": "markdown",
   "metadata": {
    "collapsed": true
   },
   "source": [
    "## 11.4. 空間統計モデルが作り出す確率場"
   ]
  },
  {
   "cell_type": "markdown",
   "metadata": {
    "collapsed": true
   },
   "source": [
    "* 一般に相互作用する確率変数たちで埋め尽くされた空間は確率場と呼ばれる。\n",
    "    * {$r_j$}も確率場の一種。\n",
    "        * (滝沢補足)$r_j$の条件付き事前分布が、平均$\\mu_j = \\frac {r_{j-1}+r_{j+1}} {2}$、標準偏差$s$の正規分布のため\n",
    "        \n",
    "* 標準偏差$s$の大きさによって、{$r_j$}の挙動をみてみる。\n",
    "    * $\\beta$を固定し、$s$を3パターン設定した上で、{$r_1,r_2,...,r_{50}$}の事後分布から3セットずつのサンプルを得て、$\\lambda_j = \\exp(\\beta + r_j)$をグラフにしたのが図11.5。\n",
    "    * $s$が大きいほど、隣とは無関係に値を選べるようになり、各$j$ごとに合わせようとするので、全体的にギザギザした、ばらつきの大きい確率場になる。\n",
    "* このように確率場を組み込んだ統計モデルを使うことは、予測をする時の利点にもなる。"
   ]
  },
  {
   "cell_type": "markdown",
   "metadata": {
    "collapsed": true
   },
   "source": [
    "## 11.5. 空間相関モデルと欠測のある観測データ"
   ]
  },
  {
   "cell_type": "markdown",
   "metadata": {},
   "source": [
    "* 空間相関を組み込んだ改装ベイズモデルの強みの一つとして「欠測のあるデータ」に対してより良い予測が得られることがあります。\n",
    "* 図11.6のように、欠測データが存在する場合を考える。\n",
    "* 空間相関を考慮したモデル、考慮しないモデルそれぞれによる推定を試みる。\n",
    "    * 考慮しないモデルで予測された局所密度は、各区画のデータ$y_j$に合わせようとギザギザする。\n",
    "    * 欠測の調査区画では平均$\\lambda_j$の80%区間が大きく広がっている。\n",
    "    * データがない区間では$r_j$を決めようがない。\n",
    "* 現実のデータ解析ではデータを見ているだけでは空間相関は読み取れない。\n",
    "    * ひとまず空間構造のあるベイズ統計モデルを当てはめて見て、その中の「隣との類似」を表すパラメーター($s$)を推定したらいいのでは。\n",
    "        * $s$が大きいほど類似せず、小さいほど類似する。"
   ]
  },
  {
   "cell_type": "markdown",
   "metadata": {},
   "source": [
    "## 11.6. この章のまとめ"
   ]
  },
  {
   "cell_type": "markdown",
   "metadata": {},
   "source": [
    "* 空間構造のあるデータを統計モデル化する場合、空間相関を考慮しなければならない\n",
    "* 空間相関のある場所差は確率場を使って表現できる。\n",
    "* 空間相関を考慮した改装ベイズモデルは観測データの欠測部分を予測するような用途にも使える。\n",
    "* 空間構造ではなく、時間構造のあるデータにも階層ベイズモデルをを用いることができる。"
   ]
  },
  {
   "cell_type": "markdown",
   "metadata": {},
   "source": [
    "# 参考させていただいたページ\n",
    "[久保緑本11章のマルコフ場モデル（空間構造のあるベイズモデル） - StatModeling Memorandum](http://statmodeling.hatenablog.com/entry/markov-field-model)"
   ]
  }
 ],
 "metadata": {
  "kernelspec": {
   "display_name": "Python 3",
   "language": "python",
   "name": "python3"
  },
  "language_info": {
   "codemirror_mode": {
    "name": "ipython",
    "version": 3
   },
   "file_extension": ".py",
   "mimetype": "text/x-python",
   "name": "python",
   "nbconvert_exporter": "python",
   "pygments_lexer": "ipython3",
   "version": "3.6.0"
  }
 },
 "nbformat": 4,
 "nbformat_minor": 2
}
