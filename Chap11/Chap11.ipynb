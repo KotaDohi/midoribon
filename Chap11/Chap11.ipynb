{
 "cells": [
  {
   "cell_type": "markdown",
   "metadata": {},
   "source": [
    "# 11. 空間構造のある階層ベイズモデル"
   ]
  },
  {
   "cell_type": "markdown",
   "metadata": {},
   "source": [
    "* これまでの章で場所差(植木鉢差）を組み込んだ統計モデルを作っていたが、場所差はそれぞれ独立に決まることを前提としており、「空間構造」はないもの、考えなくて良いものとしてきた。\n",
    "* しかし現実では、「データを取る場所の空間配置の影響」を無視できない場合もある。\n",
    "* この章では、場所差の空間相関も考慮する統計モデリングについて説明する。\n",
    "    * 空間相関とは距離の遠近に依存して、二つの場所の「類似性」みたいなものが弱くなったり、強くなったりする傾向。"
   ]
  },
  {
   "cell_type": "markdown",
   "metadata": {},
   "source": [
    "## 11.1. 例題：1次元空間上の個体数分布"
   ]
  },
  {
   "cell_type": "markdown",
   "metadata": {},
   "source": [
    "### 例題"
   ]
  },
  {
   "cell_type": "markdown",
   "metadata": {},
   "source": [
    "* 調査区画を50個設定。それが1本の直線の上に等間隔に配置されている。(一次元)\n",
    "* その区画での生物の個体数を記録。\n",
    "* 調査区画$j$で観察された個体数$y_j$は図11.2で記録。\n",
    "* 架空データ{$y_j$}は場所$j$ごとに平均の異なるポアソン乱数として発生させたものであり、その平均は図11.2の破線の曲線(局所密度)。\n",
    "* 局所密度は何らかの理由でなだらかに変化しており、近くにある$y_j$同士は近い値(空間相関)\n",
    "* 図11.2の白丸を与えられれば、局所密度が場所ごとに異なること、局所密度がなだらかに変化していること、は想像できるだろう。"
   ]
  },
  {
   "cell_type": "code",
   "execution_count": 1,
   "metadata": {
    "collapsed": true
   },
   "outputs": [],
   "source": [
    "import numpy as np\n",
    "import pandas as pd\n",
    "import matplotlib.pyplot as plt\n",
    "import pystan\n",
    "\n",
    "%matplotlib inline\n",
    "\n",
    "df = pd.read_csv(\"./input/Y.csv\",index_col=0)"
   ]
  },
  {
   "cell_type": "code",
   "execution_count": 2,
   "metadata": {},
   "outputs": [
    {
     "data": {
      "text/html": [
       "<div>\n",
       "<style>\n",
       "    .dataframe thead tr:only-child th {\n",
       "        text-align: right;\n",
       "    }\n",
       "\n",
       "    .dataframe thead th {\n",
       "        text-align: left;\n",
       "    }\n",
       "\n",
       "    .dataframe tbody tr th {\n",
       "        vertical-align: top;\n",
       "    }\n",
       "</style>\n",
       "<table border=\"1\" class=\"dataframe\">\n",
       "  <thead>\n",
       "    <tr style=\"text-align: right;\">\n",
       "      <th></th>\n",
       "      <th>x</th>\n",
       "    </tr>\n",
       "  </thead>\n",
       "  <tbody>\n",
       "    <tr>\n",
       "      <th>1</th>\n",
       "      <td>0</td>\n",
       "    </tr>\n",
       "    <tr>\n",
       "      <th>2</th>\n",
       "      <td>3</td>\n",
       "    </tr>\n",
       "    <tr>\n",
       "      <th>3</th>\n",
       "      <td>2</td>\n",
       "    </tr>\n",
       "    <tr>\n",
       "      <th>4</th>\n",
       "      <td>5</td>\n",
       "    </tr>\n",
       "    <tr>\n",
       "      <th>5</th>\n",
       "      <td>6</td>\n",
       "    </tr>\n",
       "  </tbody>\n",
       "</table>\n",
       "</div>"
      ],
      "text/plain": [
       "   x\n",
       "1  0\n",
       "2  3\n",
       "3  2\n",
       "4  5\n",
       "5  6"
      ]
     },
     "execution_count": 2,
     "metadata": {},
     "output_type": "execute_result"
    }
   ],
   "source": [
    "df.head()"
   ]
  },
  {
   "cell_type": "code",
   "execution_count": 3,
   "metadata": {},
   "outputs": [
    {
     "data": {
      "text/plain": [
       "<Container object of 50 artists>"
      ]
     },
     "execution_count": 3,
     "metadata": {},
     "output_type": "execute_result"
    },
    {
     "data": {
      "image/png": "[encoded data removed]",
      "text/plain": [
       "<matplotlib.figure.Figure at 0x10a8ce550>"
      ]
     },
     "metadata": {},
     "output_type": "display_data"
    }
   ],
   "source": [
    "plt.bar(df.index,df.x)"
   ]
  },
  {
   "cell_type": "code",
   "execution_count": 4,
   "metadata": {},
   "outputs": [
    {
     "data": {
      "text/plain": [
       "10.880000000000001"
      ]
     },
     "execution_count": 4,
     "metadata": {},
     "output_type": "execute_result"
    }
   ],
   "source": [
    "df.x.mean()"
   ]
  },
  {
   "cell_type": "code",
   "execution_count": 5,
   "metadata": {},
   "outputs": [
    {
     "data": {
      "text/plain": [
       "27.373061224489792"
      ]
     },
     "execution_count": 5,
     "metadata": {},
     "output_type": "execute_result"
    }
   ],
   "source": [
    "df.x.var()"
   ]
  },
  {
   "cell_type": "markdown",
   "metadata": {},
   "source": [
    "## 11.2. 階層ベイズモデルに空間構造を組み込む"
   ]
  },
  {
   "cell_type": "markdown",
   "metadata": {},
   "source": [
    "### この例題の目的"
   ]
  },
  {
   "cell_type": "markdown",
   "metadata": {},
   "source": [
    "* 観測データ{$y_j$}に基づいて、位置によって変化する局所密度を構成できるような統計モデルを作ること"
   ]
  },
  {
   "cell_type": "markdown",
   "metadata": {},
   "source": [
    "1. 各調査区画で観測された個体数がどんな確率分布で表現できるかを考える。\n",
    "    * 全ての調査区画で共通する平均値$\\lambda$のポアソン分布に従うとする。\n",
    "    $$\n",
    "    p(y_j | \\lambda) = \\frac {\\lambda^{y_j} exp(-\\lambda)} {y_j!}\n",
    "    $$\n",
    "2. 上記で仮定するなら平均値$\\lambda$は標本平均と等しいとして良い。また、ポアソン分布の分散は平均と等しい。\n",
    "3. すると、平均10.9に対し、分散27.4となり、標本平均の3倍ほど。このデータは過分散であるとわかる。また、図11.2では個体数$y_j$が位置によって変化しており、「$\\lambda$はどの$j$でも同じ」という仮定も成立していないよう。単純にポアソン分布では統計モデル化できない。\n",
    "4.　何らかの形で場所差を組み込む。区間$j$ごとに平均$\\lambda_j$が異なるとする。\n",
    "5. しかし区画ごとにパラメータを最尤推定するのは、単なる「データの読み上げ」と同じ。\n",
    "6. そこで全体に共通する大域的な密度と、局所的な差異を同時に組み込むために、平均個体数$\\lambda_j$を線形予測しと対数リンク関数を使って、以下のように表す。\n",
    "$$\n",
    "\\log \\lambda_j = \\beta + r_j\n",
    "$$\n",
    "    * 切片$\\beta$は大域的なパラメータ。全ての場所に同じ影響\n",
    "    * 場所差$r_j$は局所的。区間$j$のデータだけを説明する。\n",
    "7. $\\beta$のような大域的なパラメータの事前分布には無情報事前分布、{$r_j$}の事前分布には階層事前分布を指定する。"
   ]
  },
  {
   "cell_type": "markdown",
   "metadata": {},
   "source": [
    "### 11.2.1. 空間構造のない階層事前分布"
   ]
  },
  {
   "cell_type": "markdown",
   "metadata": {},
   "source": [
    "* 10章で使ったような階層事前分布(下記)では、どれも独立に同じ事前分布(平均ゼロ、標準偏差$s$の正規分布を仮定してることになり、空間相関がありそうな状況には適さない。\n",
    "$$\n",
    "p(r_j|s)= \\frac {1} {\\sqrt {2 \\pi s^2}} \\exp \\left(-\\frac {r_j^2}{2s^2}\\right)\n",
    "$$"
   ]
  },
  {
   "cell_type": "markdown",
   "metadata": {},
   "source": [
    "### 11.2.2. 空間構造のある階層事前分布"
   ]
  },
  {
   "cell_type": "markdown",
   "metadata": {},
   "source": [
    "#### 仮定をもうけ簡単にする"
   ]
  },
  {
   "cell_type": "markdown",
   "metadata": {},
   "source": [
    "* 区間の場所差は「近傍」区画の場所差にしか影響されない\n",
    "* 区画$j$の近傍の個数$n_j$は有限個であり、どの区画が近傍であるかはモデル設計者が指定\n",
    "    * すぐ隣の区画のみが近傍とする。($n_j$は2)\n",
    "    * 左右の両端では近傍区間は一つなので、$n_1$と$n_{50}$は1\n",
    "* 近傍の直接の影響はどれも等しく,$1/n_j$"
   ]
  },
  {
   "cell_type": "markdown",
   "metadata": {},
   "source": [
    "#### 上記の仮定に基いて事前分布の設定"
   ]
  },
  {
   "cell_type": "markdown",
   "metadata": {},
   "source": [
    "* 上記の仮定に基づき、$r_j$の条件付き事前分布を以下のような正規分布とする。\n",
    "    * 標準偏差は$\\frac {s}{\\sqrt{n_j}}$であると指定。\n",
    "        * (滝沢不明) $\\sqrt{n_j}$で割る理由。端のばらつきを減らす効果。\n",
    "    * ばらつきのパラメータ$s$はどの場所でも同じと仮定。\n",
    "$$\n",
    "p(r_j | \\mu_j,s) = \\sqrt{ \\frac {n_j}{2\\pi s^2}} \\exp \\left\\{ - \\frac {(r_j - \\mu_j)^2} {2s^2/n_j}\\right\\}\n",
    "$$\n",
    "* 正規分布の平均$\\mu_j$は近傍である$r_{j-1}$と$r_{j+1}$の平均値に等しいとする。\n",
    "    * 両端は$\\mu_1=r_2,\\mu_{50}=r_{49}$とする。\n",
    "$$\n",
    "\\mu_j = \\frac {r_{j-1} + r_{j+1}} {2}\n",
    "$$"
   ]
  },
  {
   "cell_type": "markdown",
   "metadata": {},
   "source": [
    "* このような事前分布は条件付き自己回帰モデルと呼ばれる。\n",
    "    * {$r_j$}の事前分布のように様々な制約をつけて簡単にしたものは、instrinsic Gaussian CARモデルと分類される。\n",
    "* この場所差{$r_j$}全体の事前分布である同時分布$p(\\{r_j\\}|s)$は以下のようにかける。\n",
    "$$\n",
    "p(\\{r_j\\} | s) \\propto \\exp \\left\\{ -\\frac {1}{2s^2} \\sum_{j \\sim j'} (r_j-r_{j'})^2 \\right\\}\n",
    "$$"
   ]
  },
  {
   "cell_type": "markdown",
   "metadata": {},
   "source": [
    "## 11.3. 空間統計モデルをデータに当てはめる"
   ]
  },
  {
   "cell_type": "markdown",
   "metadata": {},
   "source": [
    "#### 事後分布について考える"
   ]
  },
  {
   "cell_type": "markdown",
   "metadata": {
    "collapsed": true
   },
   "source": [
    "* 事後分布は以下のようにする\n",
    "$$\n",
    "p(\\beta,s,\\{r_j\\} | {\\bf Y} ) \\propto p(\\{r_j\\} | s) p(s) p(\\beta) \\prod_j p(y_j|\\lambda_j)\n",
    "$$\n",
    "* $p(y_j|\\lambda_j)$は平均$\\lambda_j = \\exp(\\beta + r_j)$のポアソン分布とした\n",
    "    * 切片$\\beta$は大域的なパラメータなので、事前分布は無情報事前分布\n",
    "    * 場所差$r_j$は局所的なパラメータなので、事前分布は空間相関を考慮した階層事前分布で、上の式では同時分布$p(\\{r_j\\}| s)$で表現している。\n",
    "        * 個々の条件付き事前分布$p(r_j | s)$は平均$\\mu_j$,標準偏差$s/\\sqrt{n_j}$の正規分布"
   ]
  },
  {
   "cell_type": "markdown",
   "metadata": {},
   "source": [
    "#### Stanで書いてみる\n",
    "* 作成中。(下記はうまくいってない)\n",
    "* instrinct Gaussian CARモデルを用いた関数が必要？"
   ]
  },
  {
   "cell_type": "code",
   "execution_count": 58,
   "metadata": {
    "collapsed": true
   },
   "outputs": [],
   "source": [
    "# model11_3 = \"\"\"\n",
    "# data {\n",
    "#    int<lower=1> N_site; //区画数\n",
    "#    int<lower=0> Y[N_site]; //区画ごとの個体数\n",
    "# }\n",
    "\n",
    "# parameters {\n",
    "#    real beta;\n",
    "#    real r[N_site]; //個体差\n",
    "#    real<lower=0> s; //個体差のばらつき\n",
    "# }\n",
    "\n",
    "# model { \n",
    "#    beta ~ normal(0, 100); \n",
    "#    s ~ uniform(0,10000);    \n",
    "\n",
    "#    for (j in 2:(N_site-1)) {\n",
    "#       r[j] ~ normal((r[j-1]+r[j+1])/2, s/sqrt(2));\n",
    "#    }\n",
    "#    r[1] ~ normal(r[2], s);\n",
    "#    r[50] ~ normal(r[49],s);\n",
    "\n",
    "#    for (k in 1:N_site){\n",
    "#       Y[k] ~ poisson_log(beta + r[k]);\n",
    "#    }\n",
    "#  }\n",
    "\n",
    "# \"\"\""
   ]
  },
  {
   "cell_type": "code",
   "execution_count": 63,
   "metadata": {
    "collapsed": true
   },
   "outputs": [],
   "source": [
    "# 松浦さんのコード。betaがない。\n",
    "# 事前分布も指定していない。\n",
    "# 場所差のモデルも書籍と異なる。\n",
    "model11_3 = \"\"\"\n",
    "data {\n",
    "   int<lower=1> N_site;\n",
    "   int<lower=0> Y[N_site];\n",
    "}\n",
    "\n",
    "parameters {\n",
    "   real r[N_site];\n",
    "   real<lower=0> s_r;\n",
    "}\n",
    "\n",
    "model {\n",
    "   for (j in 2:N_site)\n",
    "      r[j] ~ normal(r[j-1], s_r);\n",
    "   for (j in 1:N_site)\n",
    "      Y[j] ~ poisson_log(r[j]);\n",
    "}\n",
    "\n",
    "generated quantities {\n",
    "   real<lower=0> Y_mean[N_site];\n",
    "   for (j in 1:N_site)\n",
    "      Y_mean[j] <- exp(r[j]);\n",
    "}\n",
    "\n",
    "\n",
    "\"\"\""
   ]
  },
  {
   "cell_type": "code",
   "execution_count": 77,
   "metadata": {
    "collapsed": true
   },
   "outputs": [],
   "source": [
    "# 松浦さんのコードを改造\n",
    "model11_3 = \"\"\"\n",
    "data {\n",
    "   int<lower=1> N_site;\n",
    "   int<lower=0> Y[N_site];\n",
    "}\n",
    "\n",
    "parameters {\n",
    "   real beta;\n",
    "   real r[N_site];\n",
    "   real<lower=0> s_r;\n",
    "}\n",
    "\n",
    "model {\n",
    "   for (j in 2:N_site){\n",
    "      r[j] ~ normal(r[j-1], s_r);\n",
    "   }\n",
    "   for (j in 1:N_site){\n",
    "      Y[j] ~ poisson_log(beta + r[j]);\n",
    "    }\n",
    "}\n",
    "\n",
    "generated quantities {\n",
    "   real<lower=0> Y_mean[N_site];\n",
    "   for (j in 1:N_site){\n",
    "      Y_mean[j] <- exp(r[j]);\n",
    "      }\n",
    "}\n",
    "\n",
    "\n",
    "\"\"\""
   ]
  },
  {
   "cell_type": "code",
   "execution_count": 78,
   "metadata": {
    "scrolled": true
   },
   "outputs": [
    {
     "name": "stderr",
     "output_type": "stream",
     "text": [
      "INFO:pystan:COMPILING THE C++ CODE FOR MODEL anon_model_c14871f820b8c1b90d308d78ff2280cf NOW.\n"
     ]
    }
   ],
   "source": [
    "Y=df.x\n",
    "\n",
    "stan_data = {\"N_site\":50,\"Y\":Y}\n",
    "\n",
    "# MCMCサンプリングのステップ数\n",
    "iter_count= 1500\n",
    "\n",
    "# MCMCサンプリングの反復数の指定(WinBUGSではデフォルト3)\n",
    "chain_count = 3\n",
    "\n",
    "# MCMCサンプリングの最初の何ステップの結果を使わないとするか(burnin)\n",
    "warmup_count = 100\n",
    "\n",
    "# MCMCサンプリングのステップのうち、何個飛ばしでサンプリング結果を記録するか\n",
    "thin_count = 3\n",
    "\n",
    "fit = pystan.stan(model_code=model11_3,\n",
    "                  data=stan_data,\n",
    "                  iter=iter_count,\n",
    "                  chains=chain_count,\n",
    "                  thin=thin_count,\n",
    "                  warmup=warmup_count)"
   ]
  },
  {
   "cell_type": "code",
   "execution_count": 79,
   "metadata": {},
   "outputs": [
    {
     "data": {
      "text/plain": [
       "Inference for Stan model: anon_model_c14871f820b8c1b90d308d78ff2280cf.\n",
       "3 chains, each with iter=1500; warmup=100; thin=3; \n",
       "post-warmup draws per chain=467, total post-warmup draws=1401.\n",
       "\n",
       "             mean se_mean     sd   2.5%    25%    50%    75%  97.5%  n_eff   Rhat\n",
       "beta        -7.56   36.33  51.38 -81.71 -60.59 -12.06  41.26  76.92      2   4.36\n",
       "r[0]         8.61   36.33  51.37 -75.97 -40.32  13.12  61.85  83.01      2   4.36\n",
       "r[1]         8.76   36.33  51.38 -75.72 -39.93  13.25  61.89  83.12      2   4.36\n",
       "r[2]         8.93   36.33  51.37 -75.47 -39.79  13.43  62.02  83.22      2   4.37\n",
       "r[3]         9.21   36.33  51.38 -75.27 -39.56  13.72   62.3  83.48      2   4.36\n",
       "r[4]         9.48   36.34  51.39 -75.08 -39.35  13.92  62.49  83.74      2   4.36\n",
       "r[5]         9.83   36.34  51.39 -74.69 -39.02  14.27  62.82  84.09      2   4.36\n",
       "r[6]         9.85   36.34  51.39 -74.64 -39.19  14.41  62.89  84.06      2   4.36\n",
       "r[7]         10.0   36.35   51.4 -74.48 -39.05  14.65   63.0   84.2      2   4.36\n",
       "r[8]        10.01   36.34  51.39 -74.45 -38.96  14.48  63.02   84.2      2   4.36\n",
       "r[9]        10.06   36.34  51.39 -74.35 -38.67   14.4  63.12  84.13      2   4.36\n",
       "r[10]       10.26   36.34  51.39 -74.18 -38.57  14.66  63.28   84.4      2   4.36\n",
       "r[11]       10.35   36.34  51.39 -74.13 -38.48  14.78  63.25  84.64      2   4.36\n",
       "r[12]       10.33   36.34  51.39 -73.99  -38.5  14.81  63.38  84.39      2   4.36\n",
       "r[13]       10.41   36.34  51.39 -74.03 -38.39  14.97  63.43  84.54      2   4.36\n",
       "r[14]       10.42   36.33  51.38  -74.0 -38.48  14.99  63.54   84.6      2   4.36\n",
       "r[15]       10.38   36.33  51.38 -74.09 -38.56  14.88  63.42  84.67      2   4.36\n",
       "r[16]       10.27   36.33  51.38 -74.21 -38.51  14.67   63.2   84.6      2   4.36\n",
       "r[17]       10.16   36.33  51.38 -74.38  -38.6   14.6  63.07  84.15      2   4.36\n",
       "r[18]       10.09   36.33  51.38 -74.37 -38.73  14.47   63.0  84.27      2   4.36\n",
       "r[19]       10.01   36.33  51.38 -74.54 -38.67  14.46  63.12   84.2      2   4.36\n",
       "r[20]       10.06   36.33  51.38 -74.46 -38.64  14.52  63.12  84.29      2   4.36\n",
       "r[21]       10.18   36.33  51.38 -74.27 -38.78  14.64  63.13  84.43      2   4.36\n",
       "r[22]       10.24   36.33  51.38  -74.3 -38.62  14.66   63.2  84.38      2   4.36\n",
       "r[23]       10.15   36.33  51.38 -74.37  -38.7  14.58  63.21   84.3      2   4.36\n",
       "r[24]       10.13   36.34  51.39 -74.32 -38.68  14.63  63.21  84.33      2   4.36\n",
       "r[25]       10.24   36.34  51.39 -74.27 -38.71   14.7  63.29  84.45      2   4.36\n",
       "r[26]       10.21   36.33  51.38 -74.23 -38.52  14.74  63.28  84.31      2   4.36\n",
       "r[27]       10.21   36.33  51.38  -74.3 -38.62  14.69  63.26  84.42      2   4.36\n",
       "r[28]       10.12   36.34  51.39 -74.33 -38.68   14.6  63.14  84.26      2   4.36\n",
       "r[29]        9.95   36.33  51.38 -74.46 -38.89  14.52  62.93  84.19      2   4.36\n",
       "r[30]        9.86   36.33  51.37 -74.69 -39.09  14.38  62.95  84.02      2   4.36\n",
       "r[31]        10.0   36.33  51.38 -74.49 -39.04  14.51  63.01  84.16      2   4.36\n",
       "r[32]        9.95   36.33  51.38 -74.55  -38.8  14.44  63.04  84.15      2   4.36\n",
       "r[33]        9.98   36.34  51.39 -74.43 -38.78  14.56  63.06  84.15      2   4.36\n",
       "r[34]       10.02   36.34  51.39 -74.39 -38.87  14.51  62.98  84.29      2   4.36\n",
       "r[35]        9.94   36.34  51.39 -74.49 -38.98  14.52  62.97  84.16      2   4.36\n",
       "r[36]       10.06   36.33  51.39 -74.38 -38.84  14.59  63.24  84.18      2   4.36\n",
       "r[37]       10.11   36.34  51.39 -74.29 -38.84  14.49  63.26  84.34      2   4.36\n",
       "r[38]       10.09   36.34  51.39 -74.34 -38.77  14.52  63.08  84.31      2   4.36\n",
       "r[39]       10.07   36.33  51.38 -74.29 -38.69  14.61  63.15  84.25      2   4.36\n",
       "r[40]        9.82   36.33  51.38 -74.77 -38.97  14.34  62.82  84.03      2   4.37\n",
       "r[41]        9.65   36.34  51.39 -74.88 -39.18   14.2  62.62  83.87      2   4.37\n",
       "r[42]        9.57   36.33  51.38 -74.88 -39.35  14.11  62.68  83.81      2   4.36\n",
       "r[43]        9.36   36.33  51.38 -74.97 -39.52  13.83  62.38  83.56      2   4.36\n",
       "r[44]        9.26   36.33  51.38 -75.03  -39.7  13.79  62.39  83.52      2   4.36\n",
       "r[45]         9.2   36.33  51.38 -75.21 -39.79  13.67  62.37  83.34      2   4.36\n",
       "r[46]        9.14   36.33  51.38 -75.27 -39.65  13.54  62.43   83.3      2   4.36\n",
       "r[47]        8.99   36.33  51.38 -75.42 -39.83  13.37  62.02  83.08      2   4.36\n",
       "r[48]        8.84   36.33  51.37 -75.63 -40.09  13.33  61.85  83.04      2   4.36\n",
       "r[49]        8.71   36.33  51.37 -75.73 -40.02  13.19  61.74  82.91      2   4.36\n",
       "s_r          0.23  2.2e-3   0.05   0.14   0.19   0.22   0.26   0.36    604   1.01\n",
       "Y_mean[0]  1.8e35  1.8e35 3.0e361.0e-333.1e-18  5.0e5 7.3e26 1.2e36    286   1.01\n",
       "Y_mean[1]  2.3e35  2.2e35 4.0e361.3e-334.6e-18  5.7e5 7.6e26 1.3e36    324   1.01\n",
       "Y_mean[2]  2.8e35  2.7e35 4.9e361.7e-335.3e-18  6.8e5 8.6e26 1.5e36    330   1.01\n",
       "Y_mean[3]  3.5e35  3.4e35 5.5e362.0e-336.6e-18  9.1e5 1.1e27 2.1e36    261   1.01\n",
       "Y_mean[4]  4.6e35  4.4e35 6.6e362.5e-338.1e-18  1.1e6 1.4e27 2.8e36    221   1.01\n",
       "Y_mean[5]  7.3e35  7.0e35 1.1e373.7e-331.1e-17  1.6e6 1.9e27 3.7e36    261   1.01\n",
       "Y_mean[6]  6.6e35  6.4e35 8.7e363.8e-339.6e-18  1.8e6 2.0e27 3.6e36    184   1.02\n",
       "Y_mean[7]  9.2e35  8.8e35 1.5e374.5e-331.1e-17  2.3e6 2.3e27 4.1e36    288   1.01\n",
       "Y_mean[8]  9.2e35  8.8e35 1.5e374.7e-331.2e-17  1.9e6 2.3e27 4.1e36    291   1.01\n",
       "Y_mean[9]  8.7e35  8.4e35 1.4e375.1e-331.6e-17  1.8e6 2.6e27 3.8e36    278   1.01\n",
       "Y_mean[10] 1.1e36  1.1e36 1.8e376.1e-331.8e-17  2.3e6 3.0e27 4.8e36    272   1.01\n",
       "Y_mean[11] 1.3e36  1.3e36 2.3e376.4e-332.0e-17  2.6e6 2.9e27 6.5e36    328   1.01\n",
       "Y_mean[12] 1.1e36  1.1e36 1.6e377.4e-331.9e-17  2.7e6 3.3e27 4.9e36    220   1.01\n",
       "Y_mean[13] 1.2e36  1.2e36 1.9e377.1e-332.1e-17  3.2e6 3.5e27 5.9e36    252   1.01\n",
       "Y_mean[14] 1.3e36  1.3e36 2.1e377.4e-331.9e-17  3.2e6 3.9e27 6.1e36    289   1.01\n",
       "Y_mean[15] 1.2e36  1.1e36 1.8e376.6e-331.8e-17  2.9e6 3.5e27 6.3e36    250   1.01\n",
       "Y_mean[16] 1.0e36  1.0e36 1.5e375.9e-331.9e-17  2.3e6 2.8e27 5.9e36    235   1.01\n",
       "Y_mean[17] 9.5e35  9.2e35 1.5e375.0e-331.7e-17  2.2e6 2.5e27 3.7e36    253   1.01\n",
       "Y_mean[18]10.0e35  9.5e35 1.7e375.1e-331.5e-17  1.9e6 2.3e27 4.5e36    335   1.01\n",
       "Y_mean[19] 8.2e35  7.9e35 1.4e374.3e-331.6e-17  1.9e6 2.6e27 4.1e36    299   1.01\n",
       "Y_mean[20] 8.9e35  8.5e35 1.5e374.6e-331.7e-17  2.0e6 2.6e27 4.6e36    317   1.01\n",
       "Y_mean[21] 9.1e35  8.8e35 1.4e375.6e-331.4e-17  2.3e6 2.6e27 5.4e36    236   1.01\n",
       "Y_mean[22] 1.0e36  1.0e36 1.7e375.4e-331.7e-17  2.3e6 2.8e27 5.1e36    283   1.01\n",
       "Y_mean[23] 8.9e35  8.6e35 1.3e375.0e-331.6e-17  2.2e6 2.8e27 4.6e36    231   1.01\n",
       "Y_mean[24] 9.2e35  8.9e35 1.4e375.3e-331.6e-17  2.3e6 2.8e27 5.0e36    251   1.01\n",
       "Y_mean[25] 1.0e36  1.0e36 1.6e375.6e-331.5e-17  2.4e6 3.1e27 5.2e36    256   1.01\n",
       "Y_mean[26] 9.6e35  9.3e35 1.5e375.8e-331.9e-17  2.5e6 3.0e27 4.7e36    249   1.01\n",
       "Y_mean[27] 9.9e35  9.5e35 1.5e375.4e-331.7e-17  2.4e6 3.0e27 5.5e36    256   1.01\n",
       "Y_mean[28] 8.8e35  8.5e35 1.3e375.2e-331.6e-17  2.2e6 2.7e27 4.4e36    227   1.01\n",
       "Y_mean[29] 7.2e35  6.9e35 1.1e374.6e-331.3e-17  2.0e6 2.1e27 4.3e36    249   1.01\n",
       "Y_mean[30] 6.7e35  6.4e35 1.0e373.7e-331.1e-17  1.8e6 2.2e27 3.6e36    261   1.01\n",
       "Y_mean[31] 8.6e35  8.2e35 1.4e374.5e-331.1e-17  2.0e6 2.3e27 3.9e36    305   1.01\n",
       "Y_mean[32] 8.2e35  7.9e35 1.3e374.2e-331.4e-17  1.9e6 2.4e27 4.1e36    278   1.01\n",
       "Y_mean[33] 8.3e35  8.0e35 1.3e374.8e-331.4e-17  2.1e6 2.4e27 4.0e36    268   1.01\n",
       "Y_mean[34] 7.9e35  7.7e35 1.1e374.9e-331.3e-17  2.0e6 2.3e27 4.6e36    218   1.01\n",
       "Y_mean[35] 7.0e35  6.7e35 1.0e374.5e-331.2e-17  2.0e6 2.3e27 3.9e36    227   1.01\n",
       "Y_mean[36] 7.5e35  7.3e35 9.2e365.0e-331.4e-17  2.2e6 2.9e27 4.0e36    159   1.02\n",
       "Y_mean[37] 8.4e35  8.1e35 1.2e375.4e-331.4e-17  2.0e6 3.0e27 4.8e36    219   1.01\n",
       "Y_mean[38] 8.5e35  8.3e35 1.2e375.2e-331.5e-17  2.0e6 2.5e27 4.5e36    215   1.01\n",
       "Y_mean[39] 9.7e35  9.3e35 1.7e375.5e-331.6e-17  2.2e6 2.7e27 4.5e36    328   1.01\n",
       "Y_mean[40] 6.8e35  6.5e35 1.1e373.4e-331.2e-17  1.7e6 1.9e27 3.5e36    261   1.01\n",
       "Y_mean[41] 6.2e35  5.9e35 1.1e373.0e-339.8e-18  1.5e6 1.6e27 2.9e36    350   1.01\n",
       "Y_mean[42] 5.7e35  5.5e35 9.1e363.0e-338.2e-18  1.3e6 1.7e27 2.9e36    277   1.01\n",
       "Y_mean[43] 4.5e35  4.4e35 7.3e362.8e-336.9e-18  1.0e6 1.2e27 2.2e36    277   1.01\n",
       "Y_mean[44] 3.6e35  3.5e35 5.3e362.6e-335.8e-18  9.7e5 1.2e27 2.2e36    232   1.01\n",
       "Y_mean[45] 3.9e35  3.8e35 6.3e362.2e-335.2e-18  8.6e5 1.2e27 1.8e36    285   1.01\n",
       "Y_mean[46] 3.7e35  3.5e35 6.1e362.0e-336.0e-18  7.6e5 1.3e27 1.6e36    295   1.01\n",
       "Y_mean[47] 2.9e35  2.8e35 4.4e361.8e-335.2e-18  6.4e5 8.6e26 1.3e36    255   1.01\n",
       "Y_mean[48] 2.8e35  2.7e35 5.2e361.4e-334.0e-18  6.2e5 7.3e26 1.3e36    356   1.01\n",
       "Y_mean[49] 2.2e35  2.1e35 3.5e361.3e-334.2e-18  5.3e5 6.5e26 1.2e36    268   1.01\n",
       "lp__       852.43    0.37   8.79 834.99 846.66 852.51  858.2 869.39    568   1.01\n",
       "\n",
       "Samples were drawn using NUTS at Wed Jul 19 18:27:29 2017.\n",
       "For each parameter, n_eff is a crude measure of effective sample size,\n",
       "and Rhat is the potential scale reduction factor on split chains (at \n",
       "convergence, Rhat=1)."
      ]
     },
     "execution_count": 79,
     "metadata": {},
     "output_type": "execute_result"
    }
   ],
   "source": [
    "fit"
   ]
  },
  {
   "cell_type": "code",
   "execution_count": 80,
   "metadata": {},
   "outputs": [
    {
     "data": {
      "image/png": "[encoded data removed]",
      "text/plain": [
       "<matplotlib.figure.Figure at 0x11631d908>"
      ]
     },
     "execution_count": 80,
     "metadata": {},
     "output_type": "execute_result"
    },
    {
     "data": {
      "image/png": "[encoded data removed]",
      "text/plain": [
       "<matplotlib.figure.Figure at 0x11631d908>"
      ]
     },
     "metadata": {},
     "output_type": "display_data"
    }
   ],
   "source": [
    "fit.plot()"
   ]
  },
  {
   "cell_type": "markdown",
   "metadata": {
    "collapsed": true
   },
   "source": [
    "## 11.4. 空間統計モデルが作り出す確率場"
   ]
  },
  {
   "cell_type": "markdown",
   "metadata": {
    "collapsed": true
   },
   "source": [
    "* 一般に相互作用する確率変数たちで埋め尽くされた空間は確率場と呼ばれる。\n",
    "    * {$r_j$}も確率場の一種。\n",
    "        * (滝沢補足)$r_j$の条件付き事前分布が、平均$\\mu_j = \\frac {r_{j-1}+r_{j+1}} {2}$、標準偏差$s$の正規分布のため\n",
    "        \n",
    "* 標準偏差$s$の大きさによって、{$r_j$}の挙動をみてみる。\n",
    "    * $\\beta$を固定し、$s$を3パターン設定した上で、{$r_1,r_2,...,r_{50}$}の事後分布から3セットずつのサンプルを得て、$\\lambda_j = \\exp(\\beta + r_j)$をグラフにしたのが図11.5。\n",
    "    * $s$が大きいほど、隣とは無関係に値を選べるようになり、各$j$ごとに合わせようとするので、全体的にギザギザした、ばらつきの大きい確率場になる。\n",
    "* このように確率場を組み込んだ統計モデルを使うことは、予測をする時の利点にもなる。"
   ]
  },
  {
   "cell_type": "markdown",
   "metadata": {
    "collapsed": true
   },
   "source": [
    "## 11.5. 空間相関モデルと欠測のある観測データ"
   ]
  },
  {
   "cell_type": "markdown",
   "metadata": {},
   "source": [
    "* 空間相関を組み込んだ改装ベイズモデルの強みの一つとして「欠測のあるデータ」に対してより良い予測が得られることがあります。\n",
    "* 図11.6のように、欠測データが存在する場合を考える。\n",
    "* 空間相関を考慮したモデル、考慮しないモデルそれぞれによる推定を試みる。\n",
    "    * 考慮しないモデルで予測された局所密度は、各区画のデータ$y_j$に合わせようとギザギザする。\n",
    "    * 欠測の調査区画では平均$\\lambda_j$の80%区間が大きく広がっている。\n",
    "    * データがない区間では$r_j$を決めようがない。\n",
    "* 現実のデータ解析ではデータを見ているだけでは空間相関は読み取れない。\n",
    "    * ひとまず空間構造のあるベイズ統計モデルを当てはめて見て、その中の「隣との類似」を表すパラメーター($s$)を推定したらいいのでは。\n",
    "        * $s$が大きいほど類似せず、小さいほど類似する。"
   ]
  },
  {
   "cell_type": "markdown",
   "metadata": {},
   "source": [
    "## 11.6. この章のまとめ"
   ]
  },
  {
   "cell_type": "markdown",
   "metadata": {},
   "source": [
    "* 空間構造のあるデータを統計モデル化する場合、空間相関を考慮しなければならない\n",
    "* 空間相関のある場所差は確率場を使って表現できる。\n",
    "* 空間相関を考慮した改装ベイズモデルは観測データの欠測部分を予測するような用途にも使える。\n",
    "* 空間構造ではなく、時間構造のあるデータにも階層ベイズモデルをを用いることができる。"
   ]
  },
  {
   "cell_type": "markdown",
   "metadata": {},
   "source": [
    "# 参考させていただいたページ\n",
    "[久保緑本11章のマルコフ場モデル（空間構造のあるベイズモデル） - StatModeling Memorandum](http://statmodeling.hatenablog.com/entry/markov-field-model)"
   ]
  }
 ],
 "metadata": {
  "kernelspec": {
   "display_name": "Python 3",
   "language": "python",
   "name": "python3"
  },
  "language_info": {
   "codemirror_mode": {
    "name": "ipython",
    "version": 3
   },
   "file_extension": ".py",
   "mimetype": "text/x-python",
   "name": "python",
   "nbconvert_exporter": "python",
   "pygments_lexer": "ipython3",
   "version": "3.6.0"
  }
 },
 "nbformat": 4,
 "nbformat_minor": 2
}
