{
 "cells": [
  {
   "cell_type": "markdown",
   "metadata": {},
   "source": [
    "# 第2章 確率分布と統計モデルの最尤推定\n",
    "\n",
    "Q. 確率分布とは？"
   ]
  },
  {
   "cell_type": "markdown",
   "metadata": {},
   "source": [
    "A.\n",
    "* 統計モデルの本質的な部品\n",
    "* データに見られる様々な「ばらつき」を表現"
   ]
  },
  {
   "cell_type": "markdown",
   "metadata": {},
   "source": [
    "\n",
    "## 2.1.例題：種子数の統計モデリング\n",
    "* データの特徴は、後で確率分布を選ぶときの手がかりとなる\n",
    "* データ解析で最も重要なのは、そのデータを様々な方法で図示してみること "
   ]
  },
  {
   "cell_type": "markdown",
   "metadata": {},
   "source": [
    "* データは[こちら](http://hosho.ees.hokudai.ac.jp/~kubo/ce/IwanamiBook.html)"
   ]
  },
  {
   "cell_type": "markdown",
   "metadata": {},
   "source": [
    "* RDataが読み込めなくなったため、[こちら](https://stackoverflow.com/questions/13189467/how-to-convert-rdata-format-into-text-file-format)を参考にR上でcsvファイル(chap2_data.csv)を作成した後、Pythonで読み込んでいる。\n"
   ]
  },
  {
   "cell_type": "code",
   "execution_count": 1,
   "metadata": {
    "collapsed": true
   },
   "outputs": [],
   "source": [
    "import matplotlib.pyplot as plt\n",
    "import pandas as pd\n",
    "import numpy as np\n",
    "import scipy.stats as sct\n",
    "# from rpy2.robjects import r #Rインストール後動かなくなってしまった。\n",
    "%matplotlib inline"
   ]
  },
  {
   "cell_type": "markdown",
   "metadata": {},
   "source": [
    "### データを読み込んで表示する"
   ]
  },
  {
   "cell_type": "code",
   "execution_count": 2,
   "metadata": {
    "collapsed": true
   },
   "outputs": [],
   "source": [
    "data =pd.read_csv(\"chap2_data.csv\").x\n",
    "\n",
    "# r['load']('data.RData')\n",
    "# data = pd.Series(np.array(r['data']))"
   ]
  },
  {
   "cell_type": "code",
   "execution_count": 3,
   "metadata": {},
   "outputs": [
    {
     "data": {
      "text/plain": [
       "0     2\n",
       "1     2\n",
       "2     4\n",
       "3     6\n",
       "4     4\n",
       "5     5\n",
       "6     2\n",
       "7     3\n",
       "8     1\n",
       "9     2\n",
       "10    0\n",
       "11    4\n",
       "12    3\n",
       "13    3\n",
       "14    3\n",
       "15    3\n",
       "16    4\n",
       "17    2\n",
       "18    7\n",
       "19    2\n",
       "20    4\n",
       "21    3\n",
       "22    3\n",
       "23    3\n",
       "24    4\n",
       "25    3\n",
       "26    7\n",
       "27    5\n",
       "28    3\n",
       "29    1\n",
       "30    7\n",
       "31    6\n",
       "32    4\n",
       "33    6\n",
       "34    5\n",
       "35    2\n",
       "36    4\n",
       "37    7\n",
       "38    2\n",
       "39    2\n",
       "40    6\n",
       "41    2\n",
       "42    4\n",
       "43    5\n",
       "44    4\n",
       "45    5\n",
       "46    1\n",
       "47    3\n",
       "48    2\n",
       "49    3\n",
       "Name: x, dtype: int64"
      ]
     },
     "execution_count": 3,
     "metadata": {},
     "output_type": "execute_result"
    }
   ],
   "source": [
    "data"
   ]
  },
  {
   "cell_type": "markdown",
   "metadata": {},
   "source": [
    "### データの個数を数える"
   ]
  },
  {
   "cell_type": "code",
   "execution_count": 4,
   "metadata": {},
   "outputs": [
    {
     "data": {
      "text/plain": [
       "50"
      ]
     },
     "execution_count": 4,
     "metadata": {},
     "output_type": "execute_result"
    }
   ],
   "source": [
    "len(data)"
   ]
  },
  {
   "cell_type": "markdown",
   "metadata": {},
   "source": [
    "### データを要約せよ"
   ]
  },
  {
   "cell_type": "code",
   "execution_count": 5,
   "metadata": {},
   "outputs": [
    {
     "data": {
      "text/plain": [
       "count    50.00000\n",
       "mean      3.56000\n",
       "std       1.72804\n",
       "min       0.00000\n",
       "25%       2.00000\n",
       "50%       3.00000\n",
       "75%       4.75000\n",
       "max       7.00000\n",
       "Name: x, dtype: float64"
      ]
     },
     "execution_count": 5,
     "metadata": {},
     "output_type": "execute_result"
    }
   ],
   "source": [
    "data.describe()"
   ]
  },
  {
   "cell_type": "markdown",
   "metadata": {},
   "source": [
    "### 度数分布を作成"
   ]
  },
  {
   "cell_type": "code",
   "execution_count": 6,
   "metadata": {},
   "outputs": [
    {
     "data": {
      "text/plain": [
       "(array([ 1,  3, 11, 12, 10,  5,  8]),\n",
       " array([ 0.,  1.,  2.,  3.,  4.,  5.,  6.,  7.]))"
      ]
     },
     "execution_count": 6,
     "metadata": {},
     "output_type": "execute_result"
    }
   ],
   "source": [
    "np.histogram(data,bins=7)"
   ]
  },
  {
   "cell_type": "markdown",
   "metadata": {},
   "source": [
    "### ヒストグラムの図示"
   ]
  },
  {
   "cell_type": "code",
   "execution_count": 7,
   "metadata": {},
   "outputs": [
    {
     "data": {
      "text/plain": [
       "(array([  1.,   3.,  11.,  12.,  10.,   5.,   4.,   4.]),\n",
       " array([-0.5,  0.5,  1.5,  2.5,  3.5,  4.5,  5.5,  6.5,  7.5]),\n",
       " <a list of 8 Patch objects>)"
      ]
     },
     "execution_count": 7,
     "metadata": {},
     "output_type": "execute_result"
    },
    {
     "data": {
      "image/png": "[encoded data removed]",
      "text/plain": [
       "<matplotlib.figure.Figure at 0x1095152b0>"
      ]
     },
     "metadata": {},
     "output_type": "display_data"
    }
   ],
   "source": [
    "plt.hist(data,bins=np.arange(-0.5,8.5,1))"
   ]
  },
  {
   "cell_type": "markdown",
   "metadata": {},
   "source": [
    "### 標本分散"
   ]
  },
  {
   "cell_type": "code",
   "execution_count": 8,
   "metadata": {},
   "outputs": [
    {
     "data": {
      "text/plain": [
       "2.9264000000000006"
      ]
     },
     "execution_count": 8,
     "metadata": {},
     "output_type": "execute_result"
    }
   ],
   "source": [
    "data.var(ddof=0) # 標本分散"
   ]
  },
  {
   "cell_type": "code",
   "execution_count": 22,
   "metadata": {},
   "outputs": [
    {
     "data": {
      "text/plain": [
       "2.9861224489795921"
      ]
     },
     "execution_count": 22,
     "metadata": {},
     "output_type": "execute_result"
    }
   ],
   "source": [
    "data.var(ddof=1) # 不偏分散"
   ]
  },
  {
   "cell_type": "code",
   "execution_count": 23,
   "metadata": {},
   "outputs": [
    {
     "data": {
      "text/plain": [
       "2.9264000000000006"
      ]
     },
     "execution_count": 23,
     "metadata": {},
     "output_type": "execute_result"
    }
   ],
   "source": [
    "np.var(data) # 標本分散"
   ]
  },
  {
   "cell_type": "code",
   "execution_count": 24,
   "metadata": {},
   "outputs": [
    {
     "data": {
      "text/plain": [
       "2.9861224489795921"
      ]
     },
     "execution_count": 24,
     "metadata": {},
     "output_type": "execute_result"
    }
   ],
   "source": [
    "np.var(data,ddof=1)　# 不偏分散"
   ]
  },
  {
   "cell_type": "markdown",
   "metadata": {},
   "source": [
    "### 標準偏差\n",
    "* 下記の2つの求め方がある"
   ]
  },
  {
   "cell_type": "code",
   "execution_count": 9,
   "metadata": {},
   "outputs": [
    {
     "data": {
      "text/plain": [
       "1.7280400600042789"
      ]
     },
     "execution_count": 9,
     "metadata": {},
     "output_type": "execute_result"
    }
   ],
   "source": [
    "data.std()"
   ]
  },
  {
   "cell_type": "code",
   "execution_count": 10,
   "metadata": {},
   "outputs": [
    {
     "data": {
      "text/plain": [
       "1.7280400600042789"
      ]
     },
     "execution_count": 10,
     "metadata": {},
     "output_type": "execute_result"
    }
   ],
   "source": [
    "np.sqrt(data.var())"
   ]
  },
  {
   "cell_type": "markdown",
   "metadata": {},
   "source": [
    "## 2.2.データと確率分布の対応関係を眺める\n",
    "* ポアソン分布\n",
    "\n",
    "Q. 確率分布とは？\n"
   ]
  },
  {
   "cell_type": "markdown",
   "metadata": {},
   "source": [
    "A.\n",
    "* 確率変数の値とそれが出現する確率を対応させたもの"
   ]
  },
  {
   "cell_type": "markdown",
   "metadata": {},
   "source": [
    "Q. パラメーターとは？"
   ]
  },
  {
   "cell_type": "markdown",
   "metadata": {},
   "source": [
    "A.\n",
    "* 確率分布の形を決めるもの"
   ]
  },
  {
   "cell_type": "markdown",
   "metadata": {},
   "source": [
    "Q. ポアソン分布で指定できるパラメーターは？"
   ]
  },
  {
   "cell_type": "markdown",
   "metadata": {},
   "source": [
    "A.\n",
    "* 分布の平均"
   ]
  },
  {
   "cell_type": "markdown",
   "metadata": {},
   "source": [
    "### 平均3.56のポアソン分布を作成する\n",
    "* ひとまず、図示してみよう。"
   ]
  },
  {
   "cell_type": "code",
   "execution_count": 11,
   "metadata": {
    "collapsed": true
   },
   "outputs": [],
   "source": [
    "y = range(10)\n",
    "prob = sct.poisson.pmf(y,mu=3.56)"
   ]
  },
  {
   "cell_type": "code",
   "execution_count": 12,
   "metadata": {},
   "outputs": [
    {
     "data": {
      "text/plain": [
       "array([ 0.02843882,  0.10124222,  0.18021114,  0.21385056,  0.190327  ,\n",
       "        0.13551282,  0.08040427,  0.04089132,  0.01819664,  0.00719778])"
      ]
     },
     "execution_count": 12,
     "metadata": {},
     "output_type": "execute_result"
    }
   ],
   "source": [
    "prob"
   ]
  },
  {
   "cell_type": "markdown",
   "metadata": {},
   "source": [
    "### グラフにする"
   ]
  },
  {
   "cell_type": "code",
   "execution_count": 13,
   "metadata": {},
   "outputs": [
    {
     "data": {
      "text/plain": [
       "[<matplotlib.lines.Line2D at 0x10982b2e8>]"
      ]
     },
     "execution_count": 13,
     "metadata": {},
     "output_type": "execute_result"
    },
    {
     "data": {
      "image/png": "[encoded data removed]",
      "text/plain": [
       "<matplotlib.figure.Figure at 0x1096ef7b8>"
      ]
     },
     "metadata": {},
     "output_type": "display_data"
    }
   ],
   "source": [
    "plt.plot(y,prob,\"o--\")"
   ]
  },
  {
   "cell_type": "markdown",
   "metadata": {},
   "source": [
    "### 前述のヒストグラムとポアソン分布を重ねて表示する"
   ]
  },
  {
   "cell_type": "code",
   "execution_count": 14,
   "metadata": {},
   "outputs": [
    {
     "data": {
      "image/png": "[encoded data removed]",
      "text/plain": [
       "<matplotlib.figure.Figure at 0x109515860>"
      ]
     },
     "metadata": {},
     "output_type": "display_data"
    }
   ],
   "source": [
    "fig,ax1=plt.subplots()\n",
    "\n",
    "ax1.hist(data,bins=[i-0.5 for i in range(11)])\n",
    "ax2=ax1.twinx()\n",
    "ax2.plot(y,prob,\"ro--\")\n",
    "\n",
    "plt.show()"
   ]
  },
  {
   "cell_type": "markdown",
   "metadata": {},
   "source": [
    "* 観察されたばらつきがポアソン分布で表現できてるみたいだなぁ。\n",
    "* 図の見た目による納得気分をもう少し定量的に示す方法を考える。\n",
    "    * どのような確率分布、統計モデルを使って与えられた観測データを説明できるのか\n",
    "    * 観測データを説明できる良い統計モデルとは何か。"
   ]
  },
  {
   "cell_type": "markdown",
   "metadata": {},
   "source": [
    "## 2.3.ポアソン分布とは何か？\n",
    "Q. ポアソン分布の定義(数式)は？"
   ]
  },
  {
   "cell_type": "markdown",
   "metadata": {},
   "source": [
    "A.\n",
    "$$\n",
    "p(y|\\lambda) = \\frac{\\lambda^ye^{-\\lambda}}{y!}(\\lambdaは平均)\n",
    "$$"
   ]
  },
  {
   "cell_type": "markdown",
   "metadata": {},
   "source": [
    "Q. ポアソン分布の性質は？(3つ)"
   ]
  },
  {
   "cell_type": "markdown",
   "metadata": {},
   "source": [
    "A.\n",
    "* yは0以上の整数を取り、すべてのyについて和を取ると1になる\n",
    "* 確率分布の平均はλである(λ≧0)\n",
    "* 分散と平均は等しい"
   ]
  },
  {
   "cell_type": "markdown",
   "metadata": {},
   "source": [
    "## 2.4.ポアソン分布のパラメーターの最尤推定\n",
    "* 確率分布のパラメーターを、観測データに基づいて推定する方法について\n",
    "\n",
    "Q. 最尤推定法とは？"
   ]
  },
  {
   "cell_type": "markdown",
   "metadata": {},
   "source": [
    "A.\n",
    "* 尤度なる「あてはまりの良さ」を表す統計量を最大にするようなパラメーターの値を探そうとする、パラメータ推定方法\n",
    "* 尤度の実態は、あるλの値を決めた時に、すべての個体iについての$p(y_i|\\lambda)$の積\n",
    "* どのような確率分布を使った統計モデルにも適用できる"
   ]
  },
  {
   "cell_type": "markdown",
   "metadata": {},
   "source": [
    "Q. 例題の尤度$L(\\lambda)$の計算式は？"
   ]
  },
  {
   "cell_type": "markdown",
   "metadata": {},
   "source": [
    "A.\n",
    "$$\n",
    "L(\\lambda) = \\prod_{i} \\frac{\\lambda^{y_{i}}e^{-\\lambda}}{y_{i}!}\n",
    "$$\n",
    "* 積になるのは50個の事象が同時に真である確率を求めたいから"
   ]
  },
  {
   "cell_type": "markdown",
   "metadata": {},
   "source": [
    "Q. 上記を対数変換した対数尤度関数は？"
   ]
  },
  {
   "cell_type": "markdown",
   "metadata": {},
   "source": [
    "A.\n",
    "$$\n",
    "\\log L(\\lambda) = \\sum_{i}(y_i \\log \\lambda - \\lambda - \\sum_{k}^{y_i} \\log k)\n",
    "$$\n",
    "* この対数尤度関数を使ってパラメータを最尤推定する"
   ]
  },
  {
   "cell_type": "code",
   "execution_count": 15,
   "metadata": {},
   "outputs": [
    {
     "data": {
      "text/plain": [
       "[<matplotlib.lines.Line2D at 0x109aabe80>]"
      ]
     },
     "execution_count": 15,
     "metadata": {},
     "output_type": "execute_result"
    },
    {
     "data": {
      "image/png": "[encoded data removed]",
      "text/plain": [
       "<matplotlib.figure.Figure at 0x10976d5c0>"
      ]
     },
     "metadata": {},
     "output_type": "display_data"
    }
   ],
   "source": [
    "logL = lambda m: sum(sct.poisson.logpmf(data,m))\n",
    "x = np.arange(2,5,0.1)\n",
    "logL_list = [logL(m) for m in x]\n",
    "plt.plot(x,logL_list)"
   ]
  },
  {
   "cell_type": "markdown",
   "metadata": {},
   "source": [
    "Q. 最尤推定量とは？"
   ]
  },
  {
   "cell_type": "markdown",
   "metadata": {},
   "source": [
    "A.\n",
    "* 対数尤度あるいは尤度が最大になる$\\hat{\\lambda}$\n",
    "* 具体的に算出された値($\\hat{\\lambda}=3.56$)を最尤推定値と呼ぶ"
   ]
  },
  {
   "cell_type": "markdown",
   "metadata": {},
   "source": [
    "* 実際のデータ解析で使う統計モデルはもっと複雑になるため、簡単には最尤推定量を導出できない\n",
    "\n",
    "### 2.4.1.擬似乱数と最尤推定値のばらつき\n",
    "\n",
    "#### ポアソン乱数を発生させる\n",
    "* 平均3.5のポアソン乱数を50個発生させる"
   ]
  },
  {
   "cell_type": "code",
   "execution_count": 16,
   "metadata": {
    "collapsed": true
   },
   "outputs": [],
   "source": [
    "a =np.random.poisson(lam=3.5,size=50)\n",
    "d = pd.Series(a)"
   ]
  },
  {
   "cell_type": "code",
   "execution_count": 17,
   "metadata": {},
   "outputs": [
    {
     "data": {
      "text/plain": [
       "(array([  1.,   6.,  11.,   9.,   9.,   9.]),\n",
       " array([-0.5,  0.5,  1.5,  2.5,  3.5,  4.5,  5.5]),\n",
       " <a list of 6 Patch objects>)"
      ]
     },
     "execution_count": 17,
     "metadata": {},
     "output_type": "execute_result"
    },
    {
     "data": {
      "image/png": "[encoded data removed]",
      "text/plain": [
       "<matplotlib.figure.Figure at 0x1097e6be0>"
      ]
     },
     "metadata": {},
     "output_type": "display_data"
    }
   ],
   "source": [
    "plt.hist(d,bins=np.arange(d.max())-0.5)"
   ]
  },
  {
   "cell_type": "markdown",
   "metadata": {},
   "source": [
    "* 発生させた50個の平均を見てみる。"
   ]
  },
  {
   "cell_type": "code",
   "execution_count": 18,
   "metadata": {},
   "outputs": [
    {
     "data": {
      "text/plain": [
       "3.3399999999999999"
      ]
     },
     "execution_count": 18,
     "metadata": {},
     "output_type": "execute_result"
    }
   ],
   "source": [
    "d.mean()"
   ]
  },
  {
   "cell_type": "markdown",
   "metadata": {},
   "source": [
    "* 平均3.5のポアソン分布から発生させた50個の乱数。その平均は上記となり、ズレが発生する。"
   ]
  },
  {
   "cell_type": "markdown",
   "metadata": {},
   "source": [
    "#### ランダムに最尤推定値を3000回計算する"
   ]
  },
  {
   "cell_type": "markdown",
   "metadata": {},
   "source": [
    "* 平均値が3.5のポアソン乱数を50個発生させる\n",
    "* その平均（最尤推定値）をとる。\n",
    "* これを3000回繰り返す。"
   ]
  },
  {
   "cell_type": "code",
   "execution_count": 19,
   "metadata": {
    "collapsed": true
   },
   "outputs": [],
   "source": [
    "count = list()\n",
    "for _ in range(3000):\n",
    "    a = np.random.poisson(lam=3.5,size=50)\n",
    "    count.append(a.mean())"
   ]
  },
  {
   "cell_type": "code",
   "execution_count": 20,
   "metadata": {},
   "outputs": [
    {
     "data": {
      "text/plain": [
       "(0, 1500)"
      ]
     },
     "execution_count": 20,
     "metadata": {},
     "output_type": "execute_result"
    },
    {
     "data": {
      "image/png": "[encoded data removed]",
      "text/plain": [
       "<matplotlib.figure.Figure at 0x109bc58d0>"
      ]
     },
     "metadata": {},
     "output_type": "display_data"
    }
   ],
   "source": [
    "plt.hist(count,bins=np.arange(2.5,4.5,0.1))\n",
    "plt.xlim(2.5,4.5)\n",
    "plt.ylim(0,1500)"
   ]
  },
  {
   "cell_type": "markdown",
   "metadata": {
    "collapsed": true
   },
   "source": [
    "* 本来であれば、平均値が3.5のポアソン乱数を発生させているため、その最尤推定値も3.5になるはず。（自然が持つ情報）\n",
    "* しかし上記の通り、ばらつきがある。これはデータが50個体分しかないから。（観測データ）\n",
    "* 推定値のばらつきを標準誤差と呼ぶ。\n",
    "* 調査個体数が大きいほど推定値の標準誤差は小さくなる。実際に試してみると下記。"
   ]
  },
  {
   "cell_type": "markdown",
   "metadata": {},
   "source": [
    "#### データを500個にし、3000回計算する"
   ]
  },
  {
   "cell_type": "code",
   "execution_count": 21,
   "metadata": {},
   "outputs": [
    {
     "data": {
      "text/plain": [
       "(0, 1500)"
      ]
     },
     "execution_count": 21,
     "metadata": {},
     "output_type": "execute_result"
    },
    {
     "data": {
      "image/png": "[encoded data removed]",
      "text/plain": [
       "<matplotlib.figure.Figure at 0x109d01860>"
      ]
     },
     "metadata": {},
     "output_type": "display_data"
    }
   ],
   "source": [
    "count = list()\n",
    "for i in range(3000):\n",
    "    a = np.random.poisson(lam=3.5,size=500)\n",
    "    count.append(a.mean())\n",
    "    \n",
    "plt.hist(count,bins=np.arange(2.5,4.5,0.1))\n",
    "plt.xlim(2.5,4.5)\n",
    "plt.ylim(0,1500)"
   ]
  },
  {
   "cell_type": "markdown",
   "metadata": {},
   "source": [
    "* 個体が増えたため、ばらつきが減った。\n",
    "* ここで使った方法は真のモデルを知ってなければ使えない。推定値のばらつきを見積もるには、たまたま得られた観測データから推定された値にすぎない$\\hat{\\lambda}$を利用して乱数を発生させる。"
   ]
  },
  {
   "cell_type": "markdown",
   "metadata": {},
   "source": [
    "## 2.5.統計モデルの要点：乱数発生・推定・予測\n",
    "\n",
    "1. ばらつきのあるデータを見た時に「確率分布から発生したと考えれば扱いやすそうだ」と考えることが統計モデリングの第一歩\n",
    "2. 確率分布を仮定する（ポアソン分布など）\n",
    "3. 推定、あてはめ：パラメーター$\\lambda$はどんな値か\n",
    "4. 予測：推定で得られた統計モデルを用いて次のデータの分布を見積もる\n",
    "    1. 次に得られる応答変数の平均だけを示す\n",
    "    2. 平均だけでなく、次に得られるデータはこの範囲に散らばるはずという予測区間も示す\n",
    "5. 検証：予測の良さ（推定されたモデルが新しく得られたデータにどれぐらいよく当てはまるか）\n",
    "\n",
    "### 2.5.1.データ解析に置ける推定・予測の役割\n",
    "\n",
    "* 推定されたモデルを使って予測するためには、自分が使っている統計モデルをよく理解していなければならない。\n",
    "* 推定結果を図示することが重要\n",
    "* 科学で使われるモデルの良さとは、そのモデルの予測の良さによって決まります。また、推定されたモデルによる予測を試みることで、自分が使っている近似的・現象論的な統計モデルの理解が深まり、またその不備が判明することもあります。\n",
    "* 推定したモデルによる予測は重要。推定しただけ、あるいは「検定」しただけでは十分とは言えない\n"
   ]
  },
  {
   "cell_type": "markdown",
   "metadata": {},
   "source": [
    "## 2.6.確率分布の選び方\n",
    "|  | 離散・連続 | 範囲 |標本分散、標本平均の関係|\n",
    "|:-----------|------------:|:------------:|:------------:|\n",
    "| ポアソン分布       | 離散| ゼロ以上の範囲、上限特になし | 平均≈分散|\n",
    "| 二項分布     | 離散 | ゼロ以上で有限の範囲 |分散は平均の関数|\n",
    "| 正規分布  | 連続   | [-∞,+∞]  |分散と平均は無関係|\n",
    "| ガンマ分布| 連続  | [0,+∞] |分散は平均の関数|\n",
    "\n",
    "### 2.6.1.もっと複雑な確率分布が必要か？\n",
    "* そんなに多種類の確率分布を使いこなさなくても良い。統計モデリングの工夫次第\n",
    "* 「データ化されていない個体差、見なかった個体差」がある場合には、確率分布を混ぜ合わせることで解決。\n",
    "\n",
    "## 2.7. この章のまとめと参考文献\n",
    "* 確率分布には様々なものがあるので、データの特徴に合わせて確率分布を選ぶ\n",
    "* どのような確率分布を使った統計モデルでも、「データに対するあてはまりの良さ」を対数尤度であらわすことができ、最尤推定とは対数尤度を最大にするようなパラメーターを探し出すことである\n",
    "* 推定とは、今得られたデータに当てはまるようなパラメータを探し出すこと。予測とは、次に得られるデータへの当てはまりを重視すること。\n",
    "* 簡単な確率分布を「混ぜ合わせる」ことで、現実に見られる複雑なばらつきに対処できる"
   ]
  },
  {
   "cell_type": "markdown",
   "metadata": {},
   "source": [
    "## 課題\n",
    "* ポアソン分布と考えられそうなデータを見つけ、推定用、予測用(検証用)に分割する。\n",
    "* 推定用のデータを用いて、ポアソン分布のパラメータの推定を行う\n",
    "* 予測用データに対して予測を行い、当てはまりの良さを確認する"
   ]
  },
  {
   "cell_type": "code",
   "execution_count": null,
   "metadata": {
    "collapsed": true
   },
   "outputs": [],
   "source": []
  }
 ],
 "metadata": {
  "kernelspec": {
   "display_name": "Python 3",
   "language": "python",
   "name": "python3"
  },
  "language_info": {
   "codemirror_mode": {
    "name": "ipython",
    "version": 3
   },
   "file_extension": ".py",
   "mimetype": "text/x-python",
   "name": "python",
   "nbconvert_exporter": "python",
   "pygments_lexer": "ipython3",
   "version": "3.6.0"
  }
 },
 "nbformat": 4,
 "nbformat_minor": 2
}
