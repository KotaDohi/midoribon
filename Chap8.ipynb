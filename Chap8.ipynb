{
 "cells": [
  {
   "cell_type": "markdown",
   "metadata": {},
   "source": [
    "# 8. マルコフ連鎖モンテカルロ(MCMC)法とベイズ統計モデル"
   ]
  },
  {
   "cell_type": "markdown",
   "metadata": {
    "collapsed": true
   },
   "source": [
    "* 7章では観測できない不均質さを内包しているデータに対処するために、GLMMを導入した。\n",
    "* 7章では個体差、場所差のどちらかのみ。\n",
    "* 個体差、場所差の両方を同時に考慮した統計モデルが必要になることもある。\n",
    "* ランダム効果の発生源が増えるとパラメータの推定が困難になる。\n",
    "* そこで、このように複雑な統計モデルの当てはめで威力を発揮するのが、**マルコフ連鎖モンテカルロ法**(Markov chain Monte Carlo method,MCMC method)。\n",
    "* MCMCアルゴリズムは、多変量の確率分布からの巧妙な乱数発生方法であり、統計モデルを観測データに当てはめるとMCMCサンプルが得られる。"
   ]
  },
  {
   "cell_type": "markdown",
   "metadata": {},
   "source": [
    "## 8.1. 例題：種子の生存確率（個体差なし）"
   ]
  },
  {
   "cell_type": "markdown",
   "metadata": {},
   "source": [
    "* 20個体から各8個の種子の生死を調べた。\n",
    "* ヒストグラムは図8.1(B)\n",
    "* 生存種子数$y_i$が二項分布に従うと仮定すると、\n",
    "$$\n",
    "p(y_i | q) = \\binom{8}{y_i} q^{y_i} (1-q)^{8-y_i}\n",
    "$$\n",
    "* 尤度$L(q)$は20個体分の「データが得られる確率」の積なので\n",
    "$$\n",
    "L(q) = p({\\bf{Y}}|q) = \\prod_i (y_i|q)\n",
    "$$\n",
    "* 両辺の対数を取ると\n",
    "$$\n",
    "\\log L(q) = \\sum_i \\{ y_i \\log q +(8-y_i) log(1-q)\\} + \\bf{C}\n",
    "$$\n",
    "* この対数尤度が最大になるのは、$d \\log L(q) / dq = 0$となる$\\hat{q}$。求めると、\n",
    "$$\n",
    "\\hat{q} = \\frac {Survival Num Of Seeds}{Survey Num Of Seeds} = \\frac {73}{8\\times 20} = 0.45625\n",
    "$$"
   ]
  },
  {
   "cell_type": "markdown",
   "metadata": {},
   "source": [
    "## 8.2. ふらふら試行錯誤による最尤推定"
   ]
  },
  {
   "cell_type": "markdown",
   "metadata": {},
   "source": [
    "* 仮に最尤推定量$\\hat q$が解析的に求められなくても、繰り返し試行錯誤によって対数尤度が高くなる$\\hat q$を探し出す事ができる。\n",
    "* ここでは効率が悪く精度も良くない試行錯誤による最尤推定方法を紹介する。\n"
   ]
  },
  {
   "cell_type": "markdown",
   "metadata": {},
   "source": [
    "1. 図8.2のグラフを元に$q$を飛び飛びの値にして離散化する。\n",
    "2. ある$q$を選択する。\n",
    "3. 選択した$q$からランダムに隣を選ぶ。\n",
    "4. 対数尤度が今の$q$より高ければそちらに移動する。\n",
    "5. 3,4を繰り返す\n",
    "6. すると、$q$の初期値に関係なく、対数尤度の山を登りながら、$q$の値が最尤推定値の方向に変化していく。"
   ]
  },
  {
   "cell_type": "markdown",
   "metadata": {},
   "source": [
    "## 8.3. MCMCアルゴリズムのひとつ：メトロポリス法"
   ]
  },
  {
   "cell_type": "markdown",
   "metadata": {},
   "source": [
    "* MCMCアルゴリズムの説明に入る。\n",
    "* メトロポリス法はMCMCアルゴリズムの中で最も簡単"
   ]
  },
  {
   "cell_type": "markdown",
   "metadata": {},
   "source": [
    "1. パラメータ$q$の初期値を選ぶ\n",
    "* $q$を増やすか減らすかランダムに決める\n",
    "* $q^{新}$"
   ]
  },
  {
   "cell_type": "code",
   "execution_count": null,
   "metadata": {
    "collapsed": true
   },
   "outputs": [],
   "source": []
  }
 ],
 "metadata": {
  "kernelspec": {
   "display_name": "Python 3",
   "language": "python",
   "name": "python3"
  },
  "language_info": {
   "codemirror_mode": {
    "name": "ipython",
    "version": 3
   },
   "file_extension": ".py",
   "mimetype": "text/x-python",
   "name": "python",
   "nbconvert_exporter": "python",
   "pygments_lexer": "ipython3",
   "version": "3.6.0"
  }
 },
 "nbformat": 4,
 "nbformat_minor": 2
}
