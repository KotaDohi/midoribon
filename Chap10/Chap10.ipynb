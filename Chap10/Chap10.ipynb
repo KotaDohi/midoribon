{
 "cells": [
  {
   "cell_type": "markdown",
   "metadata": {},
   "source": [
    "# 10. 階層ベイズモデル -GLMMのベイズモデル化-"
   ]
  },
  {
   "cell_type": "markdown",
   "metadata": {},
   "source": [
    "* 9章では、無情報事前分布を使ったベイズ統計モデル\n",
    "* 10章では、階層事前分布を使って一般化線形混合モデル(GLMM)を階層ベイズモデルとして扱う\n",
    "    * 現実的な統計モデルを構築するためには、無情報事前分布だけではなく、階層事前分布も使わなければならない\n",
    "* 階層ベイズモデルとMCMCサンプリングによるパラメータ推定は、複雑な統計モデルの時に威力を発揮する。"
   ]
  },
  {
   "cell_type": "markdown",
   "metadata": {},
   "source": [
    "## 10.1.例題：個体差と生存種子数（個体差あり）"
   ]
  },
  {
   "cell_type": "markdown",
   "metadata": {},
   "source": [
    "* 種子の生存確率を調べる問題\n",
    "* 100個体から8つの種子を取り出し、生存数を数える。"
   ]
  },
  {
   "cell_type": "code",
   "execution_count": 1,
   "metadata": {
    "collapsed": true
   },
   "outputs": [],
   "source": [
    "import numpy as np\n",
    "import pandas as pd\n",
    "import matplotlib.pyplot as plt\n",
    "%matplotlib inline\n",
    "\n",
    "data_df = pd.read_csv(\"./input/data7a.csv\")\n",
    "\n",
    "rng = np.random.RandomState(160)"
   ]
  },
  {
   "cell_type": "code",
   "execution_count": 2,
   "metadata": {},
   "outputs": [
    {
     "data": {
      "text/html": [
       "<div>\n",
       "<style>\n",
       "    .dataframe thead tr:only-child th {\n",
       "        text-align: right;\n",
       "    }\n",
       "\n",
       "    .dataframe thead th {\n",
       "        text-align: left;\n",
       "    }\n",
       "\n",
       "    .dataframe tbody tr th {\n",
       "        vertical-align: top;\n",
       "    }\n",
       "</style>\n",
       "<table border=\"1\" class=\"dataframe\">\n",
       "  <thead>\n",
       "    <tr style=\"text-align: right;\">\n",
       "      <th></th>\n",
       "      <th>id</th>\n",
       "      <th>y</th>\n",
       "    </tr>\n",
       "  </thead>\n",
       "  <tbody>\n",
       "    <tr>\n",
       "      <th>0</th>\n",
       "      <td>1</td>\n",
       "      <td>0</td>\n",
       "    </tr>\n",
       "    <tr>\n",
       "      <th>1</th>\n",
       "      <td>2</td>\n",
       "      <td>2</td>\n",
       "    </tr>\n",
       "    <tr>\n",
       "      <th>2</th>\n",
       "      <td>3</td>\n",
       "      <td>7</td>\n",
       "    </tr>\n",
       "    <tr>\n",
       "      <th>3</th>\n",
       "      <td>4</td>\n",
       "      <td>8</td>\n",
       "    </tr>\n",
       "    <tr>\n",
       "      <th>4</th>\n",
       "      <td>5</td>\n",
       "      <td>1</td>\n",
       "    </tr>\n",
       "  </tbody>\n",
       "</table>\n",
       "</div>"
      ],
      "text/plain": [
       "   id  y\n",
       "0   1  0\n",
       "1   2  2\n",
       "2   3  7\n",
       "3   4  8\n",
       "4   5  1"
      ]
     },
     "execution_count": 2,
     "metadata": {},
     "output_type": "execute_result"
    }
   ],
   "source": [
    "data_df.head()"
   ]
  },
  {
   "cell_type": "markdown",
   "metadata": {},
   "source": [
    "* 説明変数$x$は存在しない"
   ]
  },
  {
   "cell_type": "code",
   "execution_count": 3,
   "metadata": {
    "scrolled": true
   },
   "outputs": [
    {
     "data": {
      "text/plain": [
       "(array([  0.,   5.,  12.,  21.,  31.,  20.,  11.,   0.,   0.]),\n",
       " array([-0.5,  0.5,  1.5,  2.5,  3.5,  4.5,  5.5,  6.5,  7.5,  8.5]),\n",
       " <a list of 9 Patch objects>)"
      ]
     },
     "execution_count": 3,
     "metadata": {},
     "output_type": "execute_result"
    },
    {
     "data": {
      "image/png": "[encoded data removed]",
      "text/plain": [
       "<matplotlib.figure.Figure at 0x1079c6390>"
      ]
     },
     "metadata": {},
     "output_type": "display_data"
    }
   ],
   "source": [
    "# 生起確率0.504で、8個取り出すのを100回繰り返し、リストに入れる。\n",
    "y_list = rng.binomial(8,0.504,100)\n",
    "\n",
    "plt.hist(data_df.y,bins=np.arange(10)-0.5,alpha=0.6)\n",
    "plt.hist(y_list,bins=np.arange(10)-0.5,alpha=0.6)"
   ]
  },
  {
   "cell_type": "markdown",
   "metadata": {},
   "source": [
    "* 個体に由来するランダム効果によって、過分散が生じているようだ。"
   ]
  },
  {
   "cell_type": "markdown",
   "metadata": {},
   "source": [
    "## 10.2. GLMMの階層ベイズモデル化"
   ]
  },
  {
   "cell_type": "markdown",
   "metadata": {},
   "source": [
    "* 種子生存確率$q$が全個体で共通していると仮定する統計モデルでは、説明できない。\n",
    "* 個体ごとに由来する差異を組み込んだGLMである、GLMMを用いる必要\n",
    "* 個体差だけを組み込んだGLMMなら、パラメータ推定も比較的簡単だった。(7章)\n",
    "* 個体差だけでなく、場所差も考慮するGLMMはパラメータ推定困難。\n",
    "* この問題を解決するためには、8章、9章で学んだ、「ベイズ統計モデルとMCMCサンプリングによる事後分布の推定」が有効だろう\n",
    "* 9章ではGLMのベイズモデル化を行なった(ランダム効果$r$は出てこなかった)が、10章ではGLMMのベイズモデル化を行う。"
   ]
  },
  {
   "cell_type": "markdown",
   "metadata": {},
   "source": [
    "### 統計モデルの設計"
   ]
  },
  {
   "cell_type": "markdown",
   "metadata": {
    "collapsed": true
   },
   "source": [
    "* リンク関数と線形予測子は下記とする。\n",
    "$$\n",
    "logit(q_i) = \\log \\frac {q_i}{1-q_i} = \\beta \\times r_i\n",
    "$$\n",
    "* $\\beta$は全個体に共通するパラメーター\n",
    "* $r_i$は個体差を表す。平均ゼロで標準偏差$s$の正規分布に従うと仮定。\n",
    "* データが得られる確率は\n",
    "$$\n",
    "p({\\bf Y} | \\beta, \\{r_i\\}) = \\prod_i \\binom {8}{y_i} q_i^{y_i} (1-q_i)^{8-y_i}\n",
    "$$\n",
    "* 推定したい事後分布は\n",
    "    * 事後分布　$　\\propto p({\\bf Y} | \\beta,\\{r_i\\})\\times$事前分布\n",
    "* あとは事前分布を指定すれば統計モデルの設計は完了"
   ]
  },
  {
   "cell_type": "markdown",
   "metadata": {},
   "source": [
    "### 事前分布の設計"
   ]
  },
  {
   "cell_type": "markdown",
   "metadata": {},
   "source": [
    "* $\\beta$は正負どのような値を取っても良い実数。\n",
    "    * (滝沢補足)$\\log \\frac {q_i}{1-q_i}$の範囲は[$-\\infty,\\infty$]のため、かな。\n",
    "* $\\beta$の事前分布として、無情報事前分布を指定する。\n",
    "    * 平均ゼロ、標準偏差100のひらべったい正規分布とする。\n",
    "    $$\n",
    "    p(\\beta) = \\frac {1}{\\sqrt {2\\pi \\times 100^2}}\\exp \\left(\\frac {-\\beta^2}{2\\times100^2} \\right)\n",
    "    $$\n",
    "* 個体差$r_i$の事前分布は平均ゼロ、標準偏差$s$の正規分布と仮定する(7章と同様）\n",
    "    * $s$は個体差を表す100個の$r_i$がどれくらいバラついてるかを表す。\n",
    "    $$\n",
    "    p(\\beta) = \\frac {1}{\\sqrt {2\\pi s^2}}\\exp \\left(\\frac {-{r_i}^2}{2 s^2} \\right)\n",
    "    $$\n"
   ]
  },
  {
   "cell_type": "markdown",
   "metadata": {},
   "source": [
    "### $s$ の扱いを決める"
   ]
  },
  {
   "cell_type": "markdown",
   "metadata": {},
   "source": [
    "* 第7章の例題では、最尤推定によって、一つの値である$\\hat s$を特定した。\n",
    "* ベイズ統計モデルでは、確率分布である$s$の事後分布を推定する。\n",
    "* 事後分布を推定するためには事前分布を指定しなければならない。\n",
    "* $s$は正の値であればなんでも構わないので、無情報事前分布とし、\n",
    "    * $p(s) = $(0から10^4までの連続一様分布)"
   ]
  },
  {
   "cell_type": "markdown",
   "metadata": {},
   "source": [
    "### 階層ベイズモデルとは"
   ]
  },
  {
   "cell_type": "markdown",
   "metadata": {},
   "source": [
    "* 下記の時、$p(r_i|s)$を階層事前分布と呼ぶ。($p(r_i|s)p(s)$をまとめてそう呼ぶこともある)\n",
    "    1. 個体差$r_i$の事前分布$p(r_i|s)$の形を決める$s$というパラメータがあり、\n",
    "    2. この$s$についても事前分布$p(s)$が設定されている時\n",
    "    \n",
    "* 階層とは事前分布のパラメータにさらに事前分布が設定されていること\n",
    "* $p(r_i | s)$のパラメータ$s$は超パラメーター(hyper parameter)、事前分布の事前分布である$p(s)$は超事前分布と呼ばれる場合もある。\n",
    "* 階層事前分布を使っているベイズ統計モデルが階層ベイズモデル。"
   ]
  },
  {
   "cell_type": "markdown",
   "metadata": {},
   "source": [
    "## 10.3. 階層ベイズモデルの推定・予測"
   ]
  },
  {
   "cell_type": "markdown",
   "metadata": {},
   "source": [
    "* この例題の階層ベイズモデルの事後分布は下記のようにかける\n",
    "$$\n",
    "p(\\beta, s, {r_i} | {\\bf Y}) \\propto p({\\bf Y} | \\beta,\\{r_i\\}) p(\\beta) p(s) \\prod_i p(r_i | s)\n",
    "$$\n",
    "    * (滝沢補足)上の式だと階層がわかりづらいが、$p(s)$がもっとも下の階層(事前分布の事前分布)\n",
    "\n",
    "* 階層ベイズモデルと観測データから事後分布を推定する手順と結果を示す。\n",
    "    * 引き続き、Stanで行う。"
   ]
  },
  {
   "cell_type": "markdown",
   "metadata": {},
   "source": [
    "### 10.3.1. 階層ベイズモデルのMCMCサンプリング"
   ]
  },
  {
   "cell_type": "markdown",
   "metadata": {},
   "source": [
    "#### モデル"
   ]
  },
  {
   "cell_type": "code",
   "execution_count": 4,
   "metadata": {
    "collapsed": true
   },
   "outputs": [],
   "source": [
    "model = \"\"\"\n",
    "data {\n",
    "    int<lower=0> N; //サンプルサイズ\n",
    "    int<lower=0> y[N];//生存数\n",
    "}\n",
    "\n",
    "parameters {\n",
    "    real beta;\n",
    "    real r[N];　//個体差\n",
    "    real <lower=0> s;　//個体差のばらつき\n",
    "}\n",
    "\n",
    "# trans-param では、data及びparametersで\n",
    "# 宣言されたパラメータと定数値から、\n",
    "# 新たにサンプリングする変数を作ることができる\n",
    "transformed parameters {\n",
    "    real q[N];\n",
    "    for (i in 1:N)\n",
    "        q[i] =inv_logit(beta+r[i]);\n",
    "}\n",
    "\n",
    "model {\n",
    "    for (i in 1:N)\n",
    "        y[i] ~ binomial(8,q[i]); //二項分布\n",
    "        \n",
    "    beta ~ normal(0, 100); //betaの事前分布は標準偏差100の正規分布\n",
    "    \n",
    "    for (i in 1:N)\n",
    "        r[i] ~ normal(0,s); // rの事前分布は標準偏差s\n",
    "    \n",
    "    s ~ uniform(0,10000); // sの事前分布は0<s<10000の一様分布\n",
    "}\n",
    "\"\"\""
   ]
  },
  {
   "cell_type": "markdown",
   "metadata": {},
   "source": [
    "### 10.3.2. 階層ベイズモデルの事後分布推定と予測"
   ]
  },
  {
   "cell_type": "markdown",
   "metadata": {},
   "source": [
    "* パラメータの事後分布からのMCMCサンプリングを行う。"
   ]
  },
  {
   "cell_type": "code",
   "execution_count": 5,
   "metadata": {
    "collapsed": true
   },
   "outputs": [],
   "source": [
    "y = data_df.y\n",
    "N = y.shape[0]\n",
    "\n",
    "# stanに辞書型でデータを引き渡す\n",
    "stan_data = {\"N\": N, \"y\": y}"
   ]
  },
  {
   "cell_type": "code",
   "execution_count": 6,
   "metadata": {},
   "outputs": [
    {
     "name": "stderr",
     "output_type": "stream",
     "text": [
      "INFO:pystan:COMPILING THE C++ CODE FOR MODEL anon_model_69663eb8116a7e68936a182abad0dcd9 NOW.\n"
     ]
    }
   ],
   "source": [
    "import pystan\n",
    "\n",
    "\n",
    "# MCMCサンプリングのステップ数\n",
    "iter_count= 1600\n",
    "\n",
    "# MCMCサンプリングの反復数の指定(WinBUGSではデフォルト3)\n",
    "chain_count = 3\n",
    "\n",
    "# MCMCサンプリングの最初の何ステップの結果を使わないとするか(burnin)\n",
    "warmup_count = 100\n",
    "\n",
    "# MCMCサンプリングのステップのうち、何個飛ばしでサンプリング結果を記録するか\n",
    "thin_count = 3\n",
    "\n",
    "fit = pystan.stan(model_code=model,\n",
    "                  data=stan_data,\n",
    "                  iter=iter_count,\n",
    "                  chains=chain_count,\n",
    "                  thin=thin_count,\n",
    "                  warmup=warmup_count)"
   ]
  },
  {
   "cell_type": "code",
   "execution_count": 7,
   "metadata": {},
   "outputs": [
    {
     "data": {
      "image/png": "[encoded data removed]",
      "text/plain": [
       "<matplotlib.figure.Figure at 0x1079c6278>"
      ]
     },
     "metadata": {},
     "output_type": "display_data"
    }
   ],
   "source": [
    "fit.plot()\n",
    "plt.tight_layout()"
   ]
  },
  {
   "cell_type": "code",
   "execution_count": 9,
   "metadata": {
    "collapsed": true
   },
   "outputs": [],
   "source": [
    "result = fit.extract()\n",
    "\n",
    "sample_df = pd.DataFrame()\n",
    "sample_df[\"beta\"] = result[\"beta\"]\n",
    "\n",
    "for i in range(result[\"r\"].shape[1]):\n",
    "    column_name = \"r\"+str(i+1)\n",
    "    sample_df[column_name] = result[\"r\"][:,i]\n",
    "    \n",
    "sample_df[\"s\"] = result[\"s\"]\n",
    "for i in range(result[\"q\"].shape[1]):\n",
    "    column_name = \"q\"+str(i+1)\n",
    "    sample_df[column_name] = result[\"q\"][:,i]"
   ]
  },
  {
   "cell_type": "code",
   "execution_count": 10,
   "metadata": {},
   "outputs": [
    {
     "data": {
      "text/html": [
       "<div>\n",
       "<style>\n",
       "    .dataframe thead tr:only-child th {\n",
       "        text-align: right;\n",
       "    }\n",
       "\n",
       "    .dataframe thead th {\n",
       "        text-align: left;\n",
       "    }\n",
       "\n",
       "    .dataframe tbody tr th {\n",
       "        vertical-align: top;\n",
       "    }\n",
       "</style>\n",
       "<table border=\"1\" class=\"dataframe\">\n",
       "  <thead>\n",
       "    <tr style=\"text-align: right;\">\n",
       "      <th></th>\n",
       "      <th>beta</th>\n",
       "      <th>r1</th>\n",
       "      <th>r2</th>\n",
       "      <th>r3</th>\n",
       "      <th>r4</th>\n",
       "      <th>r5</th>\n",
       "      <th>r6</th>\n",
       "      <th>r7</th>\n",
       "      <th>r8</th>\n",
       "      <th>r9</th>\n",
       "      <th>...</th>\n",
       "      <th>q91</th>\n",
       "      <th>q92</th>\n",
       "      <th>q93</th>\n",
       "      <th>q94</th>\n",
       "      <th>q95</th>\n",
       "      <th>q96</th>\n",
       "      <th>q97</th>\n",
       "      <th>q98</th>\n",
       "      <th>q99</th>\n",
       "      <th>q100</th>\n",
       "    </tr>\n",
       "  </thead>\n",
       "  <tbody>\n",
       "    <tr>\n",
       "      <th>0</th>\n",
       "      <td>0.499576</td>\n",
       "      <td>-2.131268</td>\n",
       "      <td>-1.347507</td>\n",
       "      <td>1.594866</td>\n",
       "      <td>0.763198</td>\n",
       "      <td>-3.143977</td>\n",
       "      <td>2.044682</td>\n",
       "      <td>3.811632</td>\n",
       "      <td>4.346927</td>\n",
       "      <td>-0.803399</td>\n",
       "      <td>...</td>\n",
       "      <td>0.816480</td>\n",
       "      <td>0.159340</td>\n",
       "      <td>0.994016</td>\n",
       "      <td>0.827810</td>\n",
       "      <td>0.778109</td>\n",
       "      <td>0.172899</td>\n",
       "      <td>0.004050</td>\n",
       "      <td>0.541320</td>\n",
       "      <td>0.853587</td>\n",
       "      <td>0.292445</td>\n",
       "    </tr>\n",
       "    <tr>\n",
       "      <th>1</th>\n",
       "      <td>-0.076661</td>\n",
       "      <td>-0.737489</td>\n",
       "      <td>-1.190215</td>\n",
       "      <td>1.772569</td>\n",
       "      <td>1.532914</td>\n",
       "      <td>-1.816350</td>\n",
       "      <td>3.589200</td>\n",
       "      <td>5.340802</td>\n",
       "      <td>5.281817</td>\n",
       "      <td>-2.701507</td>\n",
       "      <td>...</td>\n",
       "      <td>0.932057</td>\n",
       "      <td>0.320140</td>\n",
       "      <td>0.985057</td>\n",
       "      <td>0.619313</td>\n",
       "      <td>0.651560</td>\n",
       "      <td>0.118943</td>\n",
       "      <td>0.015368</td>\n",
       "      <td>0.543565</td>\n",
       "      <td>0.797219</td>\n",
       "      <td>0.068689</td>\n",
       "    </tr>\n",
       "    <tr>\n",
       "      <th>2</th>\n",
       "      <td>-0.251702</td>\n",
       "      <td>-8.577514</td>\n",
       "      <td>-0.268091</td>\n",
       "      <td>2.927659</td>\n",
       "      <td>5.665484</td>\n",
       "      <td>-2.651361</td>\n",
       "      <td>0.721477</td>\n",
       "      <td>3.062913</td>\n",
       "      <td>1.499672</td>\n",
       "      <td>-0.729518</td>\n",
       "      <td>...</td>\n",
       "      <td>0.576395</td>\n",
       "      <td>0.165604</td>\n",
       "      <td>0.929333</td>\n",
       "      <td>0.602189</td>\n",
       "      <td>0.542550</td>\n",
       "      <td>0.244695</td>\n",
       "      <td>0.018284</td>\n",
       "      <td>0.757516</td>\n",
       "      <td>0.972590</td>\n",
       "      <td>0.004088</td>\n",
       "    </tr>\n",
       "    <tr>\n",
       "      <th>3</th>\n",
       "      <td>-0.450415</td>\n",
       "      <td>-3.536486</td>\n",
       "      <td>-0.417801</td>\n",
       "      <td>3.003764</td>\n",
       "      <td>4.784006</td>\n",
       "      <td>-2.343238</td>\n",
       "      <td>2.569471</td>\n",
       "      <td>4.311470</td>\n",
       "      <td>2.266730</td>\n",
       "      <td>-1.231842</td>\n",
       "      <td>...</td>\n",
       "      <td>0.885004</td>\n",
       "      <td>0.144313</td>\n",
       "      <td>0.997822</td>\n",
       "      <td>0.718864</td>\n",
       "      <td>0.743107</td>\n",
       "      <td>0.056410</td>\n",
       "      <td>0.026290</td>\n",
       "      <td>0.617292</td>\n",
       "      <td>0.897474</td>\n",
       "      <td>0.002288</td>\n",
       "    </tr>\n",
       "    <tr>\n",
       "      <th>4</th>\n",
       "      <td>-0.275819</td>\n",
       "      <td>-6.465279</td>\n",
       "      <td>-0.163043</td>\n",
       "      <td>2.233845</td>\n",
       "      <td>2.644829</td>\n",
       "      <td>-3.551829</td>\n",
       "      <td>1.859109</td>\n",
       "      <td>6.632578</td>\n",
       "      <td>4.639020</td>\n",
       "      <td>-1.930584</td>\n",
       "      <td>...</td>\n",
       "      <td>0.800853</td>\n",
       "      <td>0.374288</td>\n",
       "      <td>0.996549</td>\n",
       "      <td>0.692395</td>\n",
       "      <td>0.836458</td>\n",
       "      <td>0.031625</td>\n",
       "      <td>0.084577</td>\n",
       "      <td>0.748146</td>\n",
       "      <td>0.972397</td>\n",
       "      <td>0.002831</td>\n",
       "    </tr>\n",
       "  </tbody>\n",
       "</table>\n",
       "<p>5 rows × 202 columns</p>\n",
       "</div>"
      ],
      "text/plain": [
       "       beta        r1        r2        r3        r4        r5        r6  \\\n",
       "0  0.499576 -2.131268 -1.347507  1.594866  0.763198 -3.143977  2.044682   \n",
       "1 -0.076661 -0.737489 -1.190215  1.772569  1.532914 -1.816350  3.589200   \n",
       "2 -0.251702 -8.577514 -0.268091  2.927659  5.665484 -2.651361  0.721477   \n",
       "3 -0.450415 -3.536486 -0.417801  3.003764  4.784006 -2.343238  2.569471   \n",
       "4 -0.275819 -6.465279 -0.163043  2.233845  2.644829 -3.551829  1.859109   \n",
       "\n",
       "         r7        r8        r9    ...          q91       q92       q93  \\\n",
       "0  3.811632  4.346927 -0.803399    ...     0.816480  0.159340  0.994016   \n",
       "1  5.340802  5.281817 -2.701507    ...     0.932057  0.320140  0.985057   \n",
       "2  3.062913  1.499672 -0.729518    ...     0.576395  0.165604  0.929333   \n",
       "3  4.311470  2.266730 -1.231842    ...     0.885004  0.144313  0.997822   \n",
       "4  6.632578  4.639020 -1.930584    ...     0.800853  0.374288  0.996549   \n",
       "\n",
       "        q94       q95       q96       q97       q98       q99      q100  \n",
       "0  0.827810  0.778109  0.172899  0.004050  0.541320  0.853587  0.292445  \n",
       "1  0.619313  0.651560  0.118943  0.015368  0.543565  0.797219  0.068689  \n",
       "2  0.602189  0.542550  0.244695  0.018284  0.757516  0.972590  0.004088  \n",
       "3  0.718864  0.743107  0.056410  0.026290  0.617292  0.897474  0.002288  \n",
       "4  0.692395  0.836458  0.031625  0.084577  0.748146  0.972397  0.002831  \n",
       "\n",
       "[5 rows x 202 columns]"
      ]
     },
     "execution_count": 10,
     "metadata": {},
     "output_type": "execute_result"
    }
   ],
   "source": [
    "sample_df.head()"
   ]
  },
  {
   "cell_type": "markdown",
   "metadata": {},
   "source": [
    "### 各事後分布"
   ]
  },
  {
   "cell_type": "markdown",
   "metadata": {},
   "source": [
    "#### $\\beta$の事後分布(1500個のサンプル)"
   ]
  },
  {
   "cell_type": "code",
   "execution_count": 11,
   "metadata": {},
   "outputs": [
    {
     "data": {
      "image/png": "[encoded data removed]",
      "text/plain": [
       "<matplotlib.figure.Figure at 0x10e661668>"
      ]
     },
     "metadata": {},
     "output_type": "display_data"
    }
   ],
   "source": [
    "plt.hist(sample_df.beta,bins=np.linspace(-10,10,200))\n",
    "plt.show()"
   ]
  },
  {
   "cell_type": "markdown",
   "metadata": {},
   "source": [
    "#### $s$の事後分布"
   ]
  },
  {
   "cell_type": "code",
   "execution_count": 12,
   "metadata": {},
   "outputs": [
    {
     "data": {
      "image/png": "[encoded data removed]",
      "text/plain": [
       "<matplotlib.figure.Figure at 0x10f1342b0>"
      ]
     },
     "metadata": {},
     "output_type": "display_data"
    }
   ],
   "source": [
    "plt.hist(sample_df.s,bins=np.linspace(-10,10,200))\n",
    "plt.show()"
   ]
  },
  {
   "cell_type": "markdown",
   "metadata": {},
   "source": [
    "#### $r_1$の事後分布 ( $r$ は個体ごとに固有のため、$r_\n",
    "{100}$まで存在する。)"
   ]
  },
  {
   "cell_type": "markdown",
   "metadata": {},
   "source": [
    "* sの値が事後分布の中央値となっている場合の事前分布$p(r_i | s)$も記載"
   ]
  },
  {
   "cell_type": "code",
   "execution_count": 13,
   "metadata": {},
   "outputs": [
    {
     "data": {
      "image/png": "[encoded data removed]",
      "text/plain": [
       "<matplotlib.figure.Figure at 0x10f2c7908>"
      ]
     },
     "metadata": {},
     "output_type": "display_data"
    }
   ],
   "source": [
    "fig,ax1 = plt.subplots()\n",
    "ax1.hist(sample_df.r1,bins=np.linspace(-10,10,200))\n",
    "\n",
    "# sが事後分布の中央値である場合の事前分布\n",
    "ax2 = ax1.twinx()\n",
    "\n",
    "smedian = sample_df.s.median()\n",
    "\n",
    "x = np.linspace(-10,10,2000)\n",
    "y = (1.0/np.sqrt(2*np.pi*(smedian**2))) * np.exp(-(x**2)/(2*(smedian**2)))\n",
    "ax2.plot(x,y,\"orange\",label=\"Normal(0,smedian)\")\n",
    "ax2.set(ylim=(0,1))\n",
    "\n",
    "plt.legend()\n",
    "plt.show()"
   ]
  },
  {
   "cell_type": "markdown",
   "metadata": {},
   "source": [
    "### 図10.4の作成(できてない)\n",
    "* おそらく図の作成過程についての僕の認識が間違えている"
   ]
  },
  {
   "cell_type": "code",
   "execution_count": 14,
   "metadata": {},
   "outputs": [
    {
     "data": {
      "text/html": [
       "<div>\n",
       "<style>\n",
       "    .dataframe thead tr:only-child th {\n",
       "        text-align: right;\n",
       "    }\n",
       "\n",
       "    .dataframe thead th {\n",
       "        text-align: left;\n",
       "    }\n",
       "\n",
       "    .dataframe tbody tr th {\n",
       "        vertical-align: top;\n",
       "    }\n",
       "</style>\n",
       "<table border=\"1\" class=\"dataframe\">\n",
       "  <thead>\n",
       "    <tr style=\"text-align: right;\">\n",
       "      <th></th>\n",
       "      <th>beta</th>\n",
       "      <th>s</th>\n",
       "    </tr>\n",
       "  </thead>\n",
       "  <tbody>\n",
       "    <tr>\n",
       "      <th>0</th>\n",
       "      <td>0.499576</td>\n",
       "      <td>3.014953</td>\n",
       "    </tr>\n",
       "    <tr>\n",
       "      <th>1</th>\n",
       "      <td>-0.076661</td>\n",
       "      <td>2.467767</td>\n",
       "    </tr>\n",
       "    <tr>\n",
       "      <th>2</th>\n",
       "      <td>-0.251702</td>\n",
       "      <td>3.038290</td>\n",
       "    </tr>\n",
       "    <tr>\n",
       "      <th>3</th>\n",
       "      <td>-0.450415</td>\n",
       "      <td>3.498041</td>\n",
       "    </tr>\n",
       "    <tr>\n",
       "      <th>4</th>\n",
       "      <td>-0.275819</td>\n",
       "      <td>3.241983</td>\n",
       "    </tr>\n",
       "  </tbody>\n",
       "</table>\n",
       "</div>"
      ],
      "text/plain": [
       "       beta         s\n",
       "0  0.499576  3.014953\n",
       "1 -0.076661  2.467767\n",
       "2 -0.251702  3.038290\n",
       "3 -0.450415  3.498041\n",
       "4 -0.275819  3.241983"
      ]
     },
     "execution_count": 14,
     "metadata": {},
     "output_type": "execute_result"
    }
   ],
   "source": [
    "sample_df[[\"beta\",\"s\"]].head()"
   ]
  },
  {
   "cell_type": "code",
   "execution_count": 15,
   "metadata": {
    "collapsed": true
   },
   "outputs": [],
   "source": [
    "pred_df = pd.DataFrame()\n",
    "for i in range(9):\n",
    "    column_name = \"s\" + str(i)\n",
    "    pred_df[column_name] = np.zeros(1500)\n",
    "\n",
    "for i, params in sample_df[[\"beta\",\"s\"]].iterrows():\n",
    "    beta = params[0]\n",
    "    s = params[1]\n",
    "    \n",
    "    r = rng.normal( 0, s, 1)\n",
    "    q = 1/(1+np.exp(-(beta+r)))\n",
    "    \n",
    "    survival_seeds_list = rng.binomial(8,q,100)\n",
    "    unique, counts = np.unique(survival_seeds_list,return_counts=True)\n",
    "    \n",
    "    for u,c in zip(unique,counts):\n",
    "        pred_df.loc[i,\"s\"+str(u)] = c        "
   ]
  },
  {
   "cell_type": "code",
   "execution_count": 16,
   "metadata": {},
   "outputs": [
    {
     "data": {
      "text/html": [
       "<div>\n",
       "<style>\n",
       "    .dataframe thead tr:only-child th {\n",
       "        text-align: right;\n",
       "    }\n",
       "\n",
       "    .dataframe thead th {\n",
       "        text-align: left;\n",
       "    }\n",
       "\n",
       "    .dataframe tbody tr th {\n",
       "        vertical-align: top;\n",
       "    }\n",
       "</style>\n",
       "<table border=\"1\" class=\"dataframe\">\n",
       "  <thead>\n",
       "    <tr style=\"text-align: right;\">\n",
       "      <th></th>\n",
       "      <th>s0</th>\n",
       "      <th>s1</th>\n",
       "      <th>s2</th>\n",
       "      <th>s3</th>\n",
       "      <th>s4</th>\n",
       "      <th>s5</th>\n",
       "      <th>s6</th>\n",
       "      <th>s7</th>\n",
       "      <th>s8</th>\n",
       "    </tr>\n",
       "  </thead>\n",
       "  <tbody>\n",
       "    <tr>\n",
       "      <th>0</th>\n",
       "      <td>0.0</td>\n",
       "      <td>0.0</td>\n",
       "      <td>0.0</td>\n",
       "      <td>0.0</td>\n",
       "      <td>0.0</td>\n",
       "      <td>3.0</td>\n",
       "      <td>20.0</td>\n",
       "      <td>36.0</td>\n",
       "      <td>41.0</td>\n",
       "    </tr>\n",
       "    <tr>\n",
       "      <th>1</th>\n",
       "      <td>0.0</td>\n",
       "      <td>0.0</td>\n",
       "      <td>0.0</td>\n",
       "      <td>0.0</td>\n",
       "      <td>3.0</td>\n",
       "      <td>3.0</td>\n",
       "      <td>31.0</td>\n",
       "      <td>39.0</td>\n",
       "      <td>24.0</td>\n",
       "    </tr>\n",
       "    <tr>\n",
       "      <th>2</th>\n",
       "      <td>4.0</td>\n",
       "      <td>13.0</td>\n",
       "      <td>30.0</td>\n",
       "      <td>28.0</td>\n",
       "      <td>18.0</td>\n",
       "      <td>4.0</td>\n",
       "      <td>3.0</td>\n",
       "      <td>0.0</td>\n",
       "      <td>0.0</td>\n",
       "    </tr>\n",
       "    <tr>\n",
       "      <th>3</th>\n",
       "      <td>0.0</td>\n",
       "      <td>0.0</td>\n",
       "      <td>0.0</td>\n",
       "      <td>0.0</td>\n",
       "      <td>1.0</td>\n",
       "      <td>8.0</td>\n",
       "      <td>18.0</td>\n",
       "      <td>44.0</td>\n",
       "      <td>29.0</td>\n",
       "    </tr>\n",
       "    <tr>\n",
       "      <th>4</th>\n",
       "      <td>2.0</td>\n",
       "      <td>7.0</td>\n",
       "      <td>25.0</td>\n",
       "      <td>28.0</td>\n",
       "      <td>24.0</td>\n",
       "      <td>9.0</td>\n",
       "      <td>4.0</td>\n",
       "      <td>1.0</td>\n",
       "      <td>0.0</td>\n",
       "    </tr>\n",
       "  </tbody>\n",
       "</table>\n",
       "</div>"
      ],
      "text/plain": [
       "    s0    s1    s2    s3    s4   s5    s6    s7    s8\n",
       "0  0.0   0.0   0.0   0.0   0.0  3.0  20.0  36.0  41.0\n",
       "1  0.0   0.0   0.0   0.0   3.0  3.0  31.0  39.0  24.0\n",
       "2  4.0  13.0  30.0  28.0  18.0  4.0   3.0   0.0   0.0\n",
       "3  0.0   0.0   0.0   0.0   1.0  8.0  18.0  44.0  29.0\n",
       "4  2.0   7.0  25.0  28.0  24.0  9.0   4.0   1.0   0.0"
      ]
     },
     "execution_count": 16,
     "metadata": {},
     "output_type": "execute_result"
    }
   ],
   "source": [
    "pred_df.head()"
   ]
  },
  {
   "cell_type": "code",
   "execution_count": 17,
   "metadata": {},
   "outputs": [
    {
     "data": {
      "text/html": [
       "<div>\n",
       "<style>\n",
       "    .dataframe thead tr:only-child th {\n",
       "        text-align: right;\n",
       "    }\n",
       "\n",
       "    .dataframe thead th {\n",
       "        text-align: left;\n",
       "    }\n",
       "\n",
       "    .dataframe tbody tr th {\n",
       "        vertical-align: top;\n",
       "    }\n",
       "</style>\n",
       "<table border=\"1\" class=\"dataframe\">\n",
       "  <thead>\n",
       "    <tr style=\"text-align: right;\">\n",
       "      <th></th>\n",
       "      <th>s0</th>\n",
       "      <th>s1</th>\n",
       "      <th>s2</th>\n",
       "      <th>s3</th>\n",
       "      <th>s4</th>\n",
       "      <th>s5</th>\n",
       "      <th>s6</th>\n",
       "      <th>s7</th>\n",
       "      <th>s8</th>\n",
       "    </tr>\n",
       "  </thead>\n",
       "  <tbody>\n",
       "    <tr>\n",
       "      <th>count</th>\n",
       "      <td>1500.000000</td>\n",
       "      <td>1500.000000</td>\n",
       "      <td>1500.000000</td>\n",
       "      <td>1500.000000</td>\n",
       "      <td>1500.00000</td>\n",
       "      <td>1500.000000</td>\n",
       "      <td>1500.000000</td>\n",
       "      <td>1500.000000</td>\n",
       "      <td>1500.000000</td>\n",
       "    </tr>\n",
       "    <tr>\n",
       "      <th>mean</th>\n",
       "      <td>22.427333</td>\n",
       "      <td>10.470667</td>\n",
       "      <td>7.393333</td>\n",
       "      <td>6.597333</td>\n",
       "      <td>6.50200</td>\n",
       "      <td>6.630667</td>\n",
       "      <td>7.583333</td>\n",
       "      <td>10.266667</td>\n",
       "      <td>22.128667</td>\n",
       "    </tr>\n",
       "    <tr>\n",
       "      <th>std</th>\n",
       "      <td>33.750874</td>\n",
       "      <td>14.028745</td>\n",
       "      <td>10.399169</td>\n",
       "      <td>9.675412</td>\n",
       "      <td>9.69505</td>\n",
       "      <td>9.741057</td>\n",
       "      <td>10.649382</td>\n",
       "      <td>13.815455</td>\n",
       "      <td>33.775187</td>\n",
       "    </tr>\n",
       "    <tr>\n",
       "      <th>min</th>\n",
       "      <td>0.000000</td>\n",
       "      <td>0.000000</td>\n",
       "      <td>0.000000</td>\n",
       "      <td>0.000000</td>\n",
       "      <td>0.00000</td>\n",
       "      <td>0.000000</td>\n",
       "      <td>0.000000</td>\n",
       "      <td>0.000000</td>\n",
       "      <td>0.000000</td>\n",
       "    </tr>\n",
       "    <tr>\n",
       "      <th>25%</th>\n",
       "      <td>0.000000</td>\n",
       "      <td>0.000000</td>\n",
       "      <td>0.000000</td>\n",
       "      <td>0.000000</td>\n",
       "      <td>0.00000</td>\n",
       "      <td>0.000000</td>\n",
       "      <td>0.000000</td>\n",
       "      <td>0.000000</td>\n",
       "      <td>0.000000</td>\n",
       "    </tr>\n",
       "    <tr>\n",
       "      <th>50%</th>\n",
       "      <td>0.000000</td>\n",
       "      <td>2.000000</td>\n",
       "      <td>1.000000</td>\n",
       "      <td>1.000000</td>\n",
       "      <td>1.00000</td>\n",
       "      <td>1.000000</td>\n",
       "      <td>1.000000</td>\n",
       "      <td>2.000000</td>\n",
       "      <td>0.000000</td>\n",
       "    </tr>\n",
       "    <tr>\n",
       "      <th>75%</th>\n",
       "      <td>41.250000</td>\n",
       "      <td>21.000000</td>\n",
       "      <td>13.000000</td>\n",
       "      <td>11.000000</td>\n",
       "      <td>11.00000</td>\n",
       "      <td>11.000000</td>\n",
       "      <td>14.000000</td>\n",
       "      <td>19.000000</td>\n",
       "      <td>38.000000</td>\n",
       "    </tr>\n",
       "    <tr>\n",
       "      <th>max</th>\n",
       "      <td>100.000000</td>\n",
       "      <td>51.000000</td>\n",
       "      <td>42.000000</td>\n",
       "      <td>36.000000</td>\n",
       "      <td>39.00000</td>\n",
       "      <td>43.000000</td>\n",
       "      <td>41.000000</td>\n",
       "      <td>51.000000</td>\n",
       "      <td>100.000000</td>\n",
       "    </tr>\n",
       "  </tbody>\n",
       "</table>\n",
       "</div>"
      ],
      "text/plain": [
       "                s0           s1           s2           s3          s4  \\\n",
       "count  1500.000000  1500.000000  1500.000000  1500.000000  1500.00000   \n",
       "mean     22.427333    10.470667     7.393333     6.597333     6.50200   \n",
       "std      33.750874    14.028745    10.399169     9.675412     9.69505   \n",
       "min       0.000000     0.000000     0.000000     0.000000     0.00000   \n",
       "25%       0.000000     0.000000     0.000000     0.000000     0.00000   \n",
       "50%       0.000000     2.000000     1.000000     1.000000     1.00000   \n",
       "75%      41.250000    21.000000    13.000000    11.000000    11.00000   \n",
       "max     100.000000    51.000000    42.000000    36.000000    39.00000   \n",
       "\n",
       "                s5           s6           s7           s8  \n",
       "count  1500.000000  1500.000000  1500.000000  1500.000000  \n",
       "mean      6.630667     7.583333    10.266667    22.128667  \n",
       "std       9.741057    10.649382    13.815455    33.775187  \n",
       "min       0.000000     0.000000     0.000000     0.000000  \n",
       "25%       0.000000     0.000000     0.000000     0.000000  \n",
       "50%       1.000000     1.000000     2.000000     0.000000  \n",
       "75%      11.000000    14.000000    19.000000    38.000000  \n",
       "max      43.000000    41.000000    51.000000   100.000000  "
      ]
     },
     "execution_count": 17,
     "metadata": {},
     "output_type": "execute_result"
    }
   ],
   "source": [
    "pred_df.describe()"
   ]
  },
  {
   "cell_type": "markdown",
   "metadata": {},
   "source": [
    "* 上記の\"mean\"は図10.4の白丸と近い値を取っているが、平均であり、中央値でない。\n",
    "* また95％区間も外れている。\n",
    "* 一旦放置します。"
   ]
  },
  {
   "cell_type": "markdown",
   "metadata": {},
   "source": [
    "## 10.4. ベイズモデルで使う様々な事前分布"
   ]
  },
  {
   "cell_type": "markdown",
   "metadata": {},
   "source": [
    "* ベイズ統計モデルの設計で重要になるのは事前分布の選択\n",
    "* 下記の3種類が主\n",
    "    1. 主観的な事前分布\n",
    "        * データ解析者の主観で決める。\n",
    "        * この本では用いない。必要となることは多くない。\n",
    "    2. 無情報事前分布\n",
    "        * 100個の$r_i$をそれぞれ自由に決めるので、統計モデルとして望ましくない。フルモデルと同じ。\n",
    "    3. 階層事前分布\n",
    "        * $p(r_i | s)$を平均ゼロ、標準偏差$s$の正規分布であるとした。\n",
    "        * そしてこの$s$の事前分布$p(s)$は無情報事前分布であると設定する。そのため階層はこれ以上は深くならない。\n",
    "* あるパラメータの事前分布として、無情報事前分布、階層事前分布のどちらを選ぶべきか？\n",
    "    * パラメータがデータ全体のどの範囲を説明しているかに依存すると考えて良い。\n",
    "        * 説明する範囲が大域的なもの：無情報事前分布\n",
    "        * 説明する範囲が局所的なもの：階層事前分布\n",
    "* 階層ベイズモデルは、多数の局所的なパラメータをまとめて取り扱うために、階層事前分布を設定し、この階層事前分布を少数の大域的パラメータ（無情報事前分布)で支配する。"
   ]
  },
  {
   "cell_type": "markdown",
   "metadata": {},
   "source": [
    "## 10.5. 個体差 + 場所差の階層ベイズモデル"
   ]
  },
  {
   "cell_type": "markdown",
   "metadata": {},
   "source": [
    "* 個体差だけでなく、場所さも組み込んだ階層ベイズモデルについて考える。"
   ]
  },
  {
   "cell_type": "markdown",
   "metadata": {},
   "source": [
    "### 例題"
   ]
  },
  {
   "cell_type": "markdown",
   "metadata": {},
   "source": [
    "* 100個の個体がある\n",
    "* 10個体ずつに異なる植木鉢(A~J)で育てられている。\n",
    "* 植木鉢A~Eは無処理、F~Jは施肥処理"
   ]
  },
  {
   "cell_type": "code",
   "execution_count": 30,
   "metadata": {
    "collapsed": true
   },
   "outputs": [],
   "source": [
    "kb_df = pd.read_csv(\"./input/d1.csv\",dtype={\"pot\":\"category\",\"f\":\"category\"})"
   ]
  },
  {
   "cell_type": "code",
   "execution_count": 31,
   "metadata": {},
   "outputs": [
    {
     "data": {
      "text/html": [
       "<div>\n",
       "<style>\n",
       "    .dataframe thead tr:only-child th {\n",
       "        text-align: right;\n",
       "    }\n",
       "\n",
       "    .dataframe thead th {\n",
       "        text-align: left;\n",
       "    }\n",
       "\n",
       "    .dataframe tbody tr th {\n",
       "        vertical-align: top;\n",
       "    }\n",
       "</style>\n",
       "<table border=\"1\" class=\"dataframe\">\n",
       "  <thead>\n",
       "    <tr style=\"text-align: right;\">\n",
       "      <th></th>\n",
       "      <th>id</th>\n",
       "      <th>pot</th>\n",
       "      <th>f</th>\n",
       "      <th>y</th>\n",
       "    </tr>\n",
       "  </thead>\n",
       "  <tbody>\n",
       "    <tr>\n",
       "      <th>0</th>\n",
       "      <td>1</td>\n",
       "      <td>A</td>\n",
       "      <td>C</td>\n",
       "      <td>6</td>\n",
       "    </tr>\n",
       "    <tr>\n",
       "      <th>1</th>\n",
       "      <td>2</td>\n",
       "      <td>A</td>\n",
       "      <td>C</td>\n",
       "      <td>3</td>\n",
       "    </tr>\n",
       "    <tr>\n",
       "      <th>2</th>\n",
       "      <td>3</td>\n",
       "      <td>A</td>\n",
       "      <td>C</td>\n",
       "      <td>19</td>\n",
       "    </tr>\n",
       "    <tr>\n",
       "      <th>3</th>\n",
       "      <td>4</td>\n",
       "      <td>A</td>\n",
       "      <td>C</td>\n",
       "      <td>5</td>\n",
       "    </tr>\n",
       "    <tr>\n",
       "      <th>4</th>\n",
       "      <td>5</td>\n",
       "      <td>A</td>\n",
       "      <td>C</td>\n",
       "      <td>0</td>\n",
       "    </tr>\n",
       "  </tbody>\n",
       "</table>\n",
       "</div>"
      ],
      "text/plain": [
       "   id pot  f   y\n",
       "0   1   A  C   6\n",
       "1   2   A  C   3\n",
       "2   3   A  C  19\n",
       "3   4   A  C   5\n",
       "4   5   A  C   0"
      ]
     },
     "execution_count": 31,
     "metadata": {},
     "output_type": "execute_result"
    }
   ],
   "source": [
    "kb_df.head()"
   ]
  },
  {
   "cell_type": "code",
   "execution_count": 32,
   "metadata": {},
   "outputs": [
    {
     "data": {
      "text/html": [
       "<div>\n",
       "<style>\n",
       "    .dataframe thead tr:only-child th {\n",
       "        text-align: right;\n",
       "    }\n",
       "\n",
       "    .dataframe thead th {\n",
       "        text-align: left;\n",
       "    }\n",
       "\n",
       "    .dataframe tbody tr th {\n",
       "        vertical-align: top;\n",
       "    }\n",
       "</style>\n",
       "<table border=\"1\" class=\"dataframe\">\n",
       "  <thead>\n",
       "    <tr style=\"text-align: right;\">\n",
       "      <th></th>\n",
       "      <th>id</th>\n",
       "      <th>y</th>\n",
       "    </tr>\n",
       "  </thead>\n",
       "  <tbody>\n",
       "    <tr>\n",
       "      <th>count</th>\n",
       "      <td>50.00000</td>\n",
       "      <td>50.000000</td>\n",
       "    </tr>\n",
       "    <tr>\n",
       "      <th>mean</th>\n",
       "      <td>25.50000</td>\n",
       "      <td>6.640000</td>\n",
       "    </tr>\n",
       "    <tr>\n",
       "      <th>std</th>\n",
       "      <td>14.57738</td>\n",
       "      <td>7.227386</td>\n",
       "    </tr>\n",
       "    <tr>\n",
       "      <th>min</th>\n",
       "      <td>1.00000</td>\n",
       "      <td>0.000000</td>\n",
       "    </tr>\n",
       "    <tr>\n",
       "      <th>25%</th>\n",
       "      <td>13.25000</td>\n",
       "      <td>2.000000</td>\n",
       "    </tr>\n",
       "    <tr>\n",
       "      <th>50%</th>\n",
       "      <td>25.50000</td>\n",
       "      <td>4.000000</td>\n",
       "    </tr>\n",
       "    <tr>\n",
       "      <th>75%</th>\n",
       "      <td>37.75000</td>\n",
       "      <td>8.000000</td>\n",
       "    </tr>\n",
       "    <tr>\n",
       "      <th>max</th>\n",
       "      <td>50.00000</td>\n",
       "      <td>29.000000</td>\n",
       "    </tr>\n",
       "  </tbody>\n",
       "</table>\n",
       "</div>"
      ],
      "text/plain": [
       "             id          y\n",
       "count  50.00000  50.000000\n",
       "mean   25.50000   6.640000\n",
       "std    14.57738   7.227386\n",
       "min     1.00000   0.000000\n",
       "25%    13.25000   2.000000\n",
       "50%    25.50000   4.000000\n",
       "75%    37.75000   8.000000\n",
       "max    50.00000  29.000000"
      ]
     },
     "execution_count": 32,
     "metadata": {},
     "output_type": "execute_result"
    }
   ],
   "source": [
    "kb_df[:50].describe()"
   ]
  },
  {
   "cell_type": "markdown",
   "metadata": {},
   "source": [
    "### 図10.7"
   ]
  },
  {
   "cell_type": "code",
   "execution_count": 33,
   "metadata": {
    "scrolled": true
   },
   "outputs": [
    {
     "data": {
      "text/plain": [
       "[<matplotlib.lines.Line2D at 0x103b11e48>]"
      ]
     },
     "execution_count": 33,
     "metadata": {},
     "output_type": "execute_result"
    },
    {
     "data": {
      "image/png": "[encoded data removed]",
      "text/plain": [
       "<matplotlib.figure.Figure at 0x10f139fd0>"
      ]
     },
     "metadata": {},
     "output_type": "display_data"
    }
   ],
   "source": [
    "plt.bar(kb_df.id,kb_df.y)\n",
    "\n",
    "mean_c = kb_df[kb_df.f.cat.codes==0].y.mean()\n",
    "mean_t = kb_df[kb_df.f.cat.codes==1].y.mean()\n",
    "\n",
    "plt.plot(np.arange(50),[mean_c]*50,\"r--\")\n",
    "plt.plot(np.arange(50,100),[mean_t]*50,\"g--\")"
   ]
  },
  {
   "cell_type": "code",
   "execution_count": 34,
   "metadata": {},
   "outputs": [
    {
     "name": "stdout",
     "output_type": "stream",
     "text": [
      "6.64\n"
     ]
    }
   ],
   "source": [
    "print(mean_c)"
   ]
  },
  {
   "cell_type": "markdown",
   "metadata": {},
   "source": [
    "* 無処理の平均は6.64。ポアソン分布に従うとすると、標準偏差は"
   ]
  },
  {
   "cell_type": "code",
   "execution_count": 35,
   "metadata": {},
   "outputs": [
    {
     "data": {
      "text/plain": [
       "2.5768197453450252"
      ]
     },
     "execution_count": 35,
     "metadata": {},
     "output_type": "execute_result"
    }
   ],
   "source": [
    "np.sqrt(mean_c)"
   ]
  },
  {
   "cell_type": "markdown",
   "metadata": {},
   "source": [
    "* 図を見ると、それよりも大きく見える。過分散が発生している。"
   ]
  },
  {
   "cell_type": "code",
   "execution_count": 36,
   "metadata": {},
   "outputs": [
    {
     "data": {
      "text/plain": [
       "<matplotlib.axes._subplots.AxesSubplot at 0x10bbec0f0>"
      ]
     },
     "execution_count": 36,
     "metadata": {},
     "output_type": "execute_result"
    },
    {
     "data": {
      "image/png": "[encoded data removed]",
      "text/plain": [
       "<matplotlib.figure.Figure at 0x10e3ca7b8>"
      ]
     },
     "metadata": {},
     "output_type": "display_data"
    }
   ],
   "source": [
    "kb_df[[\"y\",\"pot\"]].boxplot(by=\"pot\")"
   ]
  },
  {
   "cell_type": "markdown",
   "metadata": {
    "collapsed": true
   },
   "source": [
    "* 過分散の原因は、植木鉢にもありそうだ。\n",
    "* 個体も植木鉢も、どちらも反復ではなく擬似反復なので、個体差と植木鉢差を同時に扱う統計モデルを作らなければならない。\n",
    "    * 擬似反復とは、反復っぽく見えるが個体差・場所差を打ち消す反復になっていないもの。個体差・場所差が推定可能であり、かつその差の影響を考慮しなければ、推定結果に偏りが生じる。(7.5)\n",
    "* これはGLMM化したポアソン回帰で扱える問題なので下記で表現できる。\n",
    "$$\n",
    "p(y_i|\\lambda_i) = \\frac {\\lambda_i^{y_i} \\exp(-\\lambda_i)} {y_i !}\n",
    "$$\n",
    "* 平均種子数$\\lambda_i$は、\n",
    "$$\n",
    "\\log \\lambda_i = \\beta_1 + \\beta_2 f_i + r_i + r_{j(i)}\n",
    "$$\n",
    "    * $r_{j(i)}$は、個体$i$がいる植木鉢$j$の効果\n",
    "    * $r_i$は100個、$r_{j(i)}$は10個\n",
    "    * それぞれのばらつきを$s$と$s_p$とする\n",
    "* 上記のパラメータの事前分布は\n",
    "    * 大域的な平均パラメータである$\\beta_1,\\beta_2$は無情報事前分布(平均ゼロ)\n",
    "    * 大域的なばらつきパラメータである$s,s_p$は無情報事前分布(0から$10^4$の範囲を取る一様分布)\n",
    "    * 局所的パラメーターである$r_i,r_{j(i)}$は階層事前分布(平均ゼロで標準偏差はそれぞれ$s,s_p$"
   ]
  },
  {
   "cell_type": "code",
   "execution_count": 37,
   "metadata": {
    "collapsed": true
   },
   "outputs": [],
   "source": [
    "model10_5 = \"\"\"\n",
    "data {\n",
    "  int<lower=0> N_sample;       // number of observations\n",
    "  int<lower=0> N_pot;          // number of pots\n",
    "  int<lower=0> N_sigma;        // number of sigmas\n",
    "  int<lower=0> Y[N_sample];    // number of seeds\n",
    "  int<lower=0> F[N_sample];    // fertilizer\n",
    "  int<lower=0> Pot[N_sample];  // pot\n",
    "}\n",
    "parameters {\n",
    "  real beta1;\n",
    "  real beta2;\n",
    "  real r[N_sample];\n",
    "  real rp[N_pot];\n",
    "  real<lower=0> sigma[N_sigma];\n",
    "}\n",
    "transformed parameters {\n",
    "  real<lower=0> lambda[N_sample];\n",
    "\n",
    "  for (i in 1:N_sample) {\n",
    "    lambda[i] <- exp(beta1 + beta2 * F[i] + r[i] + rp[Pot[i]]);\n",
    "  }\n",
    "}\n",
    "model {\n",
    "  for (i in 1:N_sample) {\n",
    "    Y[i] ~ poisson(lambda[i]);\n",
    "  }\n",
    "  beta1 ~ normal(0, 100);\n",
    "  beta2 ~ normal(0, 100);\n",
    "  r ~ normal(0, sigma[1]);\n",
    "  rp ~ normal(0, sigma[2]);\n",
    "  for (k in 1:N_sigma) {\n",
    "    sigma[k] ~ uniform(0, 1.0e+4);\n",
    "  }\n",
    "}\n",
    "\"\"\""
   ]
  },
  {
   "cell_type": "code",
   "execution_count": 46,
   "metadata": {},
   "outputs": [
    {
     "data": {
      "text/plain": [
       "0     0\n",
       "1     0\n",
       "2     0\n",
       "3     0\n",
       "4     0\n",
       "5     0\n",
       "6     0\n",
       "7     0\n",
       "8     0\n",
       "9     0\n",
       "10    0\n",
       "11    0\n",
       "12    0\n",
       "13    0\n",
       "14    0\n",
       "15    0\n",
       "16    0\n",
       "17    0\n",
       "18    0\n",
       "19    0\n",
       "20    0\n",
       "21    0\n",
       "22    0\n",
       "23    0\n",
       "24    0\n",
       "25    0\n",
       "26    0\n",
       "27    0\n",
       "28    0\n",
       "29    0\n",
       "     ..\n",
       "70    1\n",
       "71    1\n",
       "72    1\n",
       "73    1\n",
       "74    1\n",
       "75    1\n",
       "76    1\n",
       "77    1\n",
       "78    1\n",
       "79    1\n",
       "80    1\n",
       "81    1\n",
       "82    1\n",
       "83    1\n",
       "84    1\n",
       "85    1\n",
       "86    1\n",
       "87    1\n",
       "88    1\n",
       "89    1\n",
       "90    1\n",
       "91    1\n",
       "92    1\n",
       "93    1\n",
       "94    1\n",
       "95    1\n",
       "96    1\n",
       "97    1\n",
       "98    1\n",
       "99    1\n",
       "Length: 100, dtype: int8"
      ]
     },
     "execution_count": 46,
     "metadata": {},
     "output_type": "execute_result"
    }
   ],
   "source": [
    "kb_df.f.cat.codes"
   ]
  },
  {
   "cell_type": "code",
   "execution_count": 49,
   "metadata": {},
   "outputs": [
    {
     "data": {
      "text/plain": [
       "100"
      ]
     },
     "execution_count": 49,
     "metadata": {},
     "output_type": "execute_result"
    }
   ],
   "source": [
    "N_sample"
   ]
  },
  {
   "cell_type": "code",
   "execution_count": 50,
   "metadata": {},
   "outputs": [
    {
     "data": {
      "text/plain": [
       "10"
      ]
     },
     "execution_count": 50,
     "metadata": {},
     "output_type": "execute_result"
    }
   ],
   "source": [
    "N_pot"
   ]
  },
  {
   "cell_type": "code",
   "execution_count": 51,
   "metadata": {},
   "outputs": [
    {
     "data": {
      "text/plain": [
       "2"
      ]
     },
     "execution_count": 51,
     "metadata": {},
     "output_type": "execute_result"
    }
   ],
   "source": [
    "N_sigma"
   ]
  },
  {
   "cell_type": "code",
   "execution_count": 52,
   "metadata": {},
   "outputs": [
    {
     "data": {
      "text/plain": [
       "0      6\n",
       "1      3\n",
       "2     19\n",
       "3      5\n",
       "4      0\n",
       "5     19\n",
       "6      4\n",
       "7      8\n",
       "8     12\n",
       "9      8\n",
       "10     0\n",
       "11     1\n",
       "12     1\n",
       "13     5\n",
       "14     7\n",
       "15     4\n",
       "16     0\n",
       "17     4\n",
       "18     2\n",
       "19    23\n",
       "20     2\n",
       "21     1\n",
       "22     4\n",
       "23     3\n",
       "24     4\n",
       "25     0\n",
       "26     1\n",
       "27     1\n",
       "28     3\n",
       "29     6\n",
       "      ..\n",
       "70     7\n",
       "71     0\n",
       "72     0\n",
       "73     0\n",
       "74     1\n",
       "75     1\n",
       "76     0\n",
       "77     0\n",
       "78     1\n",
       "79     1\n",
       "80    10\n",
       "81     2\n",
       "82    11\n",
       "83     4\n",
       "84     3\n",
       "85    16\n",
       "86     4\n",
       "87    37\n",
       "88     5\n",
       "89    19\n",
       "90    27\n",
       "91     1\n",
       "92     1\n",
       "93     2\n",
       "94     0\n",
       "95     1\n",
       "96     1\n",
       "97     2\n",
       "98     1\n",
       "99     0\n",
       "Name: y, Length: 100, dtype: int64"
      ]
     },
     "execution_count": 52,
     "metadata": {},
     "output_type": "execute_result"
    }
   ],
   "source": [
    "Y"
   ]
  },
  {
   "cell_type": "code",
   "execution_count": 53,
   "metadata": {},
   "outputs": [
    {
     "data": {
      "text/plain": [
       "0     0\n",
       "1     0\n",
       "2     0\n",
       "3     0\n",
       "4     0\n",
       "5     0\n",
       "6     0\n",
       "7     0\n",
       "8     0\n",
       "9     0\n",
       "10    0\n",
       "11    0\n",
       "12    0\n",
       "13    0\n",
       "14    0\n",
       "15    0\n",
       "16    0\n",
       "17    0\n",
       "18    0\n",
       "19    0\n",
       "20    0\n",
       "21    0\n",
       "22    0\n",
       "23    0\n",
       "24    0\n",
       "25    0\n",
       "26    0\n",
       "27    0\n",
       "28    0\n",
       "29    0\n",
       "     ..\n",
       "70    1\n",
       "71    1\n",
       "72    1\n",
       "73    1\n",
       "74    1\n",
       "75    1\n",
       "76    1\n",
       "77    1\n",
       "78    1\n",
       "79    1\n",
       "80    1\n",
       "81    1\n",
       "82    1\n",
       "83    1\n",
       "84    1\n",
       "85    1\n",
       "86    1\n",
       "87    1\n",
       "88    1\n",
       "89    1\n",
       "90    1\n",
       "91    1\n",
       "92    1\n",
       "93    1\n",
       "94    1\n",
       "95    1\n",
       "96    1\n",
       "97    1\n",
       "98    1\n",
       "99    1\n",
       "Length: 100, dtype: int8"
      ]
     },
     "execution_count": 53,
     "metadata": {},
     "output_type": "execute_result"
    }
   ],
   "source": [
    "F"
   ]
  },
  {
   "cell_type": "code",
   "execution_count": 57,
   "metadata": {},
   "outputs": [
    {
     "data": {
      "text/plain": [
       "0      1\n",
       "1      1\n",
       "2      1\n",
       "3      1\n",
       "4      1\n",
       "5      1\n",
       "6      1\n",
       "7      1\n",
       "8      1\n",
       "9      1\n",
       "10     2\n",
       "11     2\n",
       "12     2\n",
       "13     2\n",
       "14     2\n",
       "15     2\n",
       "16     2\n",
       "17     2\n",
       "18     2\n",
       "19     2\n",
       "20     3\n",
       "21     3\n",
       "22     3\n",
       "23     3\n",
       "24     3\n",
       "25     3\n",
       "26     3\n",
       "27     3\n",
       "28     3\n",
       "29     3\n",
       "      ..\n",
       "70     8\n",
       "71     8\n",
       "72     8\n",
       "73     8\n",
       "74     8\n",
       "75     8\n",
       "76     8\n",
       "77     8\n",
       "78     8\n",
       "79     8\n",
       "80     9\n",
       "81     9\n",
       "82     9\n",
       "83     9\n",
       "84     9\n",
       "85     9\n",
       "86     9\n",
       "87     9\n",
       "88     9\n",
       "89     9\n",
       "90    10\n",
       "91    10\n",
       "92    10\n",
       "93    10\n",
       "94    10\n",
       "95    10\n",
       "96    10\n",
       "97    10\n",
       "98    10\n",
       "99    10\n",
       "Length: 100, dtype: int8"
      ]
     },
     "execution_count": 57,
     "metadata": {},
     "output_type": "execute_result"
    }
   ],
   "source": [
    "Pot"
   ]
  },
  {
   "cell_type": "code",
   "execution_count": 55,
   "metadata": {
    "collapsed": true
   },
   "outputs": [],
   "source": [
    "y = kb_df.y\n",
    "N_sample = kb_df.shape[0]\n",
    "N_pot = kb_df.pot.drop_duplicates().shape[0]\n",
    "N_sigma = 2\n",
    "Y = kb_df.y\n",
    "# Stanではカテゴリは0で表してはいけないようなので、\n",
    "# 1足している。\n",
    "F = kb_df.f.cat.codes + 1\n",
    "Pot = kb_df.pot.cat.codes + 1\n",
    "\n",
    "# stanに辞書型でデータを引き渡す\n",
    "stan_data10_5 = {\"y\": y,\"N_sample\":N_sample,\"N_pot\":N_pot,\n",
    "             \"N_sigma\":N_sigma,\"Y\":Y,\"F\":F,\"Pot\":Pot}"
   ]
  },
  {
   "cell_type": "code",
   "execution_count": 56,
   "metadata": {},
   "outputs": [
    {
     "name": "stderr",
     "output_type": "stream",
     "text": [
      "INFO:pystan:COMPILING THE C++ CODE FOR MODEL anon_model_461608a512c06a4653e1650bcd1fbc55 NOW.\n"
     ]
    }
   ],
   "source": [
    "# MCMCサンプリングのステップ数\n",
    "iter_count= 1600\n",
    "\n",
    "# MCMCサンプリングの反復数の指定(WinBUGSではデフォルト3)\n",
    "chain_count = 3\n",
    "\n",
    "# MCMCサンプリングの最初の何ステップの結果を使わないとするか(burnin)\n",
    "warmup_count = 100\n",
    "\n",
    "# MCMCサンプリングのステップのうち、何個飛ばしでサンプリング結果を記録するか\n",
    "thin_count = 3\n",
    "\n",
    "fit10_5 = pystan.stan(model_code=model10_5,\n",
    "                  data=stan_data10_5,\n",
    "                  iter=iter_count,\n",
    "                  chains=chain_count,\n",
    "                  thin=thin_count,\n",
    "                  warmup=warmup_count)"
   ]
  },
  {
   "cell_type": "code",
   "execution_count": 59,
   "metadata": {},
   "outputs": [
    {
     "data": {
      "text/plain": [
       "Inference for Stan model: anon_model_461608a512c06a4653e1650bcd1fbc55.\n",
       "3 chains, each with iter=1600; warmup=100; thin=3; \n",
       "post-warmup draws per chain=500, total post-warmup draws=1500.\n",
       "\n",
       "             mean se_mean     sd   2.5%    25%    50%    75%  97.5%  n_eff   Rhat\n",
       "beta1        2.27    0.05   1.18  -0.05   1.52   2.24    3.0   4.78    591   1.01\n",
       "beta2        -0.9    0.03   0.76  -2.51  -1.36  -0.88  -0.41   0.55    784   1.01\n",
       "r[0]        -0.05    0.01   0.49  -1.03  -0.37  -0.04   0.29   0.85   1500    1.0\n",
       "r[1]        -0.59    0.01   0.56  -1.74  -0.97  -0.56  -0.19   0.44   1454    1.0\n",
       "r[2]         1.11    0.01   0.39    0.3   0.85   1.12   1.37    1.9   1500    1.0\n",
       "r[3]        -0.21    0.01    0.5   -1.2  -0.53   -0.2   0.13   0.74   1500    1.0\n",
       "r[4]        -1.53    0.02   0.71  -3.05  -1.97  -1.48  -1.03  -0.26   1500    1.0\n",
       "r[5]          1.1    0.01   0.39   0.32   0.83    1.1   1.37   1.86   1500    1.0\n",
       "r[6]        -0.36    0.01   0.52   -1.4   -0.7  -0.36 4.2e-3   0.64   1370    1.0\n",
       "r[7]         0.24    0.01   0.45  -0.65  -0.07   0.24   0.54   1.13   1500    1.0\n",
       "r[8]         0.64    0.01   0.41  -0.19   0.36   0.63   0.91   1.44   1500    1.0\n",
       "r[9]         0.25    0.01   0.45  -0.66  -0.05   0.24   0.55   1.15   1500    1.0\n",
       "r[10]       -1.17    0.02   0.75  -2.85  -1.66  -1.15  -0.63   0.14   1500    1.0\n",
       "r[11]       -0.68    0.02   0.67  -2.08  -1.12  -0.63  -0.21   0.54   1500    1.0\n",
       "r[12]       -0.68    0.02   0.67  -2.05  -1.14  -0.65  -0.23   0.59   1500    1.0\n",
       "r[13]        0.42    0.01   0.53  -0.62   0.07   0.41   0.79   1.46   1500    1.0\n",
       "r[14]        0.76    0.01    0.5  -0.22   0.43   0.77    1.1    1.7   1500    1.0\n",
       "r[15]         0.2    0.01   0.56  -0.94  -0.15   0.24   0.57   1.25   1500    1.0\n",
       "r[16]       -1.14    0.02   0.75  -2.71  -1.65  -1.12  -0.61   0.24   1500    1.0\n",
       "r[17]        0.21    0.01   0.54  -0.89  -0.14   0.22   0.58   1.22   1500    1.0\n",
       "r[18]       -0.33    0.02   0.64  -1.57  -0.75  -0.33   0.09   0.91   1500    1.0\n",
       "r[19]        2.01    0.01   0.41   1.22   1.73   2.01   2.29    2.8   1500    1.0\n",
       "r[20]       -0.16    0.02   0.66  -1.44  -0.59  -0.14   0.31   1.05   1500    1.0\n",
       "r[21]       -0.55    0.02   0.69  -2.04  -0.97  -0.51  -0.07   0.65   1500    1.0\n",
       "r[22]        0.42    0.02   0.58  -0.82   0.06   0.45    0.8   1.53   1500    1.0\n",
       "r[23]        0.15    0.02    0.6  -1.14  -0.22   0.17   0.53   1.26   1500    1.0\n",
       "r[24]        0.43    0.01   0.56  -0.66   0.04   0.44   0.81   1.51   1500    1.0\n",
       "r[25]       -1.01    0.02   0.79  -2.61  -1.55  -0.99  -0.46    0.4   1500    1.0\n",
       "r[26]       -0.55    0.02   0.68  -2.01  -0.99  -0.53  -0.09   0.73   1500    1.0\n",
       "r[27]       -0.57    0.02   0.69  -2.01  -1.01  -0.55  -0.07   0.71   1500    1.0\n",
       "r[28]        0.16    0.02   0.62  -1.15  -0.26   0.21    0.6   1.27   1500    1.0\n",
       "r[29]        0.82    0.01   0.53  -0.25   0.47   0.81   1.17   1.87   1488    1.0\n",
       "r[30]        1.14  9.8e-3   0.38   0.41   0.88   1.15   1.38   1.91   1500    1.0\n",
       "r[31]       -0.86    0.01   0.55  -2.05   -1.2  -0.85  -0.51   0.19   1500    1.0\n",
       "r[32]        1.22  9.9e-3   0.38   0.46   0.98   1.22   1.46   1.97   1479    1.0\n",
       "r[33]        0.66    0.01    0.4  -0.11   0.39   0.67   0.93   1.46   1372    1.0\n",
       "r[34]       -1.39    0.02   0.64  -2.72   -1.8  -1.35  -0.96  -0.22   1500    1.0\n",
       "r[35]        0.61    0.01    0.4  -0.21   0.36   0.63   0.88   1.39   1496    1.0\n",
       "r[36]         0.6    0.01    0.4  -0.13   0.32   0.61   0.87   1.41   1500    1.0\n",
       "r[37]       -0.32    0.01   0.49  -1.34  -0.65   -0.3   0.04    0.6   1456    1.0\n",
       "r[38]       -0.63    0.01   0.51  -1.66  -0.97  -0.62  -0.29   0.37   1500    1.0\n",
       "r[39]       -0.05    0.01   0.45  -0.91  -0.34  -0.05   0.25   0.83   1500    1.0\n",
       "r[40]        0.44    0.01   0.49  -0.56   0.12   0.45   0.76   1.41   1500    1.0\n",
       "r[41]        1.44    0.01   0.42   0.58   1.18   1.42   1.72   2.25   1500    1.0\n",
       "r[42]        0.72    0.01   0.46  -0.23   0.44   0.73   1.02   1.59   1500    1.0\n",
       "r[43]       -0.19    0.01   0.56   -1.3  -0.56  -0.17   0.19   0.87   1500    1.0\n",
       "r[44]       -0.46    0.02   0.64  -1.81  -0.86  -0.44  -0.03   0.71   1500    1.0\n",
       "r[45]        0.72    0.01   0.48  -0.22   0.41   0.72   1.05   1.61   1351    1.0\n",
       "r[46]        0.04    0.01   0.54  -1.08   -0.3   0.05    0.4   1.06   1417    1.0\n",
       "r[47]       -1.23    0.02   0.73  -2.85  -1.68  -1.18  -0.72   0.08   1500    1.0\n",
       "r[48]       -1.24    0.02   0.72  -2.68  -1.71  -1.23  -0.76   0.08   1500    1.0\n",
       "r[49]       -0.48    0.02   0.62  -1.78  -0.87  -0.47  -0.07   0.66   1500    1.0\n",
       "r[50]         0.6    0.02   0.75  -0.92   0.12   0.59   1.11   2.02   1500    1.0\n",
       "r[51]        0.58    0.02   0.73  -0.95   0.12   0.63   1.09   1.88   1500    1.0\n",
       "r[52]       -0.52    0.02   0.86  -2.37  -1.08  -0.47   0.07   1.11   1495    1.0\n",
       "r[53]       -0.54    0.02   0.87  -2.39  -1.11  -0.49   0.07   0.98   1500    1.0\n",
       "r[54]        0.12    0.02   0.77  -1.44  -0.38   0.13   0.64   1.56   1500    1.0\n",
       "r[55]        -0.5    0.02   0.82  -2.24  -1.02  -0.48   0.05   1.09   1460    1.0\n",
       "r[56]       -0.54    0.02   0.87  -2.41  -1.09   -0.5   0.09   1.02   1443    1.0\n",
       "r[57]        0.09    0.02    0.8  -1.53  -0.45   0.09   0.66   1.59   1460    1.0\n",
       "r[58]       -0.54    0.02   0.86  -2.41   -1.1   -0.5   0.04    1.0   1500    1.0\n",
       "r[59]        0.09    0.02   0.79  -1.44  -0.42   0.11   0.66   1.53   1500    1.0\n",
       "r[60]        1.07    0.01   0.45    0.2   0.78   1.06   1.38   1.95   1450    1.0\n",
       "r[61]       -0.44    0.02    0.6  -1.69  -0.84  -0.43  -0.02   0.68   1500    1.0\n",
       "r[62]       -0.42    0.02   0.62  -1.67  -0.83   -0.4   0.02    0.7   1308    1.0\n",
       "r[63]         1.6    0.01   0.43   0.76   1.31    1.6   1.89   2.45   1500    1.0\n",
       "r[64]       -0.13    0.01   0.57  -1.34  -0.49  -0.11   0.24   0.94   1500    1.0\n",
       "r[65]        0.76    0.01   0.48  -0.21   0.44   0.76   1.11   1.66   1484    1.0\n",
       "r[66]         0.6    0.01    0.5   -0.4   0.28   0.59   0.95   1.58   1480    1.0\n",
       "r[67]       -0.15    0.01   0.57  -1.37  -0.52  -0.14   0.25   0.98   1480    1.0\n",
       "r[68]        -0.8    0.02   0.69  -2.35  -1.22  -0.78  -0.32    0.5   1500    1.0\n",
       "r[69]       -1.23    0.02   0.76  -2.98  -1.69   -1.2   -0.7   0.12   1500    1.0\n",
       "r[70]        1.88    0.02   0.58   0.75   1.47   1.88   2.25   3.03   1500    1.0\n",
       "r[71]       -0.58    0.02   0.84  -2.23  -1.15  -0.57  -0.02   1.03   1447    1.0\n",
       "r[72]       -0.59    0.02   0.84   -2.3  -1.13  -0.57  -0.03   1.07   1500    1.0\n",
       "r[73]       -0.59    0.02   0.86  -2.34  -1.17  -0.54   0.01   0.92   1476    1.0\n",
       "r[74]        0.06    0.02   0.78  -1.59  -0.46    0.1   0.57   1.54   1500    1.0\n",
       "r[75]        0.04    0.02   0.79  -1.57  -0.47   0.07   0.56   1.54   1500    1.0\n",
       "r[76]       -0.59    0.02   0.83  -2.29  -1.14  -0.55  -0.02   0.94   1500    1.0\n",
       "r[77]        -0.6    0.02   0.84  -2.43  -1.13  -0.54  -0.03   0.93   1500    1.0\n",
       "r[78]        0.02    0.02    0.8  -1.65   -0.5   0.06   0.58   1.46   1500    1.0\n",
       "r[79]        0.03    0.02   0.79  -1.54  -0.51   0.04   0.59   1.51   1500    1.0\n",
       "r[80]        0.37    0.01   0.47  -0.54   0.05   0.36   0.68   1.29   1408    1.0\n",
       "r[81]       -0.91    0.02    0.6   -2.2  -1.27   -0.9   -0.5   0.16   1500    1.0\n",
       "r[82]        0.47    0.01   0.44  -0.37   0.18   0.47   0.77   1.33   1500    1.0\n",
       "r[83]       -0.44    0.01   0.51   -1.5  -0.77  -0.42   -0.1   0.57   1500    1.0\n",
       "r[84]       -0.65    0.01   0.56  -1.84   -1.0  -0.63  -0.28   0.41   1500    1.0\n",
       "r[85]        0.84    0.01   0.44  -0.02   0.55   0.84   1.14   1.68   1500    1.0\n",
       "r[86]       -0.46    0.01   0.52  -1.47   -0.8  -0.46  -0.11   0.52   1500    1.0\n",
       "r[87]         1.7    0.01    0.4   0.92   1.44   1.69   1.95   2.47   1092    1.0\n",
       "r[88]       -0.26    0.01   0.52  -1.31  -0.58  -0.24   0.09   0.71   1441    1.0\n",
       "r[89]        1.02    0.01   0.42   0.18   0.76   1.03   1.29   1.84   1417    1.0\n",
       "r[90]        2.83    0.01   0.44   1.98   2.52   2.82   3.14   3.73   1500    1.0\n",
       "r[91]        -0.3    0.02   0.71  -1.73  -0.75  -0.26   0.18   0.99   1500    1.0\n",
       "r[92]       -0.28    0.02   0.72  -1.75  -0.74  -0.27   0.22   1.02   1500    1.0\n",
       "r[93]        0.13    0.02   0.63  -1.17  -0.27   0.11   0.57    1.3   1500    1.0\n",
       "r[94]       -0.86    0.02    0.8  -2.53  -1.39  -0.77  -0.28   0.53   1455    1.0\n",
       "r[95]       -0.29    0.02   0.74  -1.92  -0.75  -0.25   0.21   1.02   1500    1.0\n",
       "r[96]       -0.27    0.02    0.7  -1.68  -0.72  -0.24   0.21   1.01   1500    1.0\n",
       "r[97]        0.14    0.02   0.67  -1.21  -0.28   0.15   0.59   1.38   1500    1.0\n",
       "r[98]       -0.28    0.02   0.73  -1.77  -0.76  -0.25   0.24   1.06   1500    1.0\n",
       "r[99]       -0.84    0.02   0.81  -2.52  -1.35  -0.81  -0.29   0.66   1500    1.0\n",
       "rp[0]        0.39    0.02   0.57  -0.78   0.03   0.39   0.76   1.51    703   1.01\n",
       "rp[1]       -0.36    0.02   0.59  -1.58  -0.72  -0.36   0.01   0.82   1158    1.0\n",
       "rp[2]       -0.64    0.02   0.59  -1.88   -1.0  -0.61  -0.28   0.47   1085    1.0\n",
       "rp[3]        0.73    0.02   0.57  -0.37   0.34    0.7   1.08   1.91   1141    1.0\n",
       "rp[4]       -0.16    0.02   0.57  -1.31  -0.52  -0.13   0.22   0.93   1066   1.01\n",
       "rp[5]       -0.95    0.02   0.64  -2.26  -1.35  -0.92  -0.55   0.29   1348    1.0\n",
       "rp[6]         0.7    0.02    0.6  -0.42   0.29   0.66   1.07   1.99   1256    1.0\n",
       "rp[7]        -0.8    0.02   0.64  -2.13  -1.21  -0.81  -0.37   0.41   1295    1.0\n",
       "rp[8]        1.38    0.02   0.61   0.28   0.97   1.35   1.74   2.76   1072    1.0\n",
       "rp[9]       -0.14    0.02   0.62  -1.35  -0.53  -0.13   0.25   1.08   1261    1.0\n",
       "sigma[0]     1.02  3.2e-3   0.12   0.82   0.94   1.01   1.09   1.27   1320    1.0\n",
       "sigma[1]     1.05    0.01   0.39   0.53   0.79   0.98   1.23   2.04   1195    1.0\n",
       "lambda[0]     5.9    0.06   2.19   2.34   4.32   5.65   7.18  10.94   1500    1.0\n",
       "lambda[1]    3.61    0.04   1.71   1.11   2.36   3.36   4.53   7.65   1500    1.0\n",
       "lambda[2]   18.04    0.11   4.23  10.79  15.06  17.63  20.66  27.11   1486    1.0\n",
       "lambda[3]    5.13    0.05   2.11    1.9   3.55   4.83   6.44  10.07   1500   1.01\n",
       "lambda[4]    1.56    0.03    1.0   0.25   0.82   1.36   2.08   4.15   1500    1.0\n",
       "lambda[5]   17.91    0.11   4.24  10.76  14.85  17.68  20.51  27.01   1489    1.0\n",
       "lambda[6]    4.44    0.05   1.94    1.6    3.0   4.16   5.48   9.08   1450    1.0\n",
       "lambda[7]    7.81    0.07   2.66   3.43   5.94   7.45   9.44  13.71   1500    1.0\n",
       "lambda[8]   11.44    0.09    3.3   5.75   9.12  10.98  13.39  18.71   1276    1.0\n",
       "lambda[9]    7.88    0.07   2.73   3.37   5.88   7.54    9.5  14.23   1497    1.0\n",
       "lambda[10]    1.1    0.02   0.79   0.16   0.52   0.91   1.44    3.2   1500    1.0\n",
       "lambda[11]   1.67    0.03   1.05   0.34   0.94   1.47   2.12   4.27   1500    1.0\n",
       "lambda[12]    1.7    0.03   1.12   0.34   0.92   1.43   2.19   4.48   1500    1.0\n",
       "lambda[13]    4.6    0.05   1.99    1.7   3.23   4.26   5.64   9.26   1500    1.0\n",
       "lambda[14]    6.3    0.06   2.32   2.58    4.6   6.05   7.67   11.8   1500    1.0\n",
       "lambda[15]   3.76    0.04   1.74   1.19   2.49   3.52   4.75   7.68   1500    1.0\n",
       "lambda[16]   1.15    0.02   0.86   0.17   0.53   0.91   1.54   3.34   1500    1.0\n",
       "lambda[17]    3.8    0.05    1.8   1.15   2.52   3.49   4.73   8.23   1500    1.0\n",
       "lambda[18]   2.31    0.03   1.33   0.56   1.35   2.06   2.97    5.6   1500    1.0\n",
       "lambda[19]  21.03    0.12   4.57  13.23  17.65  20.66  23.93  31.11   1500    1.0\n",
       "lambda[20]   2.11    0.03   1.24   0.51    1.2   1.86   2.73   5.26   1500    1.0\n",
       "lambda[21]   1.48    0.02   0.96   0.26   0.77   1.25   1.98   3.99   1500    1.0\n",
       "lambda[22]   3.59    0.05   1.76   1.06   2.35   3.29    4.5   7.79   1500    1.0\n",
       "lambda[23]   2.78    0.04   1.49   0.76   1.74   2.52   3.49   6.36   1500    1.0\n",
       "lambda[24]   3.57    0.05   1.74   1.24   2.33   3.21   4.47   8.05   1500    1.0\n",
       "lambda[25]   1.01    0.02   0.77   0.13   0.45    0.8   1.36   2.97   1500    1.0\n",
       "lambda[26]   1.49    0.03   0.98   0.28   0.79   1.27   1.96   4.05   1500    1.0\n",
       "lambda[27]   1.45    0.02   0.93   0.29   0.78   1.22   1.91   3.86   1500    1.0\n",
       "lambda[28]   2.81    0.04   1.43   0.72   1.75   2.58   3.63   6.13   1500    1.0\n",
       "lambda[29]   5.13    0.05   2.08   2.05   3.65   4.82   6.29  10.11   1500    1.0\n",
       "lambda[30]  25.96    0.14   4.92  17.13  22.56  25.69  29.11  36.07   1294    1.0\n",
       "lambda[31]   3.82    0.05   1.76   1.13   2.56   3.55   4.72   8.02   1500    1.0\n",
       "lambda[32]  27.93    0.13    5.0  19.05  24.33  27.55  31.28  38.22   1500    1.0\n",
       "lambda[33]  16.22     0.1   3.93   9.25  13.45  15.97  18.57  24.83   1500    1.0\n",
       "lambda[34]   2.37    0.03   1.34   0.57    1.4   2.09   3.05    5.6   1500    1.0\n",
       "lambda[35]  15.42     0.1   3.65   9.04  12.77  15.15  17.84  23.04   1362    1.0\n",
       "lambda[36]  15.31     0.1   3.73   9.14   12.7  15.02  17.62  23.31   1357    1.0\n",
       "lambda[37]   6.35    0.06   2.39   2.55   4.59   6.11   7.82   11.8   1476    1.0\n",
       "lambda[38]   4.72    0.05   2.04   1.69   3.22   4.38   5.83   9.87   1500    1.0\n",
       "lambda[39]   8.16    0.07   2.66    3.9   6.29   7.73   9.74  14.48   1470    1.0\n",
       "lambda[40]    5.6    0.06   2.13   2.21   4.04   5.32   6.86  10.49   1500    1.0\n",
       "lambda[41]  14.66    0.09   3.68   8.17  12.01  14.45  16.99  22.69   1500    1.0\n",
       "lambda[42]   7.36    0.07   2.57   3.18   5.54   7.11   8.78  13.42   1500    1.0\n",
       "lambda[43]   3.16    0.04   1.64   0.98   1.99   2.82   4.03   7.23   1500    1.0\n",
       "lambda[44]   2.49    0.04   1.39   0.61   1.44   2.22   3.23   5.91   1500    1.0\n",
       "lambda[45]   7.35    0.07   2.59   3.34   5.49   6.93   8.97  13.44   1451    1.0\n",
       "lambda[46]   3.88    0.05   1.77   1.22   2.64   3.54   4.87   7.91   1500    1.0\n",
       "lambda[47]   1.25    0.02   0.88    0.2   0.62   1.04   1.65   3.36   1500    1.0\n",
       "lambda[48]   1.23    0.02   0.84   0.21   0.63   1.02    1.6   3.37   1500    1.0\n",
       "lambda[49]   2.42    0.04   1.36   0.58   1.45   2.14   3.05   5.74   1500    1.0\n",
       "lambda[50]   1.42    0.03   1.01   0.27   0.71   1.15   1.86   4.09   1500    1.0\n",
       "lambda[51]   1.39    0.02   0.91   0.24    0.7   1.17   1.86    3.6   1500    1.0\n",
       "lambda[52]   0.54    0.01   0.51   0.05    0.2   0.38    0.7   1.94   1473    1.0\n",
       "lambda[53]   0.53    0.01   0.48   0.05    0.2   0.38    0.7   1.78   1500    1.0\n",
       "lambda[54]   0.93    0.02   0.73   0.12   0.41   0.74   1.21   2.89   1221    1.0\n",
       "lambda[55]   0.53    0.01   0.49   0.06   0.22   0.39   0.67   1.96   1488    1.0\n",
       "lambda[56]   0.53    0.01    0.5   0.05    0.2   0.39   0.72   1.84   1500    1.0\n",
       "lambda[57]    0.9    0.02   0.69   0.12    0.4   0.72    1.2   2.73   1454    1.0\n",
       "lambda[58]   0.53    0.01   0.48   0.05    0.2   0.39   0.66   1.84   1500    1.0\n",
       "lambda[59]   0.89    0.02   0.69   0.14   0.41   0.73   1.19   2.62   1500    1.0\n",
       "lambda[60]   9.86    0.08   2.99   4.68    7.7   9.58  11.77  16.54   1500    1.0\n",
       "lambda[61]    2.4    0.03   1.33    0.6   1.45   2.15   3.02   5.77   1500    1.0\n",
       "lambda[62]   2.46    0.04   1.37   0.63   1.46   2.16   3.18   5.94   1500    1.0\n",
       "lambda[63]  16.41     0.1   3.94   9.43   13.5  16.08  18.85  24.79   1500    1.0\n",
       "lambda[64]   3.21    0.04   1.59   0.92   2.03   2.95   4.03   6.99   1500    1.0\n",
       "lambda[65]   7.36    0.07   2.66   3.19   5.45   7.01   8.88  13.59   1442    1.0\n",
       "lambda[66]   6.31    0.06   2.39   2.62   4.59   6.02   7.63  11.93   1500    1.0\n",
       "lambda[67]   3.14    0.04   1.54   0.89   2.02   2.89   3.97   6.97   1500    1.0\n",
       "lambda[68]   1.78    0.03   1.14   0.33   0.96   1.52   2.33   4.86   1500    1.0\n",
       "lambda[69]   1.23    0.02    0.9   0.16   0.58   1.01   1.65   3.51   1500    1.0\n",
       "lambda[70]    5.1    0.05   2.12   1.81   3.57    4.8   6.33  10.18   1500    1.0\n",
       "lambda[71]   0.56    0.01    0.5   0.07   0.23   0.42   0.74   1.89   1500    1.0\n",
       "lambda[72]   0.57    0.01   0.51   0.06   0.22   0.42   0.74   1.94   1500    1.0\n",
       "lambda[73]   0.57    0.01    0.5   0.06   0.22   0.42   0.73   1.95   1500    1.0\n",
       "lambda[74]   1.01    0.02   0.78   0.14   0.46   0.79   1.32    3.1   1500    1.0\n",
       "lambda[75]   0.98    0.02   0.76   0.13   0.46   0.78   1.26   3.01   1500    1.0\n",
       "lambda[76]   0.56    0.01   0.49   0.06   0.23   0.42   0.74   1.89   1500    1.0\n",
       "lambda[77]   0.56    0.01   0.49   0.05   0.22   0.42   0.75   1.88   1443    1.0\n",
       "lambda[78]   0.98    0.02   0.76   0.12   0.44   0.77   1.31   2.94   1500    1.0\n",
       "lambda[79]   0.97    0.02   0.75   0.14   0.44   0.78   1.29   2.89   1500    1.0\n",
       "lambda[80]   9.61    0.08   3.06   4.65   7.43   9.15  11.42  16.61   1500    1.0\n",
       "lambda[81]   2.93    0.04   1.56    0.8   1.81   2.63   3.72   6.85   1500    1.0\n",
       "lambda[82]   10.6    0.08   3.11   5.46   8.38  10.25  12.49  17.42   1500    1.0\n",
       "lambda[83]   4.45    0.06   1.88   1.53   3.13   4.18   5.56   8.69   1064    1.0\n",
       "lambda[84]   3.71    0.04   1.74   1.18   2.43   3.38   4.65   7.84   1500    1.0\n",
       "lambda[85]   15.2     0.1    3.8   8.69  12.35  14.95  17.55  23.77   1500    1.0\n",
       "lambda[86]   4.36    0.05   1.84    1.6   3.01   4.08   5.35   8.65   1500    1.0\n",
       "lambda[87]  35.06    0.16    5.8  24.58  30.92  34.73  38.77  47.65   1344    1.0\n",
       "lambda[88]   5.33    0.06   2.18   2.04   3.74   5.05   6.52  10.51   1462    1.0\n",
       "lambda[89]  18.07    0.11   4.26  10.81  15.07  17.73  20.74  27.65   1500    1.0\n",
       "lambda[90]  24.19    0.12   4.81  15.88  20.73  23.64  27.43  34.81   1500    1.0\n",
       "lambda[91]    1.3    0.02   0.88   0.24   0.65   1.07   1.71   3.61   1500    1.0\n",
       "lambda[92]   1.32    0.02   0.92   0.23   0.67   1.11   1.73   3.75   1500    1.0\n",
       "lambda[93]   1.88    0.03   1.09   0.44   1.07   1.63   2.48    4.5   1500    1.0\n",
       "lambda[94]   0.81    0.02   0.68    0.1   0.35   0.63   1.07   2.65   1315    1.0\n",
       "lambda[95]   1.31    0.02    0.9   0.19   0.68    1.1   1.76   3.49   1500    1.0\n",
       "lambda[96]   1.32    0.02    0.9   0.26   0.69   1.09   1.67   3.79   1500    1.0\n",
       "lambda[97]   1.95    0.03   1.23    0.4   1.07   1.67   2.52   5.07   1500    1.0\n",
       "lambda[98]   1.32    0.02    0.9   0.25   0.67   1.08   1.75   3.72   1500    1.0\n",
       "lambda[99]   0.82    0.02   0.67    0.1   0.35   0.63   1.07   2.64   1500    1.0\n",
       "lp__       673.31    0.29   9.52 652.73 667.44 673.59  679.8 690.94   1074    1.0\n",
       "\n",
       "Samples were drawn using NUTS at Thu Jul 13 00:49:39 2017.\n",
       "For each parameter, n_eff is a crude measure of effective sample size,\n",
       "and Rhat is the potential scale reduction factor on split chains (at \n",
       "convergence, Rhat=1)."
      ]
     },
     "execution_count": 59,
     "metadata": {},
     "output_type": "execute_result"
    }
   ],
   "source": [
    "fit10_5"
   ]
  },
  {
   "cell_type": "code",
   "execution_count": 67,
   "metadata": {},
   "outputs": [
    {
     "data": {
      "image/png": "[encoded data removed]",
      "text/plain": [
       "<matplotlib.figure.Figure at 0x10efdb240>"
      ]
     },
     "metadata": {},
     "output_type": "display_data"
    }
   ],
   "source": [
    "fit10_5.plot()\n",
    "plt.show()"
   ]
  },
  {
   "cell_type": "markdown",
   "metadata": {
    "collapsed": true
   },
   "source": [
    "* $\\beta_2$の事後分布の95%区間にはゼロが含まれ、施肥処理は何の効果もなさそうだ。\n",
    "* 統計モデリングで手抜きをすると、「あるはずのない処理の効果」が「推定」されてしまう。例えば、個体差・植木鉢差を無視したGLMや、個体差だけ組み込んだGLMMの推定では、どちらも「肥料によって平均種子数が低下する」という結果がAIC最良となってしまう。"
   ]
  },
  {
   "cell_type": "markdown",
   "metadata": {},
   "source": [
    "## 10.6 この章のまとめと参考文献"
   ]
  },
  {
   "cell_type": "markdown",
   "metadata": {},
   "source": [
    "* この本のゴール(図1.2)となる、階層ベイズモデルを扱った。\n",
    "* GLMMをベイズモデル化すると、階層ベイズモデルになる。\n",
    "* 階層ベイズモデルは、事前分布となる確率分布のパラメータにも事前分布が指定されている統計モデル。\n",
    "* 無情報事前分布と階層事前分布を使い、主観的な事前分布は用いない。\n",
    "* 複雑な構造のあるデータの統計モデリングでは、階層ベイズモデルとMCMCサンプリングによるパラメータ推定の組み合わせで対処するのが良い。\n",
    "* 統計モデルと推定方法は区別すること。\n",
    "    * 統計モデルは階層ベイズモデルであり、GLMMのベイズ版\n",
    "    * 推定方法はMCMCサンプリング"
   ]
  },
  {
   "cell_type": "markdown",
   "metadata": {},
   "source": [
    "## 参考資料\n",
    "* [Stanで統計モデリングを学ぶ(4): とりあえず階層ベイズモデルを試してみる（基本編）](http://tjo.hatenablog.com/entry/2014/05/01/190346)\n",
    "* [R: Stanをためす (2)：Taglibro de H：So-netブログ](http://ito-hi.blog.so-net.ne.jp/2012-09-04)"
   ]
  },
  {
   "cell_type": "code",
   "execution_count": null,
   "metadata": {
    "collapsed": true
   },
   "outputs": [],
   "source": []
  }
 ],
 "metadata": {
  "kernelspec": {
   "display_name": "Python 3",
   "language": "python",
   "name": "python3"
  },
  "language_info": {
   "codemirror_mode": {
    "name": "ipython",
    "version": 3
   },
   "file_extension": ".py",
   "mimetype": "text/x-python",
   "name": "python",
   "nbconvert_exporter": "python",
   "pygments_lexer": "ipython3",
   "version": "3.6.0"
  }
 },
 "nbformat": 4,
 "nbformat_minor": 2
}
