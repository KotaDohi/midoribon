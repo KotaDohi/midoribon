{
 "cells": [
  {
   "cell_type": "markdown",
   "metadata": {},
   "source": [
    "# 7. 一般化線形混合モデル(GLMM) -個体差のモデリング-"
   ]
  },
  {
   "cell_type": "markdown",
   "metadata": {},
   "source": [
    "* 「GLMではうまく説明できない」現象をうまく扱えるようにGLMを強化する。"
   ]
  },
  {
   "cell_type": "markdown",
   "metadata": {},
   "source": [
    "Q. 一般化線形モデル(GLM)とはなんだったか？"
   ]
  },
  {
   "cell_type": "markdown",
   "metadata": {},
   "source": [
    "A.\n",
    "* 確率分布、リンク関数、線形予測子を組み合わせて、応答変数$y_i$と説明変数$x_i$を関連づけるシステム"
   ]
  },
  {
   "cell_type": "markdown",
   "metadata": {},
   "source": [
    "* しかし、単純なGLMでは現実のデータ解析に応用できない。\n",
    "* 理由は、実験・調査で得られたカウントデータのばらつきは、ポアソン分布や二項分布**だけ**ではうまく説明できないから。"
   ]
  },
  {
   "cell_type": "markdown",
   "metadata": {},
   "source": [
    "* 例えば、植物個体の種子数の調査。説明変数がどの個体でも同じ値だとしても、現実の生物では「説明変数以外は全部均質」といった条件は満たされないため、平均$\\lambda$の値が全個体共通とはならないだろう。\n",
    "* 「説明変数が同じなら平均も同じ」というGLMの仮定が成立しないので、集団全体の種子数の分布はポアソン分布で期待されるよりも大きくばらつく"
   ]
  },
  {
   "cell_type": "markdown",
   "metadata": {},
   "source": [
    "* この話の要点は「データにばらつきをもたらす『個体間の差異』なるものを、定量化できない」ということ。\n",
    "* 人間は自然の全てを測定できるわけではない。\n",
    "* しかし「何か原因不明な個体差がある」ことは統計モデルとして表現できる。"
   ]
  },
  {
   "cell_type": "markdown",
   "metadata": {},
   "source": [
    "Q. 一般化線形混合モデル(generalized linear mixed model,GLMM)とは？"
   ]
  },
  {
   "cell_type": "markdown",
   "metadata": {},
   "source": [
    "A.\n",
    "* 「人間が測定できない・測定しなかった個体差」を組み込んだGLM\n",
    "* 複数の確率分布を部品とする統計モデル。\n",
    "    * 例えば、データのばらつきは、二項分布・ポアソン分布、個体のばらつきは正規分布など。\n",
    "* 多くの実際のデータ解析ではこれを用いるのが良い"
   ]
  },
  {
   "cell_type": "markdown",
   "metadata": {},
   "source": [
    "Q. 個体差、場所差とは？"
   ]
  },
  {
   "cell_type": "markdown",
   "metadata": {},
   "source": [
    "A.\n",
    "* 観測者がデータ化していないけれど、個体や調査地に由来する原因不明の差異"
   ]
  },
  {
   "cell_type": "markdown",
   "metadata": {},
   "source": [
    "## 7.1. 例題：GLMでは説明できないカウントデータ"
   ]
  },
  {
   "cell_type": "markdown",
   "metadata": {},
   "source": [
    "* 架空植物の各個体から8個の種子を取ってきて、そのうち幾つが生存しているかを調べたとする。\n",
    "* データ解析の目的：生存種子数が葉数とともにどのように増大するのかを解明すること"
   ]
  },
  {
   "cell_type": "code",
   "execution_count": 2,
   "metadata": {},
   "outputs": [
    {
     "name": "stderr",
     "output_type": "stream",
     "text": [
      "/Users/takizawa/dev/python/books/midori/lib/python3.6/site-packages/statsmodels/compat/pandas.py:56: FutureWarning: The pandas.core.datetools module is deprecated and will be removed in a future version. Please use the pandas.tseries module instead.\n",
      "  from pandas.core import datetools\n"
     ]
    }
   ],
   "source": [
    "import numpy as np\n",
    "import pandas as pd\n",
    "import matplotlib.pyplot as plt\n",
    "import statsmodels.api as sm\n",
    "import statsmodels.formula.api as smf\n",
    "%matplotlib inline\n",
    "\n",
    "d = pd.read_csv(\"data7.csv\")"
   ]
  },
  {
   "cell_type": "code",
   "execution_count": 3,
   "metadata": {},
   "outputs": [
    {
     "data": {
      "text/html": [
       "<div>\n",
       "<style>\n",
       "    .dataframe thead tr:only-child th {\n",
       "        text-align: right;\n",
       "    }\n",
       "\n",
       "    .dataframe thead th {\n",
       "        text-align: left;\n",
       "    }\n",
       "\n",
       "    .dataframe tbody tr th {\n",
       "        vertical-align: top;\n",
       "    }\n",
       "</style>\n",
       "<table border=\"1\" class=\"dataframe\">\n",
       "  <thead>\n",
       "    <tr style=\"text-align: right;\">\n",
       "      <th></th>\n",
       "      <th>N</th>\n",
       "      <th>y</th>\n",
       "      <th>x</th>\n",
       "      <th>id</th>\n",
       "    </tr>\n",
       "  </thead>\n",
       "  <tbody>\n",
       "    <tr>\n",
       "      <th>0</th>\n",
       "      <td>8</td>\n",
       "      <td>0</td>\n",
       "      <td>2</td>\n",
       "      <td>1</td>\n",
       "    </tr>\n",
       "    <tr>\n",
       "      <th>1</th>\n",
       "      <td>8</td>\n",
       "      <td>1</td>\n",
       "      <td>2</td>\n",
       "      <td>2</td>\n",
       "    </tr>\n",
       "    <tr>\n",
       "      <th>2</th>\n",
       "      <td>8</td>\n",
       "      <td>2</td>\n",
       "      <td>2</td>\n",
       "      <td>3</td>\n",
       "    </tr>\n",
       "    <tr>\n",
       "      <th>3</th>\n",
       "      <td>8</td>\n",
       "      <td>4</td>\n",
       "      <td>2</td>\n",
       "      <td>4</td>\n",
       "    </tr>\n",
       "    <tr>\n",
       "      <th>4</th>\n",
       "      <td>8</td>\n",
       "      <td>1</td>\n",
       "      <td>2</td>\n",
       "      <td>5</td>\n",
       "    </tr>\n",
       "  </tbody>\n",
       "</table>\n",
       "</div>"
      ],
      "text/plain": [
       "   N  y  x  id\n",
       "0  8  0  2   1\n",
       "1  8  1  2   2\n",
       "2  8  2  2   3\n",
       "3  8  4  2   4\n",
       "4  8  1  2   5"
      ]
     },
     "execution_count": 3,
     "metadata": {},
     "output_type": "execute_result"
    }
   ],
   "source": [
    "d.head()"
   ]
  },
  {
   "cell_type": "code",
   "execution_count": 5,
   "metadata": {},
   "outputs": [
    {
     "data": {
      "text/html": [
       "<div>\n",
       "<style>\n",
       "    .dataframe thead tr:only-child th {\n",
       "        text-align: right;\n",
       "    }\n",
       "\n",
       "    .dataframe thead th {\n",
       "        text-align: left;\n",
       "    }\n",
       "\n",
       "    .dataframe tbody tr th {\n",
       "        vertical-align: top;\n",
       "    }\n",
       "</style>\n",
       "<table border=\"1\" class=\"dataframe\">\n",
       "  <thead>\n",
       "    <tr style=\"text-align: right;\">\n",
       "      <th></th>\n",
       "      <th>N</th>\n",
       "      <th>y</th>\n",
       "      <th>x</th>\n",
       "      <th>id</th>\n",
       "    </tr>\n",
       "  </thead>\n",
       "  <tbody>\n",
       "    <tr>\n",
       "      <th>count</th>\n",
       "      <td>100.0</td>\n",
       "      <td>100.000000</td>\n",
       "      <td>100.000000</td>\n",
       "      <td>100.000000</td>\n",
       "    </tr>\n",
       "    <tr>\n",
       "      <th>mean</th>\n",
       "      <td>8.0</td>\n",
       "      <td>3.810000</td>\n",
       "      <td>4.000000</td>\n",
       "      <td>50.500000</td>\n",
       "    </tr>\n",
       "    <tr>\n",
       "      <th>std</th>\n",
       "      <td>0.0</td>\n",
       "      <td>3.070534</td>\n",
       "      <td>1.421338</td>\n",
       "      <td>29.011492</td>\n",
       "    </tr>\n",
       "    <tr>\n",
       "      <th>min</th>\n",
       "      <td>8.0</td>\n",
       "      <td>0.000000</td>\n",
       "      <td>2.000000</td>\n",
       "      <td>1.000000</td>\n",
       "    </tr>\n",
       "    <tr>\n",
       "      <th>25%</th>\n",
       "      <td>8.0</td>\n",
       "      <td>1.000000</td>\n",
       "      <td>3.000000</td>\n",
       "      <td>25.750000</td>\n",
       "    </tr>\n",
       "    <tr>\n",
       "      <th>50%</th>\n",
       "      <td>8.0</td>\n",
       "      <td>3.000000</td>\n",
       "      <td>4.000000</td>\n",
       "      <td>50.500000</td>\n",
       "    </tr>\n",
       "    <tr>\n",
       "      <th>75%</th>\n",
       "      <td>8.0</td>\n",
       "      <td>7.000000</td>\n",
       "      <td>5.000000</td>\n",
       "      <td>75.250000</td>\n",
       "    </tr>\n",
       "    <tr>\n",
       "      <th>max</th>\n",
       "      <td>8.0</td>\n",
       "      <td>8.000000</td>\n",
       "      <td>6.000000</td>\n",
       "      <td>100.000000</td>\n",
       "    </tr>\n",
       "  </tbody>\n",
       "</table>\n",
       "</div>"
      ],
      "text/plain": [
       "           N           y           x          id\n",
       "count  100.0  100.000000  100.000000  100.000000\n",
       "mean     8.0    3.810000    4.000000   50.500000\n",
       "std      0.0    3.070534    1.421338   29.011492\n",
       "min      8.0    0.000000    2.000000    1.000000\n",
       "25%      8.0    1.000000    3.000000   25.750000\n",
       "50%      8.0    3.000000    4.000000   50.500000\n",
       "75%      8.0    7.000000    5.000000   75.250000\n",
       "max      8.0    8.000000    6.000000  100.000000"
      ]
     },
     "execution_count": 5,
     "metadata": {},
     "output_type": "execute_result"
    }
   ],
   "source": [
    "d.describe()"
   ]
  },
  {
   "cell_type": "code",
   "execution_count": 11,
   "metadata": {},
   "outputs": [
    {
     "data": {
      "text/plain": [
       "<matplotlib.collections.PathCollection at 0x10b421a58>"
      ]
     },
     "execution_count": 11,
     "metadata": {},
     "output_type": "execute_result"
    },
    {
     "data": {
      "image/png": "[encoded data removed]",
      "text/plain": [
       "<matplotlib.figure.Figure at 0x10b347b70>"
      ]
     },
     "metadata": {},
     "output_type": "display_data"
    }
   ],
   "source": [
    "# そのまま散布図にすると点が重なってしまい数の多さがわからないため、\n",
    "# 正規分布のズレを加えている。\n",
    "d[\"x_bure\"] = np.random.normal(loc=0,scale=0.1,size=100)\n",
    "plt.scatter(d.x+d.x_bure,d.y)"
   ]
  },
  {
   "cell_type": "markdown",
   "metadata": {},
   "source": [
    "* 第6章と同じように、GLMを使って、データから種子の生存確率を推定してみる。"
   ]
  },
  {
   "cell_type": "markdown",
   "metadata": {},
   "source": [
    "### GLMのあてはめ"
   ]
  },
  {
   "cell_type": "markdown",
   "metadata": {},
   "source": [
    "* 「$N$個のうち$y$個が生存していた」といった構造のカウントデータは二項分布を用いる。\n",
    "* 二項分布を使ったGLMの一つであるロジスティック回帰の統計モデルを用いる。\n",
    "* ロジスティック回帰ではリンク関数はロジットリンク関数。"
   ]
  },
  {
   "cell_type": "code",
   "execution_count": 12,
   "metadata": {
    "collapsed": true
   },
   "outputs": [],
   "source": [
    "import statsmodels.api as sm\n",
    "import statsmodels.formula.api as smf\n",
    "model = smf.glm('y + I(N-y)~ x',data=d,family=sm.families.Binomial())"
   ]
  },
  {
   "cell_type": "code",
   "execution_count": 13,
   "metadata": {},
   "outputs": [
    {
     "data": {
      "text/html": [
       "<table class=\"simpletable\">\n",
       "<caption>Generalized Linear Model Regression Results</caption>\n",
       "<tr>\n",
       "  <th>Dep. Variable:</th>  <td>['y', 'I(N - y)']</td> <th>  No. Observations:  </th>  <td>   100</td> \n",
       "</tr>\n",
       "<tr>\n",
       "  <th>Model:</th>                 <td>GLM</td>        <th>  Df Residuals:      </th>  <td>    98</td> \n",
       "</tr>\n",
       "<tr>\n",
       "  <th>Model Family:</th>       <td>Binomial</td>      <th>  Df Model:          </th>  <td>     1</td> \n",
       "</tr>\n",
       "<tr>\n",
       "  <th>Link Function:</th>        <td>logit</td>       <th>  Scale:             </th>    <td>1.0</td>  \n",
       "</tr>\n",
       "<tr>\n",
       "  <th>Method:</th>               <td>IRLS</td>        <th>  Log-Likelihood:    </th> <td> -322.80</td>\n",
       "</tr>\n",
       "<tr>\n",
       "  <th>Date:</th>           <td>Wed, 28 Jun 2017</td>  <th>  Deviance:          </th> <td>  513.84</td>\n",
       "</tr>\n",
       "<tr>\n",
       "  <th>Time:</th>               <td>23:52:57</td>      <th>  Pearson chi2:      </th>  <td>  53.5</td> \n",
       "</tr>\n",
       "<tr>\n",
       "  <th>No. Iterations:</th>         <td>4</td>         <th>                     </th>     <td> </td>   \n",
       "</tr>\n",
       "</table>\n",
       "<table class=\"simpletable\">\n",
       "<tr>\n",
       "      <td></td>         <th>coef</th>     <th>std err</th>      <th>z</th>      <th>P>|z|</th>  <th>[0.025</th>    <th>0.975]</th>  \n",
       "</tr>\n",
       "<tr>\n",
       "  <th>Intercept</th> <td>   -2.1487</td> <td>    0.237</td> <td>   -9.057</td> <td> 0.000</td> <td>   -2.614</td> <td>   -1.684</td>\n",
       "</tr>\n",
       "<tr>\n",
       "  <th>x</th>         <td>    0.5104</td> <td>    0.056</td> <td>    9.179</td> <td> 0.000</td> <td>    0.401</td> <td>    0.619</td>\n",
       "</tr>\n",
       "</table>"
      ],
      "text/plain": [
       "<class 'statsmodels.iolib.summary.Summary'>\n",
       "\"\"\"\n",
       "                 Generalized Linear Model Regression Results                  \n",
       "==============================================================================\n",
       "Dep. Variable:      ['y', 'I(N - y)']   No. Observations:                  100\n",
       "Model:                            GLM   Df Residuals:                       98\n",
       "Model Family:                Binomial   Df Model:                            1\n",
       "Link Function:                  logit   Scale:                             1.0\n",
       "Method:                          IRLS   Log-Likelihood:                -322.80\n",
       "Date:                Wed, 28 Jun 2017   Deviance:                       513.84\n",
       "Time:                        23:52:57   Pearson chi2:                     53.5\n",
       "No. Iterations:                     4                                         \n",
       "==============================================================================\n",
       "                 coef    std err          z      P>|z|      [0.025      0.975]\n",
       "------------------------------------------------------------------------------\n",
       "Intercept     -2.1487      0.237     -9.057      0.000      -2.614      -1.684\n",
       "x              0.5104      0.056      9.179      0.000       0.401       0.619\n",
       "==============================================================================\n",
       "\"\"\""
      ]
     },
     "execution_count": 13,
     "metadata": {},
     "output_type": "execute_result"
    }
   ],
   "source": [
    "result = model.fit()\n",
    "result.summary()"
   ]
  },
  {
   "cell_type": "code",
   "execution_count": 16,
   "metadata": {},
   "outputs": [
    {
     "data": {
      "text/plain": [
       "[<matplotlib.lines.Line2D at 0x10b4e8fd0>]"
      ]
     },
     "execution_count": 16,
     "metadata": {},
     "output_type": "execute_result"
    },
    {
     "data": {
      "image/png": "[encoded data removed]",
      "text/plain": [
       "<matplotlib.figure.Figure at 0x10b25fba8>"
      ]
     },
     "metadata": {},
     "output_type": "display_data"
    }
   ],
   "source": [
    "df_test = pd.DataFrame()\n",
    "df_test[\"x\"]=np.arange(2,6,0.1)\n",
    "plt.scatter(d.x+d.x_bure,d.y)\n",
    "plt.plot(df_test.x,result.predict(df_test)*8,c=\"red\")"
   ]
  },
  {
   "cell_type": "markdown",
   "metadata": {},
   "source": [
    "* 真のモデルと異なる結果となった。\n",
    "* 改めて、データを確認してみよう。$x_i=4$である20個体の生存種子数は下記。"
   ]
  },
  {
   "cell_type": "code",
   "execution_count": 17,
   "metadata": {},
   "outputs": [
    {
     "data": {
      "text/plain": [
       "y\n",
       "0    3\n",
       "1    1\n",
       "2    4\n",
       "3    2\n",
       "4    1\n",
       "5    1\n",
       "6    2\n",
       "7    3\n",
       "8    3\n",
       "Name: N, dtype: int64"
      ]
     },
     "execution_count": 17,
     "metadata": {},
     "output_type": "execute_result"
    }
   ],
   "source": [
    "d[d.x == 4].groupby([d.y]).count()[\"N\"]"
   ]
  },
  {
   "cell_type": "markdown",
   "metadata": {},
   "source": [
    "### 図7.3.(B)を作成する（できてない）"
   ]
  },
  {
   "cell_type": "code",
   "execution_count": 66,
   "metadata": {
    "collapsed": true
   },
   "outputs": [],
   "source": [
    "from collections import Counter\n",
    "df_test_2 = pd.DataFrame()\n",
    "df_test_2[\"x\"]= np.array([4])\n",
    "p = result.predict(df_test_2)\n",
    "# binomi = np.random.binomial(n=8,p=p,size=10000)\n",
    "# ys,counts = zip(*Counter(binomi).items())\n",
    "# indexes=np.arange(len(ys))"
   ]
  },
  {
   "cell_type": "code",
   "execution_count": null,
   "metadata": {
    "collapsed": true
   },
   "outputs": [],
   "source": [
    "import scipy.misc as scm\n",
    "p_list = list()\n",
    "for i in range(9):\n",
    "    p_list.append(scm(8,i,1)*)"
   ]
  },
  {
   "cell_type": "code",
   "execution_count": 67,
   "metadata": {},
   "outputs": [
    {
     "data": {
      "text/plain": [
       "(0, 6)"
      ]
     },
     "execution_count": 67,
     "metadata": {},
     "output_type": "execute_result"
    },
    {
     "data": {
      "image/png": "[encoded data removed]",
      "text/plain": [
       "<matplotlib.figure.Figure at 0x10c7b75c0>"
      ]
     },
     "metadata": {},
     "output_type": "display_data"
    }
   ],
   "source": [
    "plt.plot(d[d.x == 4].groupby([d.y]).count()[\"N\"].index,d[d.x == 4].groupby([d.y]).count(),\"o\")\n",
    "plt.plot(indexes,np.array(counts)/500,)\n",
    "plt.ylim(0,6)"
   ]
  },
  {
   "cell_type": "markdown",
   "metadata": {},
   "source": [
    "* 見て見ると二項分布に従ってはいないようだ。"
   ]
  },
  {
   "cell_type": "markdown",
   "metadata": {},
   "source": [
    "## 7.2 過分散と個体差"
   ]
  },
  {
   "cell_type": "markdown",
   "metadata": {},
   "source": [
    "* 「N個のうちy個が生存した」というカウントデータを扱っているのに、そのばらつきが二項分布で説明できないように見える。\n",
    "* 二項分布で期待されるよりも大きなばらつきを過分散（または過大分散,overdispresion)と言う。"
   ]
  },
  {
   "cell_type": "markdown",
   "metadata": {},
   "source": [
    "### 7.2.1. 過分散：ばらつきが大きすぎる"
   ]
  },
  {
   "cell_type": "markdown",
   "metadata": {},
   "source": [
    "* 葉数$x_i=4$の個体の生存種子数のデータが、どのように「二項分布に合っていない」のかを調べる。"
   ]
  },
  {
   "cell_type": "code",
   "execution_count": 8,
   "metadata": {
    "collapsed": true
   },
   "outputs": [],
   "source": [
    "d_4 = pd.DataFrame()\n",
    "d_4 = d[d.x==4]\n",
    "# d_4[\"seizon\"] = d[d.x == 4].groupby([d.y]).count()[\"N\"].index\n",
    "# d_4[\"samplesuu\"] = d[d.x == 4].groupby([d.y]).count()[\"N\"].values"
   ]
  },
  {
   "cell_type": "code",
   "execution_count": 10,
   "metadata": {},
   "outputs": [
    {
     "data": {
      "text/plain": [
       "[<matplotlib.lines.Line2D at 0x10b024c88>]"
      ]
     },
     "execution_count": 10,
     "metadata": {},
     "output_type": "execute_result"
    },
    {
     "data": {
      "image/png": "[encoded data removed]",
      "text/plain": [
       "<matplotlib.figure.Figure at 0x10a539e80>"
      ]
     },
     "metadata": {},
     "output_type": "display_data"
    }
   ],
   "source": [
    "plt.plot(d[d.x == 4].groupby([d.y]).count()[\"N\"].index,d[d.x == 4].groupby([d.y]).count()[\"N\"].values)"
   ]
  },
  {
   "cell_type": "markdown",
   "metadata": {},
   "source": [
    "* 平均と分散を調べる。"
   ]
  },
  {
   "cell_type": "code",
   "execution_count": 12,
   "metadata": {},
   "outputs": [
    {
     "data": {
      "text/html": [
       "<div>\n",
       "<style>\n",
       "    .dataframe thead tr:only-child th {\n",
       "        text-align: right;\n",
       "    }\n",
       "\n",
       "    .dataframe thead th {\n",
       "        text-align: left;\n",
       "    }\n",
       "\n",
       "    .dataframe tbody tr th {\n",
       "        vertical-align: top;\n",
       "    }\n",
       "</style>\n",
       "<table border=\"1\" class=\"dataframe\">\n",
       "  <thead>\n",
       "    <tr style=\"text-align: right;\">\n",
       "      <th></th>\n",
       "      <th>N</th>\n",
       "      <th>y</th>\n",
       "      <th>x</th>\n",
       "      <th>id</th>\n",
       "    </tr>\n",
       "  </thead>\n",
       "  <tbody>\n",
       "    <tr>\n",
       "      <th>40</th>\n",
       "      <td>8</td>\n",
       "      <td>6</td>\n",
       "      <td>4</td>\n",
       "      <td>41</td>\n",
       "    </tr>\n",
       "    <tr>\n",
       "      <th>41</th>\n",
       "      <td>8</td>\n",
       "      <td>2</td>\n",
       "      <td>4</td>\n",
       "      <td>42</td>\n",
       "    </tr>\n",
       "    <tr>\n",
       "      <th>42</th>\n",
       "      <td>8</td>\n",
       "      <td>0</td>\n",
       "      <td>4</td>\n",
       "      <td>43</td>\n",
       "    </tr>\n",
       "    <tr>\n",
       "      <th>43</th>\n",
       "      <td>8</td>\n",
       "      <td>5</td>\n",
       "      <td>4</td>\n",
       "      <td>44</td>\n",
       "    </tr>\n",
       "    <tr>\n",
       "      <th>44</th>\n",
       "      <td>8</td>\n",
       "      <td>6</td>\n",
       "      <td>4</td>\n",
       "      <td>45</td>\n",
       "    </tr>\n",
       "  </tbody>\n",
       "</table>\n",
       "</div>"
      ],
      "text/plain": [
       "    N  y  x  id\n",
       "40  8  6  4  41\n",
       "41  8  2  4  42\n",
       "42  8  0  4  43\n",
       "43  8  5  4  44\n",
       "44  8  6  4  45"
      ]
     },
     "execution_count": 12,
     "metadata": {},
     "output_type": "execute_result"
    }
   ],
   "source": [
    "d_4.head()"
   ]
  },
  {
   "cell_type": "code",
   "execution_count": 13,
   "metadata": {},
   "outputs": [
    {
     "data": {
      "text/plain": [
       "count    20.000000\n",
       "mean      4.050000\n",
       "std       2.892367\n",
       "min       0.000000\n",
       "25%       2.000000\n",
       "50%       3.500000\n",
       "75%       7.000000\n",
       "max       8.000000\n",
       "Name: y, dtype: float64"
      ]
     },
     "execution_count": 13,
     "metadata": {},
     "output_type": "execute_result"
    }
   ],
   "source": [
    "d_4.y.describe()"
   ]
  },
  {
   "cell_type": "code",
   "execution_count": 23,
   "metadata": {},
   "outputs": [
    {
     "data": {
      "text/plain": [
       "8.3657894736842131"
      ]
     },
     "execution_count": 23,
     "metadata": {},
     "output_type": "execute_result"
    }
   ],
   "source": [
    "d_4.y.describe()[\"std\"]**2"
   ]
  },
  {
   "cell_type": "code",
   "execution_count": 24,
   "metadata": {
    "collapsed": true
   },
   "outputs": [],
   "source": [
    "# heikin = (d_4.seizon * d_4.samplesuu).sum() / d_4.samplesuu.sum()\n",
    "# heikin\n",
    "# (((d_4.seizon - heikin) ** 2) * d_4.samplesuu).sum()/d_4.samplesuu.sum()"
   ]
  },
  {
   "cell_type": "markdown",
   "metadata": {},
   "source": [
    "* (よくわからない。）生存確率の平均は$4.05/8=0.5$ぐらい。二項分布に従うのであれば、その分散は、$8\\times0.5\\times(1-0.5)=2$ぐらいとなるはず（よくわからない）。上記だと分散は$8.37$となっており比較的大きくなっている。\n",
    "* このデータは二項分布と呼ぶには「ばらつきが大きすぎる」ので、二項分布を使っては説明できないだろうということです。"
   ]
  },
  {
   "cell_type": "markdown",
   "metadata": {
    "collapsed": true
   },
   "source": [
    "### 7.2.2. 観測されていない個体差がもたらす過分散"
   ]
  },
  {
   "cell_type": "markdown",
   "metadata": {},
   "source": [
    "* 単純な二項分布モデルからのずれの原因の一つとして、観測されていない個体差があげられる。\n",
    "* 個体差があれば過分散は生じうる。\n",
    "* 過分散は現象の状態を記述しているのではなく、統計モデリングしている人間の錯誤を表している。\n",
    "    * 「この個体たちは皆均質」という過程を設け、「二項分布で説明できう」と期待したのに、失敗した、ということ。"
   ]
  },
  {
   "cell_type": "markdown",
   "metadata": {},
   "source": [
    "### 7.2.3. 観測されていない個体差"
   ]
  },
  {
   "cell_type": "markdown",
   "metadata": {},
   "source": [
    "Q. 個体差とは？"
   ]
  },
  {
   "cell_type": "markdown",
   "metadata": {},
   "source": [
    "A.\n",
    "* データとしては定量化も識別もされていないけれど、「各個体（観測の単位）の何かに起因している様に見える差」\n",
    "\n",
    "---"
   ]
  },
  {
   "cell_type": "markdown",
   "metadata": {},
   "source": [
    "* 個体差をもたらしうる要因は少なくとも2種類ある\n",
    "* 生物的な要因\n",
    "    * 個体の遺伝子、年齢や過去に経験した履歴の相違\n",
    "* 非生物的な要因\n",
    "    * 生育環境の微妙な違い\n",
    "    * 非生物的な局所環境の影響のことを、この本では場所差、あるいはブロック差と呼ぶ。"
   ]
  },
  {
   "cell_type": "markdown",
   "metadata": {},
   "source": [
    "Q. 個体差、場所差は識別できるか？"
   ]
  },
  {
   "cell_type": "markdown",
   "metadata": {},
   "source": [
    "A.\n",
    "* 例えば、1個体ずつ植木鉢に植えている場合、その個体差と植木鉢の差は識別できない。\n",
    "\n",
    "---"
   ]
  },
  {
   "cell_type": "markdown",
   "metadata": {},
   "source": [
    "* 個体に影響を与えている要因すべてを定量・特定することは不可能。個体差や場所差を原因不明のまま、統計モデルを作る必要がある。"
   ]
  },
  {
   "cell_type": "markdown",
   "metadata": {},
   "source": [
    "## 7.3. 一般化線形混合モデル"
   ]
  },
  {
   "cell_type": "markdown",
   "metadata": {},
   "source": [
    "Q. 一般化線形混合モデル（GLMM）とは？"
   ]
  },
  {
   "cell_type": "markdown",
   "metadata": {},
   "source": [
    "A.\n",
    "* 個体差や場所差の効果をGLMに組み込んだ統計モデル\n",
    "\n",
    "---"
   ]
  },
  {
   "cell_type": "markdown",
   "metadata": {},
   "source": [
    "### 7.3.1.個体差を表すパラメータの追加"
   ]
  },
  {
   "cell_type": "markdown",
   "metadata": {},
   "source": [
    "* 架空植物の種子の生存確率$q_i$を表す式に、個体$i$の個体差を表すパラメーター$r_i$を追加する。\n",
    " $$\n",
    " logit(q_i) = \\beta_1+\\beta_2 x_i + r_i\n",
    " $$"
   ]
  },
  {
   "cell_type": "markdown",
   "metadata": {},
   "source": [
    "* 「観測されていない個体差などない」と仮定しているGLMは、種子数を調査した全個体で$r_i=0$と設定していることになる。"
   ]
  },
  {
   "cell_type": "markdown",
   "metadata": {},
   "source": [
    "### 7.3.2. 個体差のばらつきを表す確率分布"
   ]
  },
  {
   "cell_type": "markdown",
   "metadata": {},
   "source": [
    "Q. GLMMの特徴は？"
   ]
  },
  {
   "cell_type": "markdown",
   "metadata": {},
   "source": [
    "A.\n",
    "* 個体差を表すパラメーター{$r_1,r_3,\\cdots,r_{100}$}が何か確率分布に従っていると仮定するところ。\n",
    "\n",
    "---"
   ]
  },
  {
   "cell_type": "markdown",
   "metadata": {},
   "source": [
    "* ここではとりあえず、個体差$r_i$は平均0で標準偏差$s$の正規分布に従うと仮定して見る。正規分布である根拠は何もなく、どの様な確率分布に従うかわからないが、便利なのでそうする。\n",
    "* 各個体の$r_i$は個体間で相互に独立した確率変数であると仮定すると、確率密度関数は下記。\n",
    "$$\n",
    "p(r_i | s)= \\frac {1} {\\sqrt {2\\pi s^2}} \\exp \\left(- \\frac {r_{i}^2} {2s^2}\\right)\n",
    "$$\n",
    "* 確率密度$p(r_i|s)$は$r_i$の「出現しやすさ」を表している。\n",
    "    * $r_i$が$0$に近い個体はわりと「ありがち」。絶対値が大きな個体は「あまりいない」\n",
    "    \n",
    "* 標準偏差$s$は「集団内の$r_i$のばらつき」を表している。\n",
    "    * $s$が大きければ大きいほど、個体差は大きくなり、過分散がひどくなる。"
   ]
  },
  {
   "cell_type": "markdown",
   "metadata": {},
   "source": [
    "### 7.3.3. 線形予測子の構成要素：固定効果とランダム効果"
   ]
  },
  {
   "cell_type": "markdown",
   "metadata": {},
   "source": [
    "\n",
    "Q. 一般化線形 **混合** モデル（GLMM)という名前の「混合」とは何か？"
   ]
  },
  {
   "cell_type": "markdown",
   "metadata": {},
   "source": [
    "A.\n",
    "* 線形予測子に、固定効果とランダム効果の表す項を持っているもの。\n",
    "\n",
    "---"
   ]
  },
  {
   "cell_type": "markdown",
   "metadata": {},
   "source": [
    "* 固定効果とランダム効果といった分類はわかりにくい。パラメーターにはデータのかなり広い範囲を説明する大域的なものと、ごく一部だけを担当している局所的なものがあると整理して統計モデルを作るのが良いかも。"
   ]
  },
  {
   "cell_type": "markdown",
   "metadata": {},
   "source": [
    "## 7.4. 一般化線形混合モデルの最尤推定"
   ]
  },
  {
   "cell_type": "markdown",
   "metadata": {},
   "source": [
    "* GLMMに含まれている個体差$r_i$は最尤推定できない。\n",
    "* 理由は、{$r_1,r_2,\\cdots,r_{100}$}の100個のパラメーターと、{$\\beta_1,\\beta_2,s$}の3個のパラメーター合わせて103個を100個のデータから推測するのはナンセンス。\n",
    "* この様な場合の対応策の1つが、**個体ごとの尤度**$L_i$の式の中で、$r_i$を積分すること。（それ以外の対応策は8章で扱う）\n",
    "$$\n",
    "L_i = \\int_{-\\infty}^{\\infty} p(y_i|\\beta_1,\\beta_2,r_i) p(r_i|s)dr_i\n",
    "$$\n",
    "* この様にすると、尤度から$r_i$は消えてしまう。\n",
    "    * 色々な$r_i$の値における尤度を評価し、その期待値の算出をしている。\n",
    "* 尤度$L_i$を評価するときに、二項分布$p(y_i|\\beta_1,\\beta_2,r_i)$と正規分布をかけて$r_i$で積分する操作は、「2種類の分布を混ぜていること」に相当。\n",
    "* 無限個の二項分布を混ぜることで、平均よりも分散の大きい過分散な確率分布を作り出せる。\n",
    "    * サンプルサイズは有限個だが、無限個の二項分布を混ぜる。"
   ]
  },
  {
   "cell_type": "markdown",
   "metadata": {
    "collapsed": true
   },
   "source": [
    "* 確率分布を混ぜて新しい確率分布を作る、というのは、統計モデル作りの基本的な技法の1つ\n",
    "* 全データの尤度は$L_i$の100個体分の積なので、$$L(\\beta_1,\\beta_2,s)=\\prod_i L_i$$\n",
    "* 個体差$r_i$がどこにも入っていない対数尤度$\\log L(\\beta_1,\\beta_2,s)$が最大になる様なパラメータ$\\beta_1,\\beta_2,s$の最尤推定値を探すことになる。"
   ]
  },
  {
   "cell_type": "markdown",
   "metadata": {},
   "source": [
    "* （自分が理解してないので、推薦できるがわからないが、）線形混合モデルの可視化\n",
    "http://qiita.com/kenmatsu4/items/da59a6fccde0cee4ef49"
   ]
  },
  {
   "cell_type": "markdown",
   "metadata": {},
   "source": [
    "### 7.4.1. Rを使ってGLMMのパラメーターを推定"
   ]
  },
  {
   "cell_type": "markdown",
   "metadata": {},
   "source": [
    "* PythonにはGLMMのライブラリがない模様。\n",
    "* Chap7_4_1を参照"
   ]
  },
  {
   "cell_type": "markdown",
   "metadata": {},
   "source": [
    "## 7.5. 現実のデータ解析にはGLMMが必要"
   ]
  },
  {
   "cell_type": "markdown",
   "metadata": {},
   "source": [
    "Q. GLMMの様な考え方が必要になるかどうかの判断ポイントは？"
   ]
  },
  {
   "cell_type": "markdown",
   "metadata": {},
   "source": [
    "A. \n",
    "* 同じ個体・場所などからなんどもサンプリングしているか\n",
    "* 個体差や場所差が識別できてしまう様なデータのとり方をしているか"
   ]
  },
  {
   "cell_type": "markdown",
   "metadata": {},
   "source": [
    "### 7.5.1. 反復・擬似反復と統計モデルの関係"
   ]
  },
  {
   "cell_type": "markdown",
   "metadata": {},
   "source": [
    "* 個体差・場所差をどの様に統計モデルに組み込むかの方法は、「データをどのように取ったのか」に依存している。\n",
    "* 個体差・場所差が「見えてしまう」データの取り方をしているのかどうかが重要。"
   ]
  },
  {
   "cell_type": "markdown",
   "metadata": {},
   "source": [
    "#### 具体例\n",
    "* 植木鉢で育てられた植物から種子を取って生死を調べたとする。"
   ]
  },
  {
   "cell_type": "markdown",
   "metadata": {},
   "source": [
    "\n",
    "#### 各植木鉢に1つの個体、各個体で一つだけ種子の生死を調べた場合(図7.11(A))"
   ]
  },
  {
   "cell_type": "markdown",
   "metadata": {},
   "source": [
    "* 過分散生じない。\n",
    "* 個体差のばらつきも推定できない。\n",
    "* 個体差と植木鉢の区別がつかない。\n",
    "* このようなデータの取り方をすれば、統計モデルに個体差・場所差を入れようがない（？）ので、GLMMを使えない。\n",
    "* GLMで推定して問題ない\n",
    "* （滝沢コメント）同じ$x_i$でも、種子の生存数のばらつきが大きい場合、それはその植物において、$x_i$が説明変数として妥当でない、ということになる（？）"
   ]
  },
  {
   "cell_type": "markdown",
   "metadata": {},
   "source": [
    "* このようなデータの取り方を「**反復**」、あるいは「独立した反復」と呼ぶ。"
   ]
  },
  {
   "cell_type": "markdown",
   "metadata": {},
   "source": [
    "Q. 反復をとる目的は？"
   ]
  },
  {
   "cell_type": "markdown",
   "metadata": {},
   "source": [
    "A.\n",
    "* データから個体差・場所差の効果を除去し、GLMで推定するなど、統計モデルを簡単にすること。"
   ]
  },
  {
   "cell_type": "markdown",
   "metadata": {},
   "source": [
    "#### 各植木鉢に1つの個体、各個体から複数の種子の生死を調べた場合(図7.11(B))"
   ]
  },
  {
   "cell_type": "markdown",
   "metadata": {},
   "source": [
    "* 同じ個体から複数の種子を調べると、「この個体では種子がやたらと死んでいる」「こっちの個体は同じ$x_i$だけれど、生存確率が高いようだ」と言った事がデータから読み取れる。\n",
    "* 個体差を入れたGLMMを使えば、「個体差のばらつき」$s$が推定される。"
   ]
  },
  {
   "cell_type": "markdown",
   "metadata": {},
   "source": [
    "* 「個体から複数のデータを取る」という実験操作は「**擬似反復**」。「反復」に見えるが、個体差などを打ち消す反復になっていない。\n",
    "* 個体差が推定可能。個体差の影響を考慮しなければ、推定結果に偏りが生じる。\n",
    "* GLMMが必要。\n",
    "* 植木鉢は反復になっていて、個体に差があるのか植木鉢に差があるのか区別ができないので、植木鉢差だけを分離して推定できない。（上記の「個体差」に「植木鉢差」も含まれている。"
   ]
  },
  {
   "cell_type": "markdown",
   "metadata": {},
   "source": [
    "#### 各植木鉢に複数の個体、各個体から1つだけ種子の生死を調べた場合(図7.11(C))"
   ]
  },
  {
   "cell_type": "markdown",
   "metadata": {},
   "source": [
    "* 個体は反復\n",
    "\n",
    "* 植木鉢には複数の個体が入っているため、「こっちの植木鉢では死亡確率が高い」といった事が推定可能。"
   ]
  },
  {
   "cell_type": "markdown",
   "metadata": {},
   "source": [
    "#### 各植木鉢に複数の個体、各個体から複数の種子の生死を調べた場合(図7.11(D))"
   ]
  },
  {
   "cell_type": "markdown",
   "metadata": {},
   "source": [
    "* 個体も植木鉢も擬似反復。\n",
    "* 種子の生存確率は\n",
    "$$\n",
    "logit(q_i) = \\beta_1+ \\beta_2 x_i + r_i + r_j\n",
    "$$\n",
    "* 個体差・場所差を考慮しつつ、$\\beta_1$,$\\beta_2$に加えて、個体差・場所差それぞれのばらつきの大きさを最尤推定するのは、数値計算の問題としては難しい。\n",
    "* このような時にはGLMMと最尤推定の組み合わせではなく、階層ベイズモデルとMCMCを使って統計モデルをデータに当てはめます(次章)\n",
    "* 擬似反復を正しく統計モデリングすれば、個体差・場所差を定量化できる。"
   ]
  },
  {
   "cell_type": "markdown",
   "metadata": {},
   "source": [
    "## 7.6. 色々な分布のGLMM"
   ]
  },
  {
   "cell_type": "markdown",
   "metadata": {},
   "source": [
    "* ポアソン分布\n",
    "    * 正規分布と混ぜ合わせる事が多い\n",
    "    * ガンマ分布と混ぜ合わされた、負の二項分布\n",
    "* 観測データのばらつきが正規分布やガンマ分布である時には過分散を定義することはできない。\n",
    "    * これらの確率分布は平均とは独立に分散を決められる\n",
    "        * 分散が大きければ、正規分布・ガンマ分布の中で、分散を大きくすれば良い（？）。\n",
    "* GLMMが必要になるかどうかの本質は、過分散の有無ではなく、「1個体から何度もデータを取る」ような擬似反復が含まれているかどうかで決まる。\n",
    "* データのばらつきが正規分布やガンマ分布である時にも、サンプリングが擬似反復になっている可能性がある場合には、GLMMのように、個体差・場所差を考慮したモデルを当てはめなければならない。\n",
    "* 分布は正規分布で恒等リンク関数とする統計モデルは線形混合モデルと呼ばれる事がある。"
   ]
  },
  {
   "cell_type": "markdown",
   "metadata": {},
   "source": [
    "## 7.7. この章のまとめと参考文献"
   ]
  },
  {
   "cell_type": "markdown",
   "metadata": {},
   "source": [
    "* 「観測されなかった個体差」を組み込んだGLMである、一般化線形混合モデル(GLMM)を扱った。\n",
    "* GLMがあてはまらない場合がある。\n",
    "* それは「説明変数が同じならどの個体も均質」と仮定していたGLMが誤り。個体差があり、実際には二項分布で期待されるより過分散。\n",
    "* GLMMは線形予測子に個体差のばらつき$r_i$を追加し、全個体の$r_i$がある確率分布に従うと仮定した統計モデル。\n",
    "* 積分によって$r_i$を消去した尤度を最大化する事で、GLMMの$beta$,$r_i$のばらつきといった、大域的なパラメータを最尤推定できる。\n",
    "* 擬似反復(一つの個体から複数データ、一つの場所に多数の個体）では、個体差・場所差を組み込んだGLMMが必要。\n",
    "* データのばらつきを表す確率分布に依らず、個体差・場所差に影響されるデータであれば、これらの効果をランダム効果として組み込んだ統計モデルで推定しなければならない。"
   ]
  },
  {
   "cell_type": "markdown",
   "metadata": {},
   "source": [
    "* 「人間には観測できなかった・できない、しかし観測データにばらつきをもたらす」要因を組み込んだ統計モデリングは重要。\n",
    "* 個体差＋場所差の統計モデル（第10章）\n",
    "* 空間相関のある場所差を考慮した統計モデル(第11章）"
   ]
  }
 ],
 "metadata": {
  "kernelspec": {
   "display_name": "Python 3",
   "language": "python",
   "name": "python3"
  },
  "language_info": {
   "codemirror_mode": {
    "name": "ipython",
    "version": 3
   },
   "file_extension": ".py",
   "mimetype": "text/x-python",
   "name": "python",
   "nbconvert_exporter": "python",
   "pygments_lexer": "ipython3",
   "version": "3.6.0"
  }
 },
 "nbformat": 4,
 "nbformat_minor": 2
}
